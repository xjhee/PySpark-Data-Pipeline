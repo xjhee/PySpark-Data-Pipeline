{
 "cells": [
  {
   "cell_type": "markdown",
   "metadata": {},
   "source": [
    "## Commands\n",
    "- To run Mongodb: \n",
    "    - terminal1: sudo mongod --dbpath /System/Volumes/Data/data/db\n",
    "    - terminal2: mongo\n",
    "    - terminal3: pyspark --conf \"spark.mongodb.input.uri=mongodb://127.0.0.1/Quake.quakes?readPreference=primaryPreferred\" --conf \"spark.mongodb.output.uri=mongodb://127.0.0.1/Quake.quakes\" --packages org.mongodb.spark:mongo-spark-connector_2.12:2.4.1\n",
    "    \n",
    "    \n",
    "    Source: https://stackoverflow.com/questions/58034955/read-only-file-system-when-attempting-mkdir-data-db-on-mac"
   ]
  },
  {
   "cell_type": "markdown",
   "metadata": {},
   "source": [
    "## Test if pyspark is working on Jupyter notebook"
   ]
  },
  {
   "cell_type": "code",
   "execution_count": 1,
   "metadata": {},
   "outputs": [],
   "source": [
    "import findspark\n",
    "findspark.init()"
   ]
  },
  {
   "cell_type": "code",
   "execution_count": 2,
   "metadata": {},
   "outputs": [],
   "source": [
    "import pyspark\n",
    "from pyspark.sql import SparkSession\n"
   ]
  },
  {
   "cell_type": "code",
   "execution_count": 3,
   "metadata": {},
   "outputs": [
    {
     "name": "stdout",
     "output_type": "stream",
     "text": [
      "+-----+\n",
      "|hello|\n",
      "+-----+\n",
      "|spark|\n",
      "+-----+\n",
      "\n"
     ]
    }
   ],
   "source": [
    "spark = SparkSession.builder.getOrCreate()\n",
    "\n",
    "df = spark.sql(\"select 'spark' as hello\")\n",
    "\n",
    "df.show()"
   ]
  },
  {
   "cell_type": "markdown",
   "metadata": {},
   "source": [
    "## Data exploration"
   ]
  },
  {
   "cell_type": "code",
   "execution_count": 6,
   "metadata": {},
   "outputs": [],
   "source": [
    "import findspark\n",
    "findspark.init()"
   ]
  },
  {
   "cell_type": "code",
   "execution_count": 7,
   "metadata": {},
   "outputs": [],
   "source": [
    "import pyspark\n",
    "from pyspark.sql import SparkSession\n",
    "from pyspark.sql.types import *  #detect datasets\n",
    "from pyspark.sql.functions import * #datatype conversion\n",
    "\n",
    "\n",
    "# Configure spark session\n",
    "spark = SparkSession \\\n",
    "        .builder \\\n",
    "        .master('local[2]') \\\n",
    "        .appName('quake_etl') \\\n",
    "        .config('spark.jars.packages', 'org.mongodb.spark:mongo-spark-connector_2.12:2.4.1') \\\n",
    "        .getOrCreate()\n"
   ]
  },
  {
   "cell_type": "code",
   "execution_count": 8,
   "metadata": {},
   "outputs": [
    {
     "data": {
      "text/plain": [
       "[Row(Date='01/02/1965', Time='13:44:18', Latitude='19.246', Longitude='145.616', Type='Earthquake', Depth='131.6', Depth Error=None, Depth Seismic Stations=None, Magnitude='6', Magnitude Type='MW', Magnitude Error=None, Magnitude Seismic Stations=None, Azimuthal Gap=None, Horizontal Distance=None, Horizontal Error=None, Root Mean Square=None, ID='ISCGEM860706', Source='ISCGEM', Location Source='ISCGEM', Magnitude Source='ISCGEM', Status='Automatic')]"
      ]
     },
     "execution_count": 8,
     "metadata": {},
     "output_type": "execute_result"
    }
   ],
   "source": [
    "# Load dataset\n",
    "path = '/Users/clairehe/Documents/Data-pipeline-project/database.csv'\n",
    "df_load = spark.read.csv(path, header = True)\n",
    "\n",
    "# Preview data\n",
    "df_load.take(1)"
   ]
  },
  {
   "cell_type": "code",
   "execution_count": 9,
   "metadata": {},
   "outputs": [
    {
     "name": "stdout",
     "output_type": "stream",
     "text": [
      "+----------+--------+---------+----------+-----+---------+--------------+------------+\n",
      "|      Date|Latitude|Longitude|      Type|Depth|Magnitude|Magnitude Type|          ID|\n",
      "+----------+--------+---------+----------+-----+---------+--------------+------------+\n",
      "|01/02/1965|  19.246|  145.616|Earthquake|131.6|        6|            MW|ISCGEM860706|\n",
      "|01/04/1965|   1.863|  127.352|Earthquake|   80|      5.8|            MW|ISCGEM860737|\n",
      "|01/05/1965| -20.579| -173.972|Earthquake|   20|      6.2|            MW|ISCGEM860762|\n",
      "|01/08/1965| -59.076|  -23.557|Earthquake|   15|      5.8|            MW|ISCGEM860856|\n",
      "|01/09/1965|  11.938|  126.427|Earthquake|   15|      5.8|            MW|ISCGEM860890|\n",
      "+----------+--------+---------+----------+-----+---------+--------------+------------+\n",
      "only showing top 5 rows\n",
      "\n"
     ]
    }
   ],
   "source": [
    "# Drop fields we don't need \n",
    "lst_dropped_columns = ['Depth Error', 'Time', 'Depth Seismic Stations', 'Magnitude Error', 'Magnitude Seismic Stations', 'Azimuthal Gap', 'Horizontal Distance', 'Horizontal Error', 'Root Mean Square', 'Source', 'Location Source', 'Magnitude Source', 'Status']\n",
    "\n",
    "df_load = df_load.drop(*lst_dropped_columns)\n",
    "df_load.show(5)\n"
   ]
  },
  {
   "cell_type": "code",
   "execution_count": 10,
   "metadata": {},
   "outputs": [
    {
     "name": "stdout",
     "output_type": "stream",
     "text": [
      "+----------+--------+---------+----------+-----+---------+--------------+------------+----+\n",
      "|      Date|Latitude|Longitude|      Type|Depth|Magnitude|Magnitude Type|          ID|Year|\n",
      "+----------+--------+---------+----------+-----+---------+--------------+------------+----+\n",
      "|01/02/1965|  19.246|  145.616|Earthquake|131.6|        6|            MW|ISCGEM860706|1965|\n",
      "|01/04/1965|   1.863|  127.352|Earthquake|   80|      5.8|            MW|ISCGEM860737|1965|\n",
      "|01/05/1965| -20.579| -173.972|Earthquake|   20|      6.2|            MW|ISCGEM860762|1965|\n",
      "|01/08/1965| -59.076|  -23.557|Earthquake|   15|      5.8|            MW|ISCGEM860856|1965|\n",
      "|01/09/1965|  11.938|  126.427|Earthquake|   15|      5.8|            MW|ISCGEM860890|1965|\n",
      "+----------+--------+---------+----------+-----+---------+--------------+------------+----+\n",
      "only showing top 5 rows\n",
      "\n"
     ]
    }
   ],
   "source": [
    "# Create a year field and add it to df\n",
    "df_load = df_load.withColumn('Year', year(to_timestamp('Date', 'dd/MM/yyyy')))  #extract year value from date\n",
    "df_load.show(5)\n"
   ]
  },
  {
   "cell_type": "code",
   "execution_count": 11,
   "metadata": {},
   "outputs": [
    {
     "name": "stdout",
     "output_type": "stream",
     "text": [
      "+----+------+\n",
      "|Year|Counts|\n",
      "+----+------+\n",
      "|1990|   196|\n",
      "|1975|   150|\n",
      "|1977|   148|\n",
      "|2003|   187|\n",
      "|2007|   211|\n",
      "+----+------+\n",
      "only showing top 5 rows\n",
      "\n"
     ]
    }
   ],
   "source": [
    "# Build the quakes frequency dataframe using the year field and count for each year\n",
    "df_quake_freq = df_load.groupBy('Year').count().withColumnRenamed('count', 'Counts')\n",
    "df_quake_freq.show(5)"
   ]
  },
  {
   "cell_type": "code",
   "execution_count": 12,
   "metadata": {},
   "outputs": [
    {
     "name": "stdout",
     "output_type": "stream",
     "text": [
      "root\n",
      " |-- Date: string (nullable = true)\n",
      " |-- Latitude: string (nullable = true)\n",
      " |-- Longitude: string (nullable = true)\n",
      " |-- Type: string (nullable = true)\n",
      " |-- Depth: string (nullable = true)\n",
      " |-- Magnitude: string (nullable = true)\n",
      " |-- Magnitude Type: string (nullable = true)\n",
      " |-- ID: string (nullable = true)\n",
      " |-- Year: integer (nullable = true)\n",
      "\n"
     ]
    }
   ],
   "source": [
    "# Preview df schema\n",
    "df_load.printSchema()"
   ]
  },
  {
   "cell_type": "code",
   "execution_count": 13,
   "metadata": {},
   "outputs": [
    {
     "name": "stdout",
     "output_type": "stream",
     "text": [
      "+----------+--------+---------+----------+-----+---------+--------------+------------+----+\n",
      "|      Date|Latitude|Longitude|      Type|Depth|Magnitude|Magnitude Type|          ID|Year|\n",
      "+----------+--------+---------+----------+-----+---------+--------------+------------+----+\n",
      "|01/02/1965|  19.246|  145.616|Earthquake|131.6|      6.0|            MW|ISCGEM860706|1965|\n",
      "|01/04/1965|   1.863|  127.352|Earthquake| 80.0|      5.8|            MW|ISCGEM860737|1965|\n",
      "|01/05/1965| -20.579| -173.972|Earthquake| 20.0|      6.2|            MW|ISCGEM860762|1965|\n",
      "|01/08/1965| -59.076|  -23.557|Earthquake| 15.0|      5.8|            MW|ISCGEM860856|1965|\n",
      "|01/09/1965|  11.938|  126.427|Earthquake| 15.0|      5.8|            MW|ISCGEM860890|1965|\n",
      "+----------+--------+---------+----------+-----+---------+--------------+------------+----+\n",
      "only showing top 5 rows\n",
      "\n"
     ]
    }
   ],
   "source": [
    "# Cast some feilds from string to numeric types\n",
    "df_load = df_load.withColumn('Latitude', df_load['Latitude'].cast(DoubleType())) \\\n",
    "            .withColumn('Longitude', df_load['Longitude'].cast(DoubleType())) \\\n",
    "            .withColumn('Depth', df_load['Depth'].cast(DoubleType())) \\\n",
    "            .withColumn('Magnitude', df_load['Magnitude'].cast(DoubleType()))\n",
    "df_load.show(5)"
   ]
  },
  {
   "cell_type": "code",
   "execution_count": 14,
   "metadata": {},
   "outputs": [
    {
     "name": "stdout",
     "output_type": "stream",
     "text": [
      "root\n",
      " |-- Date: string (nullable = true)\n",
      " |-- Latitude: double (nullable = true)\n",
      " |-- Longitude: double (nullable = true)\n",
      " |-- Type: string (nullable = true)\n",
      " |-- Depth: double (nullable = true)\n",
      " |-- Magnitude: double (nullable = true)\n",
      " |-- Magnitude Type: string (nullable = true)\n",
      " |-- ID: string (nullable = true)\n",
      " |-- Year: integer (nullable = true)\n",
      "\n"
     ]
    }
   ],
   "source": [
    "# Preview df schema\n",
    "df_load.printSchema()"
   ]
  },
  {
   "cell_type": "code",
   "execution_count": 15,
   "metadata": {},
   "outputs": [],
   "source": [
    "# Create avg magnitude and max magnitude fields and add to df_quake_freq\n",
    "df_max = df_load.groupBy('Year').max('Magnitude').withColumnRenamed('max(Magnitude)', 'Max_Magnitude')\n",
    "df_avg = df_load.groupBy('Year').avg('Magnitude').withColumnRenamed('avg(Magnitude)', 'Avg_Magnitude')"
   ]
  },
  {
   "cell_type": "code",
   "execution_count": 16,
   "metadata": {},
   "outputs": [
    {
     "name": "stdout",
     "output_type": "stream",
     "text": [
      "+----+------+-----------------+-------------+\n",
      "|Year|Counts|    Avg_Magnitude|Max_Magnitude|\n",
      "+----+------+-----------------+-------------+\n",
      "|1990|   196|5.858163265306125|          7.6|\n",
      "|1975|   150| 5.84866666666667|          7.8|\n",
      "|1977|   148|5.757432432432437|          7.6|\n",
      "|2003|   187|5.850802139037435|          7.6|\n",
      "|2007|   211| 5.89099526066351|          8.4|\n",
      "+----+------+-----------------+-------------+\n",
      "only showing top 5 rows\n",
      "\n"
     ]
    }
   ],
   "source": [
    "# Join df_max, df_avg, df_qiake_freq\n",
    "df_quake_freq = df_quake_freq.join(df_avg, ['Year']).join(df_max, ['Year'])\n",
    "df_quake_freq.show(5)"
   ]
  },
  {
   "cell_type": "code",
   "execution_count": 17,
   "metadata": {},
   "outputs": [
    {
     "data": {
      "text/plain": [
       "DataFrame[Year: int, Counts: bigint, Avg_Magnitude: double, Max_Magnitude: double]"
      ]
     },
     "execution_count": 17,
     "metadata": {},
     "output_type": "execute_result"
    }
   ],
   "source": [
    "# Remove nulls\n",
    "df_load.dropna()\n",
    "df_quake_freq.dropna()"
   ]
  },
  {
   "cell_type": "markdown",
   "metadata": {},
   "source": [
    "## Build dataframe into Mongodb"
   ]
  },
  {
   "cell_type": "code",
   "execution_count": 18,
   "metadata": {
    "scrolled": true
   },
   "outputs": [],
   "source": [
    "# Load database; if db dne, Mongodb will create a db\n",
    "# In this case, mongodb create a db called \"Quake\" with table named \"quakes\", and stored every data inside df_load\n",
    "df_load.write.format('mongo') \\\n",
    "    .mode('overwrite') \\\n",
    "    .option('spark.mongodb.output.uri', 'mongodb://127.0.0.1:27017/Quake.quakes').save()\n"
   ]
  },
  {
   "cell_type": "code",
   "execution_count": 19,
   "metadata": {},
   "outputs": [],
   "source": [
    "# Write df_quake_freq to mongodb\n",
    "df_quake_freq.write.format('mongo') \\\n",
    "    .mode('overwrite') \\\n",
    "    .option('spark.mongodb.output.uri', 'mongodb://127.0.0.1:27017/Quake.quake_freq').save()"
   ]
  },
  {
   "cell_type": "markdown",
   "metadata": {},
   "source": [
    "## Machine Learning Data prepration"
   ]
  },
  {
   "cell_type": "code",
   "execution_count": 20,
   "metadata": {},
   "outputs": [
    {
     "data": {
      "text/plain": [
       "[Row(time='2017-01-02T00:13:06.300Z', latitude='-36.0365', longitude='51.9288', depth='10', mag='5.7', magType='mwb', nst=None, gap='26', dmin='14.685', rms='1.37', net='us', id='us10007p5d', updated='2017-03-27T23:53:17.040Z', place='Southwest Indian Ridge', type='earthquake', horizontalError='10.3', depthError='1.7', magError='0.068', magNst='21', status='reviewed', locationSource='us', magSource='us')]"
      ]
     },
     "execution_count": 20,
     "metadata": {},
     "output_type": "execute_result"
    }
   ],
   "source": [
    "# Load test data file into df\n",
    "path_test = '/Users/clairehe/Documents/Data-pipeline-project/query.csv'\n",
    "df_test = spark.read.csv(path_test, header = True)\n",
    "df_test.take(1)"
   ]
  },
  {
   "cell_type": "code",
   "execution_count": 103,
   "metadata": {
    "scrolled": true
   },
   "outputs": [
    {
     "ename": "Py4JJavaError",
     "evalue": "An error occurred while calling o459.load.\n: com.mongodb.MongoTimeoutException: Timed out after 30000 ms while waiting to connect. Client view of cluster state is {type=UNKNOWN, servers=[{address=127.0.0.1:27017, type=UNKNOWN, state=CONNECTING, exception={com.mongodb.MongoSocketReadTimeoutException: Timeout while receiving message}, caused by {java.net.SocketTimeoutException: Read timed out}}]\n\tat com.mongodb.internal.connection.BaseCluster.getDescription(BaseCluster.java:182)\n\tat com.mongodb.internal.connection.SingleServerCluster.getDescription(SingleServerCluster.java:41)\n\tat com.mongodb.client.internal.MongoClientDelegate.getServerAddressList(MongoClientDelegate.java:116)\n\tat com.mongodb.Mongo.getServerAddressList(Mongo.java:407)\n\tat com.mongodb.spark.connection.MongoClientCache.$anonfun$logClient$1(MongoClientCache.scala:161)\n\tat com.mongodb.spark.LoggingTrait.logInfo(LoggingTrait.scala:48)\n\tat com.mongodb.spark.LoggingTrait.logInfo$(LoggingTrait.scala:47)\n\tat com.mongodb.spark.Logging.logInfo(Logging.scala:24)\n\tat com.mongodb.spark.connection.MongoClientCache.logClient(MongoClientCache.scala:161)\n\tat com.mongodb.spark.connection.MongoClientCache.acquire(MongoClientCache.scala:56)\n\tat com.mongodb.spark.MongoConnector.acquireClient(MongoConnector.scala:242)\n\tat com.mongodb.spark.MongoConnector.withMongoClientDo(MongoConnector.scala:155)\n\tat com.mongodb.spark.MongoConnector.withDatabaseDo(MongoConnector.scala:174)\n\tat com.mongodb.spark.MongoConnector.hasSampleAggregateOperator(MongoConnector.scala:237)\n\tat com.mongodb.spark.rdd.MongoRDD.hasSampleAggregateOperator$lzycompute(MongoRDD.scala:221)\n\tat com.mongodb.spark.rdd.MongoRDD.hasSampleAggregateOperator(MongoRDD.scala:221)\n\tat com.mongodb.spark.sql.MongoInferSchema$.apply(MongoInferSchema.scala:68)\n\tat com.mongodb.spark.sql.DefaultSource.constructRelation(DefaultSource.scala:97)\n\tat com.mongodb.spark.sql.DefaultSource.createRelation(DefaultSource.scala:50)\n\tat org.apache.spark.sql.execution.datasources.DataSource.resolveRelation(DataSource.scala:344)\n\tat org.apache.spark.sql.DataFrameReader.loadV1Source(DataFrameReader.scala:297)\n\tat org.apache.spark.sql.DataFrameReader.$anonfun$load$2(DataFrameReader.scala:286)\n\tat scala.Option.getOrElse(Option.scala:189)\n\tat org.apache.spark.sql.DataFrameReader.load(DataFrameReader.scala:286)\n\tat org.apache.spark.sql.DataFrameReader.load(DataFrameReader.scala:221)\n\tat sun.reflect.NativeMethodAccessorImpl.invoke0(Native Method)\n\tat sun.reflect.NativeMethodAccessorImpl.invoke(NativeMethodAccessorImpl.java:62)\n\tat sun.reflect.DelegatingMethodAccessorImpl.invoke(DelegatingMethodAccessorImpl.java:43)\n\tat java.lang.reflect.Method.invoke(Method.java:498)\n\tat py4j.reflection.MethodInvoker.invoke(MethodInvoker.java:244)\n\tat py4j.reflection.ReflectionEngine.invoke(ReflectionEngine.java:357)\n\tat py4j.Gateway.invoke(Gateway.java:282)\n\tat py4j.commands.AbstractCommand.invokeMethod(AbstractCommand.java:132)\n\tat py4j.commands.CallCommand.execute(CallCommand.java:79)\n\tat py4j.GatewayConnection.run(GatewayConnection.java:238)\n\tat java.lang.Thread.run(Thread.java:748)\n",
     "output_type": "error",
     "traceback": [
      "\u001b[0;31m---------------------------------------------------------------------------\u001b[0m",
      "\u001b[0;31mPy4JJavaError\u001b[0m                             Traceback (most recent call last)",
      "\u001b[0;32m<ipython-input-103-2ef4afb7141a>\u001b[0m in \u001b[0;36m<module>\u001b[0;34m\u001b[0m\n\u001b[1;32m      1\u001b[0m \u001b[0;31m# Load training data from mongo into a dataframe\u001b[0m\u001b[0;34m\u001b[0m\u001b[0;34m\u001b[0m\u001b[0;34m\u001b[0m\u001b[0m\n\u001b[0;32m----> 2\u001b[0;31m \u001b[0mdf_train\u001b[0m \u001b[0;34m=\u001b[0m \u001b[0mspark\u001b[0m\u001b[0;34m.\u001b[0m\u001b[0mread\u001b[0m\u001b[0;34m.\u001b[0m\u001b[0mformat\u001b[0m\u001b[0;34m(\u001b[0m\u001b[0;34m'mongo'\u001b[0m\u001b[0;34m)\u001b[0m\u001b[0;31m \u001b[0m\u001b[0;31m\\\u001b[0m\u001b[0;34m\u001b[0m\u001b[0;34m\u001b[0m\u001b[0m\n\u001b[0m\u001b[1;32m      3\u001b[0m         \u001b[0;34m.\u001b[0m\u001b[0moption\u001b[0m\u001b[0;34m(\u001b[0m\u001b[0;34m'spark.mongodb.input.uri'\u001b[0m\u001b[0;34m,\u001b[0m \u001b[0;34m'mongodb://127.0.0.1:27017/Quake.quakes'\u001b[0m\u001b[0;34m)\u001b[0m\u001b[0;34m.\u001b[0m\u001b[0mload\u001b[0m\u001b[0;34m(\u001b[0m\u001b[0;34m)\u001b[0m\u001b[0;34m\u001b[0m\u001b[0;34m\u001b[0m\u001b[0m\n\u001b[1;32m      4\u001b[0m \u001b[0mdf_train\u001b[0m\u001b[0;34m.\u001b[0m\u001b[0mshow\u001b[0m\u001b[0;34m(\u001b[0m\u001b[0;36m5\u001b[0m\u001b[0;34m)\u001b[0m\u001b[0;34m\u001b[0m\u001b[0;34m\u001b[0m\u001b[0m\n",
      "\u001b[0;32m/usr/local/opt/apache-spark/libexec/python/pyspark/sql/readwriter.py\u001b[0m in \u001b[0;36mload\u001b[0;34m(self, path, format, schema, **options)\u001b[0m\n\u001b[1;32m    182\u001b[0m             \u001b[0;32mreturn\u001b[0m \u001b[0mself\u001b[0m\u001b[0;34m.\u001b[0m\u001b[0m_df\u001b[0m\u001b[0;34m(\u001b[0m\u001b[0mself\u001b[0m\u001b[0;34m.\u001b[0m\u001b[0m_jreader\u001b[0m\u001b[0;34m.\u001b[0m\u001b[0mload\u001b[0m\u001b[0;34m(\u001b[0m\u001b[0mself\u001b[0m\u001b[0;34m.\u001b[0m\u001b[0m_spark\u001b[0m\u001b[0;34m.\u001b[0m\u001b[0m_sc\u001b[0m\u001b[0;34m.\u001b[0m\u001b[0m_jvm\u001b[0m\u001b[0;34m.\u001b[0m\u001b[0mPythonUtils\u001b[0m\u001b[0;34m.\u001b[0m\u001b[0mtoSeq\u001b[0m\u001b[0;34m(\u001b[0m\u001b[0mpath\u001b[0m\u001b[0;34m)\u001b[0m\u001b[0;34m)\u001b[0m\u001b[0;34m)\u001b[0m\u001b[0;34m\u001b[0m\u001b[0;34m\u001b[0m\u001b[0m\n\u001b[1;32m    183\u001b[0m         \u001b[0;32melse\u001b[0m\u001b[0;34m:\u001b[0m\u001b[0;34m\u001b[0m\u001b[0;34m\u001b[0m\u001b[0m\n\u001b[0;32m--> 184\u001b[0;31m             \u001b[0;32mreturn\u001b[0m \u001b[0mself\u001b[0m\u001b[0;34m.\u001b[0m\u001b[0m_df\u001b[0m\u001b[0;34m(\u001b[0m\u001b[0mself\u001b[0m\u001b[0;34m.\u001b[0m\u001b[0m_jreader\u001b[0m\u001b[0;34m.\u001b[0m\u001b[0mload\u001b[0m\u001b[0;34m(\u001b[0m\u001b[0;34m)\u001b[0m\u001b[0;34m)\u001b[0m\u001b[0;34m\u001b[0m\u001b[0;34m\u001b[0m\u001b[0m\n\u001b[0m\u001b[1;32m    185\u001b[0m \u001b[0;34m\u001b[0m\u001b[0m\n\u001b[1;32m    186\u001b[0m     \u001b[0;34m@\u001b[0m\u001b[0msince\u001b[0m\u001b[0;34m(\u001b[0m\u001b[0;36m1.4\u001b[0m\u001b[0;34m)\u001b[0m\u001b[0;34m\u001b[0m\u001b[0;34m\u001b[0m\u001b[0m\n",
      "\u001b[0;32m/usr/local/opt/apache-spark/libexec/python/lib/py4j-0.10.9-src.zip/py4j/java_gateway.py\u001b[0m in \u001b[0;36m__call__\u001b[0;34m(self, *args)\u001b[0m\n\u001b[1;32m   1302\u001b[0m \u001b[0;34m\u001b[0m\u001b[0m\n\u001b[1;32m   1303\u001b[0m         \u001b[0manswer\u001b[0m \u001b[0;34m=\u001b[0m \u001b[0mself\u001b[0m\u001b[0;34m.\u001b[0m\u001b[0mgateway_client\u001b[0m\u001b[0;34m.\u001b[0m\u001b[0msend_command\u001b[0m\u001b[0;34m(\u001b[0m\u001b[0mcommand\u001b[0m\u001b[0;34m)\u001b[0m\u001b[0;34m\u001b[0m\u001b[0;34m\u001b[0m\u001b[0m\n\u001b[0;32m-> 1304\u001b[0;31m         return_value = get_return_value(\n\u001b[0m\u001b[1;32m   1305\u001b[0m             answer, self.gateway_client, self.target_id, self.name)\n\u001b[1;32m   1306\u001b[0m \u001b[0;34m\u001b[0m\u001b[0m\n",
      "\u001b[0;32m/usr/local/opt/apache-spark/libexec/python/pyspark/sql/utils.py\u001b[0m in \u001b[0;36mdeco\u001b[0;34m(*a, **kw)\u001b[0m\n\u001b[1;32m    126\u001b[0m     \u001b[0;32mdef\u001b[0m \u001b[0mdeco\u001b[0m\u001b[0;34m(\u001b[0m\u001b[0;34m*\u001b[0m\u001b[0ma\u001b[0m\u001b[0;34m,\u001b[0m \u001b[0;34m**\u001b[0m\u001b[0mkw\u001b[0m\u001b[0;34m)\u001b[0m\u001b[0;34m:\u001b[0m\u001b[0;34m\u001b[0m\u001b[0;34m\u001b[0m\u001b[0m\n\u001b[1;32m    127\u001b[0m         \u001b[0;32mtry\u001b[0m\u001b[0;34m:\u001b[0m\u001b[0;34m\u001b[0m\u001b[0;34m\u001b[0m\u001b[0m\n\u001b[0;32m--> 128\u001b[0;31m             \u001b[0;32mreturn\u001b[0m \u001b[0mf\u001b[0m\u001b[0;34m(\u001b[0m\u001b[0;34m*\u001b[0m\u001b[0ma\u001b[0m\u001b[0;34m,\u001b[0m \u001b[0;34m**\u001b[0m\u001b[0mkw\u001b[0m\u001b[0;34m)\u001b[0m\u001b[0;34m\u001b[0m\u001b[0;34m\u001b[0m\u001b[0m\n\u001b[0m\u001b[1;32m    129\u001b[0m         \u001b[0;32mexcept\u001b[0m \u001b[0mpy4j\u001b[0m\u001b[0;34m.\u001b[0m\u001b[0mprotocol\u001b[0m\u001b[0;34m.\u001b[0m\u001b[0mPy4JJavaError\u001b[0m \u001b[0;32mas\u001b[0m \u001b[0me\u001b[0m\u001b[0;34m:\u001b[0m\u001b[0;34m\u001b[0m\u001b[0;34m\u001b[0m\u001b[0m\n\u001b[1;32m    130\u001b[0m             \u001b[0mconverted\u001b[0m \u001b[0;34m=\u001b[0m \u001b[0mconvert_exception\u001b[0m\u001b[0;34m(\u001b[0m\u001b[0me\u001b[0m\u001b[0;34m.\u001b[0m\u001b[0mjava_exception\u001b[0m\u001b[0;34m)\u001b[0m\u001b[0;34m\u001b[0m\u001b[0;34m\u001b[0m\u001b[0m\n",
      "\u001b[0;32m/usr/local/opt/apache-spark/libexec/python/lib/py4j-0.10.9-src.zip/py4j/protocol.py\u001b[0m in \u001b[0;36mget_return_value\u001b[0;34m(answer, gateway_client, target_id, name)\u001b[0m\n\u001b[1;32m    324\u001b[0m             \u001b[0mvalue\u001b[0m \u001b[0;34m=\u001b[0m \u001b[0mOUTPUT_CONVERTER\u001b[0m\u001b[0;34m[\u001b[0m\u001b[0mtype\u001b[0m\u001b[0;34m]\u001b[0m\u001b[0;34m(\u001b[0m\u001b[0manswer\u001b[0m\u001b[0;34m[\u001b[0m\u001b[0;36m2\u001b[0m\u001b[0;34m:\u001b[0m\u001b[0;34m]\u001b[0m\u001b[0;34m,\u001b[0m \u001b[0mgateway_client\u001b[0m\u001b[0;34m)\u001b[0m\u001b[0;34m\u001b[0m\u001b[0;34m\u001b[0m\u001b[0m\n\u001b[1;32m    325\u001b[0m             \u001b[0;32mif\u001b[0m \u001b[0manswer\u001b[0m\u001b[0;34m[\u001b[0m\u001b[0;36m1\u001b[0m\u001b[0;34m]\u001b[0m \u001b[0;34m==\u001b[0m \u001b[0mREFERENCE_TYPE\u001b[0m\u001b[0;34m:\u001b[0m\u001b[0;34m\u001b[0m\u001b[0;34m\u001b[0m\u001b[0m\n\u001b[0;32m--> 326\u001b[0;31m                 raise Py4JJavaError(\n\u001b[0m\u001b[1;32m    327\u001b[0m                     \u001b[0;34m\"An error occurred while calling {0}{1}{2}.\\n\"\u001b[0m\u001b[0;34m.\u001b[0m\u001b[0;34m\u001b[0m\u001b[0;34m\u001b[0m\u001b[0m\n\u001b[1;32m    328\u001b[0m                     format(target_id, \".\", name), value)\n",
      "\u001b[0;31mPy4JJavaError\u001b[0m: An error occurred while calling o459.load.\n: com.mongodb.MongoTimeoutException: Timed out after 30000 ms while waiting to connect. Client view of cluster state is {type=UNKNOWN, servers=[{address=127.0.0.1:27017, type=UNKNOWN, state=CONNECTING, exception={com.mongodb.MongoSocketReadTimeoutException: Timeout while receiving message}, caused by {java.net.SocketTimeoutException: Read timed out}}]\n\tat com.mongodb.internal.connection.BaseCluster.getDescription(BaseCluster.java:182)\n\tat com.mongodb.internal.connection.SingleServerCluster.getDescription(SingleServerCluster.java:41)\n\tat com.mongodb.client.internal.MongoClientDelegate.getServerAddressList(MongoClientDelegate.java:116)\n\tat com.mongodb.Mongo.getServerAddressList(Mongo.java:407)\n\tat com.mongodb.spark.connection.MongoClientCache.$anonfun$logClient$1(MongoClientCache.scala:161)\n\tat com.mongodb.spark.LoggingTrait.logInfo(LoggingTrait.scala:48)\n\tat com.mongodb.spark.LoggingTrait.logInfo$(LoggingTrait.scala:47)\n\tat com.mongodb.spark.Logging.logInfo(Logging.scala:24)\n\tat com.mongodb.spark.connection.MongoClientCache.logClient(MongoClientCache.scala:161)\n\tat com.mongodb.spark.connection.MongoClientCache.acquire(MongoClientCache.scala:56)\n\tat com.mongodb.spark.MongoConnector.acquireClient(MongoConnector.scala:242)\n\tat com.mongodb.spark.MongoConnector.withMongoClientDo(MongoConnector.scala:155)\n\tat com.mongodb.spark.MongoConnector.withDatabaseDo(MongoConnector.scala:174)\n\tat com.mongodb.spark.MongoConnector.hasSampleAggregateOperator(MongoConnector.scala:237)\n\tat com.mongodb.spark.rdd.MongoRDD.hasSampleAggregateOperator$lzycompute(MongoRDD.scala:221)\n\tat com.mongodb.spark.rdd.MongoRDD.hasSampleAggregateOperator(MongoRDD.scala:221)\n\tat com.mongodb.spark.sql.MongoInferSchema$.apply(MongoInferSchema.scala:68)\n\tat com.mongodb.spark.sql.DefaultSource.constructRelation(DefaultSource.scala:97)\n\tat com.mongodb.spark.sql.DefaultSource.createRelation(DefaultSource.scala:50)\n\tat org.apache.spark.sql.execution.datasources.DataSource.resolveRelation(DataSource.scala:344)\n\tat org.apache.spark.sql.DataFrameReader.loadV1Source(DataFrameReader.scala:297)\n\tat org.apache.spark.sql.DataFrameReader.$anonfun$load$2(DataFrameReader.scala:286)\n\tat scala.Option.getOrElse(Option.scala:189)\n\tat org.apache.spark.sql.DataFrameReader.load(DataFrameReader.scala:286)\n\tat org.apache.spark.sql.DataFrameReader.load(DataFrameReader.scala:221)\n\tat sun.reflect.NativeMethodAccessorImpl.invoke0(Native Method)\n\tat sun.reflect.NativeMethodAccessorImpl.invoke(NativeMethodAccessorImpl.java:62)\n\tat sun.reflect.DelegatingMethodAccessorImpl.invoke(DelegatingMethodAccessorImpl.java:43)\n\tat java.lang.reflect.Method.invoke(Method.java:498)\n\tat py4j.reflection.MethodInvoker.invoke(MethodInvoker.java:244)\n\tat py4j.reflection.ReflectionEngine.invoke(ReflectionEngine.java:357)\n\tat py4j.Gateway.invoke(Gateway.java:282)\n\tat py4j.commands.AbstractCommand.invokeMethod(AbstractCommand.java:132)\n\tat py4j.commands.CallCommand.execute(CallCommand.java:79)\n\tat py4j.GatewayConnection.run(GatewayConnection.java:238)\n\tat java.lang.Thread.run(Thread.java:748)\n"
     ]
    }
   ],
   "source": [
    "# Load training data from mongo into a dataframe\n",
    "df_train = spark.read.format('mongo') \\\n",
    "        .option('spark.mongodb.input.uri', 'mongodb://127.0.0.1:27017/Quake.quakes').load()\n",
    "df_train.show(5)"
   ]
  },
  {
   "cell_type": "code",
   "execution_count": 23,
   "metadata": {},
   "outputs": [
    {
     "name": "stdout",
     "output_type": "stream",
     "text": [
      "+--------------------+--------+---------+---------+------+\n",
      "|                Date|Latitude|Longitude|Magnitude| Depth|\n",
      "+--------------------+--------+---------+---------+------+\n",
      "|2017-01-02T00:13:...|-36.0365|  51.9288|      5.7|    10|\n",
      "|2017-01-02T13:13:...|  -4.895| -76.3675|      5.9|   106|\n",
      "|2017-01-02T13:14:...|-23.2513| 179.2383|      6.3|551.62|\n",
      "|2017-01-03T09:09:...| 24.0151|  92.0177|      5.7|    32|\n",
      "|2017-01-03T21:19:...|-43.3527| -74.5017|      5.5| 10.26|\n",
      "+--------------------+--------+---------+---------+------+\n",
      "only showing top 5 rows\n",
      "\n"
     ]
    }
   ],
   "source": [
    "# Select fields we will use and discard fields we dont need\n",
    "df_test_clean = df_test['time', 'latitude', 'longitude', 'mag', 'depth'].withColumnRenamed('time', 'Date') \\\n",
    "                .withColumnRenamed('latitude', 'Latitude') \\\n",
    "                .withColumnRenamed('longitude', 'Longitude') \\\n",
    "                .withColumnRenamed('mag', 'Magnitude') \\\n",
    "                .withColumnRenamed('depth', 'Depth') \n",
    "df_test_clean.show(5)"
   ]
  },
  {
   "cell_type": "code",
   "execution_count": 24,
   "metadata": {},
   "outputs": [],
   "source": [
    "df_test_clean = df_test_clean.withColumn('Latitude', df_test_clean['Latitude'].cast(DoubleType())) \\\n",
    "                    .withColumn('Longitude', df_test_clean['Longitude'].cast(DoubleType())) \\\n",
    "                    .withColumn('Depth', df_test_clean['Depth'].cast(DoubleType())) \\\n",
    "                    .withColumn('Magnitude', df_test_clean['Magnitude'].cast(DoubleType())) "
   ]
  },
  {
   "cell_type": "code",
   "execution_count": 25,
   "metadata": {},
   "outputs": [],
   "source": [
    "# Create training and testing dataframes\n",
    "df_testing = df_test_clean['Latitude', 'Longitude', 'Magnitude', 'Depth']\n",
    "df_training = df_train['Latitude', 'Longitude', 'Magnitude', 'Depth']"
   ]
  },
  {
   "cell_type": "code",
   "execution_count": 26,
   "metadata": {},
   "outputs": [],
   "source": [
    "# Drop records with null values from our dataframe\n",
    "df_testing = df_testing.dropna()\n",
    "df_training = df_training.dropna()\n"
   ]
  },
  {
   "cell_type": "markdown",
   "metadata": {},
   "source": [
    "## Machine learning"
   ]
  },
  {
   "cell_type": "code",
   "execution_count": 27,
   "metadata": {},
   "outputs": [],
   "source": [
    "from pyspark.ml import Pipeline\n",
    "from pyspark.ml.regression import RandomForestRegressor\n",
    "from pyspark.ml.feature import VectorAssembler\n",
    "from pyspark.ml.evaluation import RegressionEvaluator"
   ]
  },
  {
   "cell_type": "code",
   "execution_count": 28,
   "metadata": {},
   "outputs": [],
   "source": [
    "# Select all features needed to parse into our model\n",
    "assembler = VectorAssembler(inputCols = ['Latitude', 'Longitude', 'Depth'], outputCol = 'features')\n",
    "\n",
    "# Create the model: use features to predict magnitude values\n",
    "model_reg = RandomForestRegressor(featuresCol = 'features', labelCol = 'Magnitude')\n",
    "\n",
    "# Chain assembler with the model in a pipeline\n",
    "pipeline = Pipeline(stages = [assembler, model_reg])\n",
    "\n",
    "# Train the model\n",
    "model = pipeline.fit(df_training)\n",
    "\n",
    "# Predict on test data\n",
    "pred_results = model.transform(df_testing)"
   ]
  },
  {
   "cell_type": "code",
   "execution_count": 29,
   "metadata": {},
   "outputs": [
    {
     "name": "stdout",
     "output_type": "stream",
     "text": [
      "+--------+---------+---------+------+--------------------+-----------------+\n",
      "|Latitude|Longitude|Magnitude| Depth|            features|       prediction|\n",
      "+--------+---------+---------+------+--------------------+-----------------+\n",
      "|-36.0365|  51.9288|      5.7|  10.0|[-36.0365,51.9288...|5.839371539930189|\n",
      "|  -4.895| -76.3675|      5.9| 106.0|[-4.895,-76.3675,...|5.880300148595767|\n",
      "|-23.2513| 179.2383|      6.3|551.62|[-23.2513,179.238...|5.896556405153653|\n",
      "| 24.0151|  92.0177|      5.7|  32.0|[24.0151,92.0177,...|5.863755336563363|\n",
      "|-43.3527| -74.5017|      5.5| 10.26|[-43.3527,-74.501...|5.934431053215677|\n",
      "+--------+---------+---------+------+--------------------+-----------------+\n",
      "only showing top 5 rows\n",
      "\n"
     ]
    }
   ],
   "source": [
    "pred_results.show(5)"
   ]
  },
  {
   "cell_type": "markdown",
   "metadata": {},
   "source": [
    "## Evaluate ML model"
   ]
  },
  {
   "cell_type": "code",
   "execution_count": 76,
   "metadata": {},
   "outputs": [
    {
     "name": "stdout",
     "output_type": "stream",
     "text": [
      "RMSE = 0.403406\n"
     ]
    }
   ],
   "source": [
    "# RMSE to avaluate\n",
    "# rmse should be < 0.5 for the model to be useful\n",
    "\n",
    "evaluator = RegressionEvaluator(labelCol = 'Magnitude', predictionCol = 'prediction', metricName = 'rmse')\n",
    "rmse = evaluator.evaluate(pred_results)\n",
    "print('RMSE = %g' % rmse)"
   ]
  },
  {
   "cell_type": "markdown",
   "metadata": {},
   "source": [
    "## Create prediction dataset"
   ]
  },
  {
   "cell_type": "code",
   "execution_count": 31,
   "metadata": {},
   "outputs": [
    {
     "name": "stdout",
     "output_type": "stream",
     "text": [
      "+--------+---------+-----------------+----+-------------------+\n",
      "|Latitude|Longitude|   Pred_Magnitude|Year|               RMSE|\n",
      "+--------+---------+-----------------+----+-------------------+\n",
      "|-36.0365|  51.9288|5.839371539930189|2017|0.40340590480815797|\n",
      "|  -4.895| -76.3675|5.880300148595767|2017|0.40340590480815797|\n",
      "|-23.2513| 179.2383|5.896556405153653|2017|0.40340590480815797|\n",
      "| 24.0151|  92.0177|5.863755336563363|2017|0.40340590480815797|\n",
      "|-43.3527| -74.5017|5.934431053215677|2017|0.40340590480815797|\n",
      "+--------+---------+-----------------+----+-------------------+\n",
      "only showing top 5 rows\n",
      "\n"
     ]
    }
   ],
   "source": [
    "# Create the prediction dataset\n",
    "df_pred_results = pred_results['Latitude', 'Longitude', 'prediction']\n",
    "\n",
    "# Rename prediction fieldsk,mlj\n",
    "df_pred_results = df_pred_results.withColumnRenamed('prediction', 'Pred_Magnitude')\n",
    "\n",
    "# Add more columns to prediction dataset\n",
    "df_pred_results = df_pred_results.withColumn('Year', lit(2017)) \\\n",
    "                    .withColumn('RMSE', lit(rmse))\n",
    "\n",
    "df_pred_results.show(5)"
   ]
  },
  {
   "cell_type": "code",
   "execution_count": 32,
   "metadata": {},
   "outputs": [],
   "source": [
    "# Load prediction dataset into mongodb\n",
    "df_pred_results.write.format('mongo') \\\n",
    "    .mode('overwrite') \\\n",
    "    .option('spark.mongodb.output.uri', 'mongodb://127.0.0.1:27017/Quake.pred_results').save()\n"
   ]
  },
  {
   "cell_type": "markdown",
   "metadata": {},
   "source": [
    "## Data visualization"
   ]
  },
  {
   "cell_type": "code",
   "execution_count": 33,
   "metadata": {},
   "outputs": [],
   "source": [
    "import pandas as pd\n",
    "from bokeh.io import output_notebook, output_file\n",
    "from bokeh.plotting import figure, show, ColumnDataSource\n",
    "from bokeh.models import Circle, ColumnDataSource, Grid, LinearAxis, Plot\n",
    "from bokeh.models.tools import HoverTool\n",
    "import math \n",
    "from math import pi\n",
    "from bokeh.palettes import Category20c\n",
    "from bokeh.tile_providers import CARTODBPOSITRON\n",
    "from bokeh.themes import built_in_themes\n",
    "from bokeh.io import curdoc\n",
    "from pymongo import MongoClient\n",
    "from bokeh.tile_providers import get_provider, Vendors \n"
   ]
  },
  {
   "cell_type": "code",
   "execution_count": 35,
   "metadata": {},
   "outputs": [],
   "source": [
    "# Create a custom read function to read data from mongodb into a df\n",
    "def read_mongo(host = '127.0.0.1', port = 27017, username = None, password = None, db = 'Quake', collection = 'pred_results'):\n",
    "    # Connect to mongodb\n",
    "    mongo_uri = 'mongodb://{}:{}/{}.{}'.format(host, port, db, collection)  # {host}, {port}, {database}, {collection}\n",
    "    conn = MongoClient(mongo_uri)\n",
    "    db = conn[db]\n",
    "    \n",
    "    # Select all records from the collection \n",
    "    cursor = db[collection].find()\n",
    "    \n",
    "    # Create the dataframe\n",
    "    df = pd.DataFrame(list(cursor))\n",
    "    \n",
    "    # Delete the _id field\n",
    "    del df['_id']\n",
    "    return df"
   ]
  },
  {
   "cell_type": "code",
   "execution_count": 36,
   "metadata": {},
   "outputs": [],
   "source": [
    "# Load dataset from mongodb\n",
    "df_quakes = read_mongo(collection = 'quakes')\n",
    "df_quake_freq = read_mongo(collection = 'quake_freq')\n",
    "df_quake_pred = read_mongo(collection = 'pred_results')"
   ]
  },
  {
   "cell_type": "code",
   "execution_count": 37,
   "metadata": {},
   "outputs": [
    {
     "data": {
      "text/html": [
       "<div>\n",
       "<style scoped>\n",
       "    .dataframe tbody tr th:only-of-type {\n",
       "        vertical-align: middle;\n",
       "    }\n",
       "\n",
       "    .dataframe tbody tr th {\n",
       "        vertical-align: top;\n",
       "    }\n",
       "\n",
       "    .dataframe thead th {\n",
       "        text-align: right;\n",
       "    }\n",
       "</style>\n",
       "<table border=\"1\" class=\"dataframe\">\n",
       "  <thead>\n",
       "    <tr style=\"text-align: right;\">\n",
       "      <th></th>\n",
       "      <th>Date</th>\n",
       "      <th>Latitude</th>\n",
       "      <th>Longitude</th>\n",
       "      <th>Type</th>\n",
       "      <th>Depth</th>\n",
       "      <th>Magnitude</th>\n",
       "      <th>Magnitude Type</th>\n",
       "      <th>ID</th>\n",
       "      <th>Year</th>\n",
       "    </tr>\n",
       "  </thead>\n",
       "  <tbody>\n",
       "    <tr>\n",
       "      <th>22943</th>\n",
       "      <td>01/01/2016</td>\n",
       "      <td>-50.5575</td>\n",
       "      <td>139.4489</td>\n",
       "      <td>Earthquake</td>\n",
       "      <td>10.00</td>\n",
       "      <td>6.3</td>\n",
       "      <td>MWW</td>\n",
       "      <td>US10004ANT</td>\n",
       "      <td>2016.0</td>\n",
       "    </tr>\n",
       "    <tr>\n",
       "      <th>22944</th>\n",
       "      <td>01/01/2016</td>\n",
       "      <td>-28.6278</td>\n",
       "      <td>-177.2810</td>\n",
       "      <td>Earthquake</td>\n",
       "      <td>34.00</td>\n",
       "      <td>5.8</td>\n",
       "      <td>MWW</td>\n",
       "      <td>US10004AQY</td>\n",
       "      <td>2016.0</td>\n",
       "    </tr>\n",
       "    <tr>\n",
       "      <th>22945</th>\n",
       "      <td>01/02/2016</td>\n",
       "      <td>44.8069</td>\n",
       "      <td>129.9406</td>\n",
       "      <td>Earthquake</td>\n",
       "      <td>585.47</td>\n",
       "      <td>5.8</td>\n",
       "      <td>MWW</td>\n",
       "      <td>US10004ATB</td>\n",
       "      <td>2016.0</td>\n",
       "    </tr>\n",
       "    <tr>\n",
       "      <th>22946</th>\n",
       "      <td>01/03/2016</td>\n",
       "      <td>24.8036</td>\n",
       "      <td>93.6505</td>\n",
       "      <td>Earthquake</td>\n",
       "      <td>55.00</td>\n",
       "      <td>6.7</td>\n",
       "      <td>MWW</td>\n",
       "      <td>US10004B2N</td>\n",
       "      <td>2016.0</td>\n",
       "    </tr>\n",
       "    <tr>\n",
       "      <th>22947</th>\n",
       "      <td>01/05/2016</td>\n",
       "      <td>30.6132</td>\n",
       "      <td>132.7337</td>\n",
       "      <td>Earthquake</td>\n",
       "      <td>4.71</td>\n",
       "      <td>5.8</td>\n",
       "      <td>MWW</td>\n",
       "      <td>US10004BEN</td>\n",
       "      <td>2016.0</td>\n",
       "    </tr>\n",
       "  </tbody>\n",
       "</table>\n",
       "</div>"
      ],
      "text/plain": [
       "             Date  Latitude  Longitude        Type   Depth  Magnitude  \\\n",
       "22943  01/01/2016  -50.5575   139.4489  Earthquake   10.00        6.3   \n",
       "22944  01/01/2016  -28.6278  -177.2810  Earthquake   34.00        5.8   \n",
       "22945  01/02/2016   44.8069   129.9406  Earthquake  585.47        5.8   \n",
       "22946  01/03/2016   24.8036    93.6505  Earthquake   55.00        6.7   \n",
       "22947  01/05/2016   30.6132   132.7337  Earthquake    4.71        5.8   \n",
       "\n",
       "      Magnitude Type          ID    Year  \n",
       "22943            MWW  US10004ANT  2016.0  \n",
       "22944            MWW  US10004AQY  2016.0  \n",
       "22945            MWW  US10004ATB  2016.0  \n",
       "22946            MWW  US10004B2N  2016.0  \n",
       "22947            MWW  US10004BEN  2016.0  "
      ]
     },
     "execution_count": 37,
     "metadata": {},
     "output_type": "execute_result"
    }
   ],
   "source": [
    "df_quakes_2016 = df_quakes[df_quakes['Year'] == 2016]\n",
    "df_quakes_2016.head()"
   ]
  },
  {
   "cell_type": "code",
   "execution_count": 38,
   "metadata": {},
   "outputs": [
    {
     "data": {
      "text/html": [
       "\n",
       "    <div class=\"bk-root\">\n",
       "        <a href=\"https://bokeh.org\" target=\"_blank\" class=\"bk-logo bk-logo-small bk-logo-notebook\"></a>\n",
       "        <span id=\"1001\">Loading BokehJS ...</span>\n",
       "    </div>"
      ]
     },
     "metadata": {},
     "output_type": "display_data"
    },
    {
     "data": {
      "application/javascript": [
       "\n",
       "(function(root) {\n",
       "  function now() {\n",
       "    return new Date();\n",
       "  }\n",
       "\n",
       "  var force = true;\n",
       "\n",
       "  if (typeof root._bokeh_onload_callbacks === \"undefined\" || force === true) {\n",
       "    root._bokeh_onload_callbacks = [];\n",
       "    root._bokeh_is_loading = undefined;\n",
       "  }\n",
       "\n",
       "  var JS_MIME_TYPE = 'application/javascript';\n",
       "  var HTML_MIME_TYPE = 'text/html';\n",
       "  var EXEC_MIME_TYPE = 'application/vnd.bokehjs_exec.v0+json';\n",
       "  var CLASS_NAME = 'output_bokeh rendered_html';\n",
       "\n",
       "  /**\n",
       "   * Render data to the DOM node\n",
       "   */\n",
       "  function render(props, node) {\n",
       "    var script = document.createElement(\"script\");\n",
       "    node.appendChild(script);\n",
       "  }\n",
       "\n",
       "  /**\n",
       "   * Handle when an output is cleared or removed\n",
       "   */\n",
       "  function handleClearOutput(event, handle) {\n",
       "    var cell = handle.cell;\n",
       "\n",
       "    var id = cell.output_area._bokeh_element_id;\n",
       "    var server_id = cell.output_area._bokeh_server_id;\n",
       "    // Clean up Bokeh references\n",
       "    if (id != null && id in Bokeh.index) {\n",
       "      Bokeh.index[id].model.document.clear();\n",
       "      delete Bokeh.index[id];\n",
       "    }\n",
       "\n",
       "    if (server_id !== undefined) {\n",
       "      // Clean up Bokeh references\n",
       "      var cmd = \"from bokeh.io.state import curstate; print(curstate().uuid_to_server['\" + server_id + \"'].get_sessions()[0].document.roots[0]._id)\";\n",
       "      cell.notebook.kernel.execute(cmd, {\n",
       "        iopub: {\n",
       "          output: function(msg) {\n",
       "            var id = msg.content.text.trim();\n",
       "            if (id in Bokeh.index) {\n",
       "              Bokeh.index[id].model.document.clear();\n",
       "              delete Bokeh.index[id];\n",
       "            }\n",
       "          }\n",
       "        }\n",
       "      });\n",
       "      // Destroy server and session\n",
       "      var cmd = \"import bokeh.io.notebook as ion; ion.destroy_server('\" + server_id + \"')\";\n",
       "      cell.notebook.kernel.execute(cmd);\n",
       "    }\n",
       "  }\n",
       "\n",
       "  /**\n",
       "   * Handle when a new output is added\n",
       "   */\n",
       "  function handleAddOutput(event, handle) {\n",
       "    var output_area = handle.output_area;\n",
       "    var output = handle.output;\n",
       "\n",
       "    // limit handleAddOutput to display_data with EXEC_MIME_TYPE content only\n",
       "    if ((output.output_type != \"display_data\") || (!output.data.hasOwnProperty(EXEC_MIME_TYPE))) {\n",
       "      return\n",
       "    }\n",
       "\n",
       "    var toinsert = output_area.element.find(\".\" + CLASS_NAME.split(' ')[0]);\n",
       "\n",
       "    if (output.metadata[EXEC_MIME_TYPE][\"id\"] !== undefined) {\n",
       "      toinsert[toinsert.length - 1].firstChild.textContent = output.data[JS_MIME_TYPE];\n",
       "      // store reference to embed id on output_area\n",
       "      output_area._bokeh_element_id = output.metadata[EXEC_MIME_TYPE][\"id\"];\n",
       "    }\n",
       "    if (output.metadata[EXEC_MIME_TYPE][\"server_id\"] !== undefined) {\n",
       "      var bk_div = document.createElement(\"div\");\n",
       "      bk_div.innerHTML = output.data[HTML_MIME_TYPE];\n",
       "      var script_attrs = bk_div.children[0].attributes;\n",
       "      for (var i = 0; i < script_attrs.length; i++) {\n",
       "        toinsert[toinsert.length - 1].firstChild.setAttribute(script_attrs[i].name, script_attrs[i].value);\n",
       "        toinsert[toinsert.length - 1].firstChild.textContent = bk_div.children[0].textContent\n",
       "      }\n",
       "      // store reference to server id on output_area\n",
       "      output_area._bokeh_server_id = output.metadata[EXEC_MIME_TYPE][\"server_id\"];\n",
       "    }\n",
       "  }\n",
       "\n",
       "  function register_renderer(events, OutputArea) {\n",
       "\n",
       "    function append_mime(data, metadata, element) {\n",
       "      // create a DOM node to render to\n",
       "      var toinsert = this.create_output_subarea(\n",
       "        metadata,\n",
       "        CLASS_NAME,\n",
       "        EXEC_MIME_TYPE\n",
       "      );\n",
       "      this.keyboard_manager.register_events(toinsert);\n",
       "      // Render to node\n",
       "      var props = {data: data, metadata: metadata[EXEC_MIME_TYPE]};\n",
       "      render(props, toinsert[toinsert.length - 1]);\n",
       "      element.append(toinsert);\n",
       "      return toinsert\n",
       "    }\n",
       "\n",
       "    /* Handle when an output is cleared or removed */\n",
       "    events.on('clear_output.CodeCell', handleClearOutput);\n",
       "    events.on('delete.Cell', handleClearOutput);\n",
       "\n",
       "    /* Handle when a new output is added */\n",
       "    events.on('output_added.OutputArea', handleAddOutput);\n",
       "\n",
       "    /**\n",
       "     * Register the mime type and append_mime function with output_area\n",
       "     */\n",
       "    OutputArea.prototype.register_mime_type(EXEC_MIME_TYPE, append_mime, {\n",
       "      /* Is output safe? */\n",
       "      safe: true,\n",
       "      /* Index of renderer in `output_area.display_order` */\n",
       "      index: 0\n",
       "    });\n",
       "  }\n",
       "\n",
       "  // register the mime type if in Jupyter Notebook environment and previously unregistered\n",
       "  if (root.Jupyter !== undefined) {\n",
       "    var events = require('base/js/events');\n",
       "    var OutputArea = require('notebook/js/outputarea').OutputArea;\n",
       "\n",
       "    if (OutputArea.prototype.mime_types().indexOf(EXEC_MIME_TYPE) == -1) {\n",
       "      register_renderer(events, OutputArea);\n",
       "    }\n",
       "  }\n",
       "\n",
       "  \n",
       "  if (typeof (root._bokeh_timeout) === \"undefined\" || force === true) {\n",
       "    root._bokeh_timeout = Date.now() + 5000;\n",
       "    root._bokeh_failed_load = false;\n",
       "  }\n",
       "\n",
       "  var NB_LOAD_WARNING = {'data': {'text/html':\n",
       "     \"<div style='background-color: #fdd'>\\n\"+\n",
       "     \"<p>\\n\"+\n",
       "     \"BokehJS does not appear to have successfully loaded. If loading BokehJS from CDN, this \\n\"+\n",
       "     \"may be due to a slow or bad network connection. Possible fixes:\\n\"+\n",
       "     \"</p>\\n\"+\n",
       "     \"<ul>\\n\"+\n",
       "     \"<li>re-rerun `output_notebook()` to attempt to load from CDN again, or</li>\\n\"+\n",
       "     \"<li>use INLINE resources instead, as so:</li>\\n\"+\n",
       "     \"</ul>\\n\"+\n",
       "     \"<code>\\n\"+\n",
       "     \"from bokeh.resources import INLINE\\n\"+\n",
       "     \"output_notebook(resources=INLINE)\\n\"+\n",
       "     \"</code>\\n\"+\n",
       "     \"</div>\"}};\n",
       "\n",
       "  function display_loaded() {\n",
       "    var el = document.getElementById(\"1001\");\n",
       "    if (el != null) {\n",
       "      el.textContent = \"BokehJS is loading...\";\n",
       "    }\n",
       "    if (root.Bokeh !== undefined) {\n",
       "      if (el != null) {\n",
       "        el.textContent = \"BokehJS \" + root.Bokeh.version + \" successfully loaded.\";\n",
       "      }\n",
       "    } else if (Date.now() < root._bokeh_timeout) {\n",
       "      setTimeout(display_loaded, 100)\n",
       "    }\n",
       "  }\n",
       "\n",
       "\n",
       "  function run_callbacks() {\n",
       "    try {\n",
       "      root._bokeh_onload_callbacks.forEach(function(callback) {\n",
       "        if (callback != null)\n",
       "          callback();\n",
       "      });\n",
       "    } finally {\n",
       "      delete root._bokeh_onload_callbacks\n",
       "    }\n",
       "    console.debug(\"Bokeh: all callbacks have finished\");\n",
       "  }\n",
       "\n",
       "  function load_libs(css_urls, js_urls, callback) {\n",
       "    if (css_urls == null) css_urls = [];\n",
       "    if (js_urls == null) js_urls = [];\n",
       "\n",
       "    root._bokeh_onload_callbacks.push(callback);\n",
       "    if (root._bokeh_is_loading > 0) {\n",
       "      console.debug(\"Bokeh: BokehJS is being loaded, scheduling callback at\", now());\n",
       "      return null;\n",
       "    }\n",
       "    if (js_urls == null || js_urls.length === 0) {\n",
       "      run_callbacks();\n",
       "      return null;\n",
       "    }\n",
       "    console.debug(\"Bokeh: BokehJS not loaded, scheduling load and callback at\", now());\n",
       "    root._bokeh_is_loading = css_urls.length + js_urls.length;\n",
       "\n",
       "    function on_load() {\n",
       "      root._bokeh_is_loading--;\n",
       "      if (root._bokeh_is_loading === 0) {\n",
       "        console.debug(\"Bokeh: all BokehJS libraries/stylesheets loaded\");\n",
       "        run_callbacks()\n",
       "      }\n",
       "    }\n",
       "\n",
       "    function on_error() {\n",
       "      console.error(\"failed to load \" + url);\n",
       "    }\n",
       "\n",
       "    for (var i = 0; i < css_urls.length; i++) {\n",
       "      var url = css_urls[i];\n",
       "      const element = document.createElement(\"link\");\n",
       "      element.onload = on_load;\n",
       "      element.onerror = on_error;\n",
       "      element.rel = \"stylesheet\";\n",
       "      element.type = \"text/css\";\n",
       "      element.href = url;\n",
       "      console.debug(\"Bokeh: injecting link tag for BokehJS stylesheet: \", url);\n",
       "      document.body.appendChild(element);\n",
       "    }\n",
       "\n",
       "    const hashes = {\"https://cdn.bokeh.org/bokeh/release/bokeh-2.1.1.min.js\": \"kLr4fYcqcSpbuI95brIH3vnnYCquzzSxHPU6XGQCIkQRGJwhg0StNbj1eegrHs12\", \"https://cdn.bokeh.org/bokeh/release/bokeh-widgets-2.1.1.min.js\": \"xIGPmVtaOm+z0BqfSOMn4lOR6ciex448GIKG4eE61LsAvmGj48XcMQZtKcE/UXZe\", \"https://cdn.bokeh.org/bokeh/release/bokeh-tables-2.1.1.min.js\": \"Dc9u1wF/0zApGIWoBbH77iWEHtdmkuYWG839Uzmv8y8yBLXebjO9ZnERsde5Ln/P\", \"https://cdn.bokeh.org/bokeh/release/bokeh-gl-2.1.1.min.js\": \"cT9JaBz7GiRXdENrJLZNSC6eMNF3nh3fa5fTF51Svp+ukxPdwcU5kGXGPBgDCa2j\"};\n",
       "\n",
       "    for (var i = 0; i < js_urls.length; i++) {\n",
       "      var url = js_urls[i];\n",
       "      var element = document.createElement('script');\n",
       "      element.onload = on_load;\n",
       "      element.onerror = on_error;\n",
       "      element.async = false;\n",
       "      element.src = url;\n",
       "      if (url in hashes) {\n",
       "        element.crossOrigin = \"anonymous\";\n",
       "        element.integrity = \"sha384-\" + hashes[url];\n",
       "      }\n",
       "      console.debug(\"Bokeh: injecting script tag for BokehJS library: \", url);\n",
       "      document.head.appendChild(element);\n",
       "    }\n",
       "  };\n",
       "\n",
       "  function inject_raw_css(css) {\n",
       "    const element = document.createElement(\"style\");\n",
       "    element.appendChild(document.createTextNode(css));\n",
       "    document.body.appendChild(element);\n",
       "  }\n",
       "\n",
       "  \n",
       "  var js_urls = [\"https://cdn.bokeh.org/bokeh/release/bokeh-2.1.1.min.js\", \"https://cdn.bokeh.org/bokeh/release/bokeh-widgets-2.1.1.min.js\", \"https://cdn.bokeh.org/bokeh/release/bokeh-tables-2.1.1.min.js\", \"https://cdn.bokeh.org/bokeh/release/bokeh-gl-2.1.1.min.js\"];\n",
       "  var css_urls = [];\n",
       "  \n",
       "\n",
       "  var inline_js = [\n",
       "    function(Bokeh) {\n",
       "      Bokeh.set_log_level(\"info\");\n",
       "    },\n",
       "    function(Bokeh) {\n",
       "    \n",
       "    \n",
       "    }\n",
       "  ];\n",
       "\n",
       "  function run_inline_js() {\n",
       "    \n",
       "    if (root.Bokeh !== undefined || force === true) {\n",
       "      \n",
       "    for (var i = 0; i < inline_js.length; i++) {\n",
       "      inline_js[i].call(root, root.Bokeh);\n",
       "    }\n",
       "    if (force === true) {\n",
       "        display_loaded();\n",
       "      }} else if (Date.now() < root._bokeh_timeout) {\n",
       "      setTimeout(run_inline_js, 100);\n",
       "    } else if (!root._bokeh_failed_load) {\n",
       "      console.log(\"Bokeh: BokehJS failed to load within specified timeout.\");\n",
       "      root._bokeh_failed_load = true;\n",
       "    } else if (force !== true) {\n",
       "      var cell = $(document.getElementById(\"1001\")).parents('.cell').data().cell;\n",
       "      cell.output_area.append_execute_result(NB_LOAD_WARNING)\n",
       "    }\n",
       "\n",
       "  }\n",
       "\n",
       "  if (root._bokeh_is_loading === 0) {\n",
       "    console.debug(\"Bokeh: BokehJS loaded, going straight to plotting\");\n",
       "    run_inline_js();\n",
       "  } else {\n",
       "    load_libs(css_urls, js_urls, function() {\n",
       "      console.debug(\"Bokeh: BokehJS plotting callback run at\", now());\n",
       "      run_inline_js();\n",
       "    });\n",
       "  }\n",
       "}(window));"
      ],
      "application/vnd.bokehjs_load.v0+json": "\n(function(root) {\n  function now() {\n    return new Date();\n  }\n\n  var force = true;\n\n  if (typeof root._bokeh_onload_callbacks === \"undefined\" || force === true) {\n    root._bokeh_onload_callbacks = [];\n    root._bokeh_is_loading = undefined;\n  }\n\n  \n\n  \n  if (typeof (root._bokeh_timeout) === \"undefined\" || force === true) {\n    root._bokeh_timeout = Date.now() + 5000;\n    root._bokeh_failed_load = false;\n  }\n\n  var NB_LOAD_WARNING = {'data': {'text/html':\n     \"<div style='background-color: #fdd'>\\n\"+\n     \"<p>\\n\"+\n     \"BokehJS does not appear to have successfully loaded. If loading BokehJS from CDN, this \\n\"+\n     \"may be due to a slow or bad network connection. Possible fixes:\\n\"+\n     \"</p>\\n\"+\n     \"<ul>\\n\"+\n     \"<li>re-rerun `output_notebook()` to attempt to load from CDN again, or</li>\\n\"+\n     \"<li>use INLINE resources instead, as so:</li>\\n\"+\n     \"</ul>\\n\"+\n     \"<code>\\n\"+\n     \"from bokeh.resources import INLINE\\n\"+\n     \"output_notebook(resources=INLINE)\\n\"+\n     \"</code>\\n\"+\n     \"</div>\"}};\n\n  function display_loaded() {\n    var el = document.getElementById(\"1001\");\n    if (el != null) {\n      el.textContent = \"BokehJS is loading...\";\n    }\n    if (root.Bokeh !== undefined) {\n      if (el != null) {\n        el.textContent = \"BokehJS \" + root.Bokeh.version + \" successfully loaded.\";\n      }\n    } else if (Date.now() < root._bokeh_timeout) {\n      setTimeout(display_loaded, 100)\n    }\n  }\n\n\n  function run_callbacks() {\n    try {\n      root._bokeh_onload_callbacks.forEach(function(callback) {\n        if (callback != null)\n          callback();\n      });\n    } finally {\n      delete root._bokeh_onload_callbacks\n    }\n    console.debug(\"Bokeh: all callbacks have finished\");\n  }\n\n  function load_libs(css_urls, js_urls, callback) {\n    if (css_urls == null) css_urls = [];\n    if (js_urls == null) js_urls = [];\n\n    root._bokeh_onload_callbacks.push(callback);\n    if (root._bokeh_is_loading > 0) {\n      console.debug(\"Bokeh: BokehJS is being loaded, scheduling callback at\", now());\n      return null;\n    }\n    if (js_urls == null || js_urls.length === 0) {\n      run_callbacks();\n      return null;\n    }\n    console.debug(\"Bokeh: BokehJS not loaded, scheduling load and callback at\", now());\n    root._bokeh_is_loading = css_urls.length + js_urls.length;\n\n    function on_load() {\n      root._bokeh_is_loading--;\n      if (root._bokeh_is_loading === 0) {\n        console.debug(\"Bokeh: all BokehJS libraries/stylesheets loaded\");\n        run_callbacks()\n      }\n    }\n\n    function on_error() {\n      console.error(\"failed to load \" + url);\n    }\n\n    for (var i = 0; i < css_urls.length; i++) {\n      var url = css_urls[i];\n      const element = document.createElement(\"link\");\n      element.onload = on_load;\n      element.onerror = on_error;\n      element.rel = \"stylesheet\";\n      element.type = \"text/css\";\n      element.href = url;\n      console.debug(\"Bokeh: injecting link tag for BokehJS stylesheet: \", url);\n      document.body.appendChild(element);\n    }\n\n    const hashes = {\"https://cdn.bokeh.org/bokeh/release/bokeh-2.1.1.min.js\": \"kLr4fYcqcSpbuI95brIH3vnnYCquzzSxHPU6XGQCIkQRGJwhg0StNbj1eegrHs12\", \"https://cdn.bokeh.org/bokeh/release/bokeh-widgets-2.1.1.min.js\": \"xIGPmVtaOm+z0BqfSOMn4lOR6ciex448GIKG4eE61LsAvmGj48XcMQZtKcE/UXZe\", \"https://cdn.bokeh.org/bokeh/release/bokeh-tables-2.1.1.min.js\": \"Dc9u1wF/0zApGIWoBbH77iWEHtdmkuYWG839Uzmv8y8yBLXebjO9ZnERsde5Ln/P\", \"https://cdn.bokeh.org/bokeh/release/bokeh-gl-2.1.1.min.js\": \"cT9JaBz7GiRXdENrJLZNSC6eMNF3nh3fa5fTF51Svp+ukxPdwcU5kGXGPBgDCa2j\"};\n\n    for (var i = 0; i < js_urls.length; i++) {\n      var url = js_urls[i];\n      var element = document.createElement('script');\n      element.onload = on_load;\n      element.onerror = on_error;\n      element.async = false;\n      element.src = url;\n      if (url in hashes) {\n        element.crossOrigin = \"anonymous\";\n        element.integrity = \"sha384-\" + hashes[url];\n      }\n      console.debug(\"Bokeh: injecting script tag for BokehJS library: \", url);\n      document.head.appendChild(element);\n    }\n  };\n\n  function inject_raw_css(css) {\n    const element = document.createElement(\"style\");\n    element.appendChild(document.createTextNode(css));\n    document.body.appendChild(element);\n  }\n\n  \n  var js_urls = [\"https://cdn.bokeh.org/bokeh/release/bokeh-2.1.1.min.js\", \"https://cdn.bokeh.org/bokeh/release/bokeh-widgets-2.1.1.min.js\", \"https://cdn.bokeh.org/bokeh/release/bokeh-tables-2.1.1.min.js\", \"https://cdn.bokeh.org/bokeh/release/bokeh-gl-2.1.1.min.js\"];\n  var css_urls = [];\n  \n\n  var inline_js = [\n    function(Bokeh) {\n      Bokeh.set_log_level(\"info\");\n    },\n    function(Bokeh) {\n    \n    \n    }\n  ];\n\n  function run_inline_js() {\n    \n    if (root.Bokeh !== undefined || force === true) {\n      \n    for (var i = 0; i < inline_js.length; i++) {\n      inline_js[i].call(root, root.Bokeh);\n    }\n    if (force === true) {\n        display_loaded();\n      }} else if (Date.now() < root._bokeh_timeout) {\n      setTimeout(run_inline_js, 100);\n    } else if (!root._bokeh_failed_load) {\n      console.log(\"Bokeh: BokehJS failed to load within specified timeout.\");\n      root._bokeh_failed_load = true;\n    } else if (force !== true) {\n      var cell = $(document.getElementById(\"1001\")).parents('.cell').data().cell;\n      cell.output_area.append_execute_result(NB_LOAD_WARNING)\n    }\n\n  }\n\n  if (root._bokeh_is_loading === 0) {\n    console.debug(\"Bokeh: BokehJS loaded, going straight to plotting\");\n    run_inline_js();\n  } else {\n    load_libs(css_urls, js_urls, function() {\n      console.debug(\"Bokeh: BokehJS plotting callback run at\", now());\n      run_inline_js();\n    });\n  }\n}(window));"
     },
     "metadata": {},
     "output_type": "display_data"
    }
   ],
   "source": [
    "# Show plots embedded in jupyter notebook\n",
    "output_notebook()"
   ]
  },
  {
   "cell_type": "code",
   "execution_count": 51,
   "metadata": {},
   "outputs": [],
   "source": [
    "# Create custom style function to style our plots\n",
    "def style(p):\n",
    "    # Title\n",
    "    p.title.align='center'\n",
    "    p.title.text_font_size='20pt'\n",
    "    p.title.text_font='serif'\n",
    "    \n",
    "    # Axis titles\n",
    "    p.xaxis.axis_label_text_font_size='14pt'\n",
    "    p.xaxis.axis_label_text_font_style='bold'\n",
    "    p.yaxis.axis_label_text_font_size='14pt'\n",
    "    p.yaxis.axis_label_text_font_style='bold'\n",
    "    \n",
    "    # Tick labels\n",
    "    p.xaxis.major_label_text_font_size='12pt'\n",
    "    p.yaxis.major_label_text_font_size='12pt'\n",
    "    \n",
    "    # Plot the legend in the top left corner\n",
    "    p.legend.location='top_left'\n",
    "    \n",
    "    return p"
   ]
  },
  {
   "cell_type": "markdown",
   "metadata": {},
   "source": [
    "### Create Geomap plot\n"
   ]
  },
  {
   "cell_type": "code",
   "execution_count": 58,
   "metadata": {},
   "outputs": [
    {
     "data": {
      "text/html": [
       "\n",
       "\n",
       "\n",
       "\n",
       "\n",
       "\n",
       "  <div class=\"bk-root\" id=\"296b146c-2cb4-4bd0-ad07-4a43767e4543\" data-root-id=\"3002\"></div>\n"
      ]
     },
     "metadata": {},
     "output_type": "display_data"
    },
    {
     "data": {
      "application/javascript": [
       "(function(root) {\n",
       "  function embed_document(root) {\n",
       "    \n",
       "  var docs_json = {\"84be4379-4447-45e3-935c-6f7653bec861\":{\"roots\":{\"references\":[{\"attributes\":{\"background_fill_color\":\"lightgrey\",\"below\":[{\"id\":\"3011\"}],\"border_fill_color\":\"#15191C\",\"center\":[{\"id\":\"3014\"},{\"id\":\"3018\"}],\"left\":[{\"id\":\"3015\"}],\"outline_line_alpha\":0.25,\"outline_line_color\":\"#E0E0E0\",\"renderers\":[{\"id\":\"3038\"}],\"title\":{\"id\":\"3067\"},\"toolbar\":{\"id\":\"3027\"},\"x_range\":{\"id\":\"3003\"},\"x_scale\":{\"id\":\"3007\"},\"y_range\":{\"id\":\"3005\"},\"y_scale\":{\"id\":\"3009\"}},\"id\":\"3002\",\"subtype\":\"Figure\",\"type\":\"Plot\"},{\"attributes\":{\"fill_alpha\":{\"value\":0.1},\"fill_color\":{\"field\":\"Color\"},\"line_alpha\":{\"value\":0.1},\"line_color\":{\"field\":\"Color\"},\"size\":{\"units\":\"screen\",\"value\":15},\"x\":{\"field\":\"x\"},\"y\":{\"field\":\"y\"}},\"id\":\"3037\",\"type\":\"Circle\"},{\"attributes\":{\"geojson\":\"{\\\"type\\\": \\\"FeatureCollection\\\", \\\"features\\\": [{\\\"type\\\": \\\"Feature\\\", \\\"id\\\": \\\"463098\\\", \\\"geometry\\\": {\\\"type\\\": \\\"Point\\\", \\\"coordinates\\\": [-2.1208465099334717, 51.4613151550293]}, \\\"properties\\\": {\\\"OrganisationCode\\\": \\\"Q64\\\", \\\"OrganisationType\\\": \\\"Area Team\\\", \\\"SubType\\\": \\\"UNKNOWN\\\", \\\"OrganisationStatus\\\": \\\"Visible\\\", \\\"IsPimsManaged\\\": \\\"True\\\", \\\"OrganisationName\\\": \\\"Bath, Gloucestershire, Swindon And Wiltshire Area Team\\\", \\\"Address1\\\": \\\"1st Floor\\\", \\\"Address2\\\": \\\"Bewley House\\\", \\\"Address3\\\": \\\"Marshfield Road\\\", \\\"City\\\": \\\"Chippenham\\\", \\\"County\\\": \\\"Wiltshire\\\", \\\"Postcode\\\": \\\"SN15 1JW\\\", \\\"Phone\\\": \\\"0113 8251 500\\\", \\\"Email\\\": \\\"england.contactus@nhs.net\\\", \\\"Website\\\": \\\"http://www.england.nhs.uk/south/south/bgsw-at/\\\", \\\"Color\\\": \\\"blue\\\"}}, {\\\"type\\\": \\\"Feature\\\", \\\"id\\\": \\\"463099\\\", \\\"geometry\\\": {\\\"type\\\": \\\"Point\\\", \\\"coordinates\\\": [-2.5929524898529053, 51.459877014160156]}, \\\"properties\\\": {\\\"OrganisationCode\\\": \\\"Q65\\\", \\\"OrganisationType\\\": \\\"Area Team\\\", \\\"SubType\\\": \\\"UNKNOWN\\\", \\\"OrganisationStatus\\\": \\\"Visible\\\", \\\"IsPimsManaged\\\": \\\"True\\\", \\\"OrganisationName\\\": \\\"Bristol, North Somerset, Somerset And South Gloucestershire Area Team\\\", \\\"Address1\\\": \\\"South Plaza\\\", \\\"Address3\\\": \\\"Marlborough Street\\\", \\\"City\\\": \\\"Bristol\\\", \\\"County\\\": \\\"Somerset\\\", \\\"Postcode\\\": \\\"BS1 3NX\\\", \\\"Phone\\\": \\\"0117 976 6600\\\", \\\"Email\\\": \\\"england.contactus@nhs.net\\\", \\\"Website\\\": \\\"http://www.england.nhs.uk/south/south/bnsssg-at/\\\", \\\"Color\\\": \\\"red\\\"}}, {\\\"type\\\": \\\"Feature\\\", \\\"id\\\": \\\"463100\\\", \\\"geometry\\\": {\\\"type\\\": \\\"Point\\\", \\\"coordinates\\\": [-4.232546806335449, 50.42112731933594]}, \\\"properties\\\": {\\\"OrganisationCode\\\": \\\"Q66\\\", \\\"OrganisationType\\\": \\\"Area Team\\\", \\\"SubType\\\": \\\"UNKNOWN\\\", \\\"OrganisationStatus\\\": \\\"Visible\\\", \\\"IsPimsManaged\\\": \\\"True\\\", \\\"OrganisationName\\\": \\\"Devon, Cornwall And Isles Of Scilly Area Team\\\", \\\"Address1\\\": \\\"Peninsula House\\\", \\\"Address2\\\": \\\"Kingsmill Road\\\", \\\"Address3\\\": \\\"Tamar View Industrial Estate\\\", \\\"City\\\": \\\"Cornwall\\\", \\\"County\\\": \\\"Cornwall\\\", \\\"Postcode\\\": \\\"PL12 6LE\\\", \\\"Phone\\\": \\\"01752 679250\\\", \\\"Email\\\": \\\"england.contactus@nhs.net\\\", \\\"Website\\\": \\\"http://www.england.nhs.uk/south/south/dcis-at/\\\", \\\"Color\\\": \\\"blue\\\"}}, {\\\"type\\\": \\\"Feature\\\", \\\"id\\\": \\\"463101\\\", \\\"geometry\\\": {\\\"type\\\": \\\"Point\\\", \\\"coordinates\\\": [0.27698493003845215, 51.193748474121094]}, \\\"properties\\\": {\\\"OrganisationCode\\\": \\\"Q67\\\", \\\"OrganisationType\\\": \\\"Area Team\\\", \\\"SubType\\\": \\\"UNKNOWN\\\", \\\"OrganisationStatus\\\": \\\"Visible\\\", \\\"IsPimsManaged\\\": \\\"True\\\", \\\"OrganisationName\\\": \\\"Kent And Medway Area Team\\\", \\\"Address1\\\": \\\"Wharf House\\\", \\\"Address2\\\": \\\"Medway Wharf Road\\\", \\\"City\\\": \\\"Tonbridge\\\", \\\"County\\\": \\\"Kent\\\", \\\"Postcode\\\": \\\"TN9 1RE\\\", \\\"Phone\\\": \\\"01732 375200\\\", \\\"Email\\\": \\\"england.kentandmedwaybusinessoffice@nhs.net\\\", \\\"Website\\\": \\\"http://www.england.nhs.uk/south/south/km-at/\\\", \\\"Color\\\": \\\"red\\\"}}, {\\\"type\\\": \\\"Feature\\\", \\\"id\\\": \\\"463102\\\", \\\"geometry\\\": {\\\"type\\\": \\\"Point\\\", \\\"coordinates\\\": [-0.1647440642118454, 51.170936584472656]}, \\\"properties\\\": {\\\"OrganisationCode\\\": \\\"Q68\\\", \\\"OrganisationType\\\": \\\"Area Team\\\", \\\"SubType\\\": \\\"UNKNOWN\\\", \\\"OrganisationStatus\\\": \\\"Visible\\\", \\\"IsPimsManaged\\\": \\\"True\\\", \\\"OrganisationName\\\": \\\"Surrey And Sussex Area Team\\\", \\\"Address1\\\": \\\"York House\\\", \\\"Address2\\\": \\\"18-20 Massetts Road\\\", \\\"City\\\": \\\"Horley\\\", \\\"County\\\": \\\"Surrey\\\", \\\"Postcode\\\": \\\"RH6 7DE\\\", \\\"Phone\\\": \\\"01293 778899\\\", \\\"Email\\\": \\\"england.surreyandsussex-businessoffice@nhs.net\\\", \\\"Website\\\": \\\"http://www.england.nhs.uk/south/south/ss-at/\\\", \\\"Color\\\": \\\"blue\\\"}}, {\\\"type\\\": \\\"Feature\\\", \\\"id\\\": \\\"463103\\\", \\\"geometry\\\": {\\\"type\\\": \\\"Point\\\", \\\"coordinates\\\": [-1.2079498767852783, 51.72844696044922]}, \\\"properties\\\": {\\\"OrganisationCode\\\": \\\"Q69\\\", \\\"OrganisationType\\\": \\\"Area Team\\\", \\\"SubType\\\": \\\"UNKNOWN\\\", \\\"OrganisationStatus\\\": \\\"Visible\\\", \\\"IsPimsManaged\\\": \\\"True\\\", \\\"OrganisationName\\\": \\\"Thames Valley Area Team\\\", \\\"Address1\\\": \\\"Jubilee House\\\", \\\"Address2\\\": \\\"5510 John Smith Drive\\\", \\\"Address3\\\": \\\"Oxford Business Park South\\\", \\\"City\\\": \\\"Cowley\\\", \\\"County\\\": \\\"Oxfordshire\\\", \\\"Postcode\\\": \\\"OX4 2LH\\\", \\\"Phone\\\": \\\"01865 963800\\\", \\\"Email\\\": \\\"england.contactus@nhs.net\\\", \\\"Website\\\": \\\"http://www.england.nhs.uk/south/south/tv-at/\\\", \\\"Color\\\": \\\"red\\\"}}, {\\\"type\\\": \\\"Feature\\\", \\\"id\\\": \\\"463104\\\", \\\"geometry\\\": {\\\"type\\\": \\\"Point\\\", \\\"coordinates\\\": [-1.4493359327316284, 50.92325973510742]}, \\\"properties\\\": {\\\"OrganisationCode\\\": \\\"Q70\\\", \\\"OrganisationType\\\": \\\"Area Team\\\", \\\"SubType\\\": \\\"UNKNOWN\\\", \\\"OrganisationStatus\\\": \\\"Visible\\\", \\\"IsPimsManaged\\\": \\\"True\\\", \\\"OrganisationName\\\": \\\"Wessex Area Team\\\", \\\"Address2\\\": \\\"Oakley Road\\\", \\\"City\\\": \\\"Southampton\\\", \\\"County\\\": \\\"Hampshire\\\", \\\"Postcode\\\": \\\"SO16 4GX\\\", \\\"Phone\\\": \\\"023 8029 6914\\\", \\\"Email\\\": \\\"england.wessexpatientexperience@nhs.net\\\", \\\"Website\\\": \\\"http://www.england.nhs.uk/south/south/w-at/\\\", \\\"Color\\\": \\\"blue\\\"}}, {\\\"type\\\": \\\"Feature\\\", \\\"id\\\": \\\"463105\\\", \\\"geometry\\\": {\\\"type\\\": \\\"Point\\\", \\\"coordinates\\\": [-0.13727261126041412, 51.49694061279297]}, \\\"properties\\\": {\\\"OrganisationCode\\\": \\\"Q71\\\", \\\"OrganisationType\\\": \\\"Area Team\\\", \\\"SubType\\\": \\\"UNKNOWN\\\", \\\"OrganisationStatus\\\": \\\"Visible\\\", \\\"IsPimsManaged\\\": \\\"True\\\", \\\"OrganisationName\\\": \\\"London Area Team\\\", \\\"Address2\\\": \\\"2nd Floor, Southside\\\", \\\"Address3\\\": \\\"105 Victoria Street\\\", \\\"City\\\": \\\"London\\\", \\\"Postcode\\\": \\\"SW1E 6QT\\\", \\\"Phone\\\": \\\"0207 932 3700\\\", \\\"Email\\\": \\\"england.contactus@nhs.net\\\", \\\"Website\\\": \\\"http://www.england.nhs.uk/london/\\\", \\\"Color\\\": \\\"red\\\"}}, {\\\"type\\\": \\\"Feature\\\", \\\"id\\\": \\\"463120\\\", \\\"geometry\\\": {\\\"type\\\": \\\"Point\\\", \\\"coordinates\\\": [-2.5846381187438965, 53.37392807006836]}, \\\"properties\\\": {\\\"OrganisationCode\\\": \\\"Q44\\\", \\\"OrganisationType\\\": \\\"Area Team\\\", \\\"SubType\\\": \\\"UNKNOWN\\\", \\\"OrganisationStatus\\\": \\\"Visible\\\", \\\"IsPimsManaged\\\": \\\"True\\\", \\\"OrganisationName\\\": \\\"Cheshire, Warrington And Wirral Area Team\\\", \\\"Address1\\\": \\\"NHS Quayside (NHS North West)\\\", \\\"Address2\\\": \\\"Wilderspool Park\\\", \\\"Address3\\\": \\\"Greensall Avenue\\\", \\\"City\\\": \\\"Warrington\\\", \\\"County\\\": \\\"Cheshire\\\", \\\"Postcode\\\": \\\"WA4 6HL\\\", \\\"Phone\\\": \\\"01925 406000\\\", \\\"Email\\\": \\\"england.contactus@nhs.net\\\", \\\"Website\\\": \\\"http://www.england.nhs.uk/north/north/cww-at/\\\", \\\"Color\\\": \\\"blue\\\"}}, {\\\"type\\\": \\\"Feature\\\", \\\"id\\\": \\\"463121\\\", \\\"geometry\\\": {\\\"type\\\": \\\"Point\\\", \\\"coordinates\\\": [-1.5323498249053955, 53.79779815673828]}, \\\"properties\\\": {\\\"OrganisationCode\\\": \\\"Q45\\\", \\\"OrganisationType\\\": \\\"Area Team\\\", \\\"SubType\\\": \\\"UNKNOWN\\\", \\\"OrganisationStatus\\\": \\\"Visible\\\", \\\"IsPimsManaged\\\": \\\"True\\\", \\\"OrganisationName\\\": \\\"Durham, Darlington And Tees Area Team\\\", \\\"Address1\\\": \\\"The Old Exchange\\\", \\\"Address2\\\": \\\"Barnard Street\\\", \\\"City\\\": \\\"Darlington\\\", \\\"County\\\": \\\"Durham\\\", \\\"Postcode\\\": \\\"LS2 7UE\\\", \\\"Phone\\\": \\\"0113 825 1609\\\", \\\"Email\\\": \\\"england.ddt-at-generalenquiries@nhs.net\\\", \\\"Website\\\": \\\"http://www.england.nhs.uk/north/north/ddt-at/\\\", \\\"Color\\\": \\\"red\\\"}}, {\\\"type\\\": \\\"Feature\\\", \\\"id\\\": \\\"463122\\\", \\\"geometry\\\": {\\\"type\\\": \\\"Point\\\", \\\"coordinates\\\": [-2.233488082885742, 53.47760009765625]}, \\\"properties\\\": {\\\"OrganisationCode\\\": \\\"Q46\\\", \\\"OrganisationType\\\": \\\"Area Team\\\", \\\"SubType\\\": \\\"UNKNOWN\\\", \\\"OrganisationStatus\\\": \\\"Visible\\\", \\\"IsPimsManaged\\\": \\\"True\\\", \\\"OrganisationName\\\": \\\"Greater Manchester Area Team\\\", \\\"Address1\\\": \\\"4th Floor\\\", \\\"Address2\\\": \\\"3 Picadilly Place\\\", \\\"Address3\\\": \\\"London Road\\\", \\\"City\\\": \\\"Manchester\\\", \\\"County\\\": \\\"Lancashire\\\", \\\"Postcode\\\": \\\"M1 3BN\\\", \\\"Phone\\\": \\\"0845 0500194\\\", \\\"Email\\\": \\\"nhse.gmat@nhs.net\\\", \\\"Website\\\": \\\"http://www.england.nhs.uk/north/north/gm-at/\\\", \\\"Color\\\": \\\"blue\\\"}}, {\\\"type\\\": \\\"Feature\\\", \\\"id\\\": \\\"463123\\\", \\\"geometry\\\": {\\\"type\\\": \\\"Point\\\", \\\"coordinates\\\": [-2.705566644668579, 53.77775573730469]}, \\\"properties\\\": {\\\"OrganisationCode\\\": \\\"Q47\\\", \\\"OrganisationType\\\": \\\"Area Team\\\", \\\"SubType\\\": \\\"UNKNOWN\\\", \\\"OrganisationStatus\\\": \\\"Visible\\\", \\\"IsPimsManaged\\\": \\\"True\\\", \\\"OrganisationName\\\": \\\"Lancashire Area Team\\\", \\\"Address1\\\": \\\"Second Floor, Preston Business Centre\\\", \\\"Address2\\\": \\\"Watling Street Road\\\", \\\"Address3\\\": \\\"Fulwood\\\", \\\"City\\\": \\\"Preston\\\", \\\"County\\\": \\\"Lancashire\\\", \\\"Postcode\\\": \\\"PR2 8DY\\\", \\\"Phone\\\": \\\"01772 420150\\\", \\\"Email\\\": \\\"england.contactus@nhs.net\\\", \\\"Website\\\": \\\"http://www.england.nhs.uk/north/north/lanc-at/\\\", \\\"Color\\\": \\\"red\\\"}}, {\\\"type\\\": \\\"Feature\\\", \\\"id\\\": \\\"463124\\\", \\\"geometry\\\": {\\\"type\\\": \\\"Point\\\", \\\"coordinates\\\": [-2.9802029132843018, 53.38481903076172]}, \\\"properties\\\": {\\\"OrganisationCode\\\": \\\"Q48\\\", \\\"OrganisationType\\\": \\\"Area Team\\\", \\\"SubType\\\": \\\"UNKNOWN\\\", \\\"OrganisationStatus\\\": \\\"Visible\\\", \\\"IsPimsManaged\\\": \\\"True\\\", \\\"OrganisationName\\\": \\\"Merseyside Area Team\\\", \\\"Address1\\\": \\\"Regatta Place\\\", \\\"Address2\\\": \\\"Summers Road\\\", \\\"Address3\\\": \\\"Brunswick Business Park\\\", \\\"City\\\": \\\"Liverpool\\\", \\\"County\\\": \\\"Merseyside\\\", \\\"Postcode\\\": \\\"L3 4BL\\\", \\\"Phone\\\": \\\"0151 285 4777\\\", \\\"Email\\\": \\\"england.contactus@nhs.net\\\", \\\"Website\\\": \\\"http://www.england.nhs.uk/north/north/mers-at/\\\", \\\"Color\\\": \\\"blue\\\"}}, {\\\"type\\\": \\\"Feature\\\", \\\"id\\\": \\\"463125\\\", \\\"geometry\\\": {\\\"type\\\": \\\"Point\\\", \\\"coordinates\\\": [-1.7141016721725464, 54.96938705444336]}, \\\"properties\\\": {\\\"OrganisationCode\\\": \\\"Q49\\\", \\\"OrganisationType\\\": \\\"Area Team\\\", \\\"SubType\\\": \\\"UNKNOWN\\\", \\\"OrganisationStatus\\\": \\\"Visible\\\", \\\"IsPimsManaged\\\": \\\"True\\\", \\\"OrganisationName\\\": \\\"Cumbria, Northumberland, Tyne And Wear Area Team\\\", \\\"Address1\\\": \\\"Waterfront\\\", \\\"Address2\\\": \\\"4 Goldcrest Way\\\", \\\"Address3\\\": \\\"Newburn\\\", \\\"City\\\": \\\"Newcastle Upon Tyne\\\", \\\"County\\\": \\\"Tyne and Wear\\\", \\\"Postcode\\\": \\\"NE15 8NY\\\", \\\"Phone\\\": \\\"01912 106400\\\", \\\"Email\\\": \\\"england.contactus@nhs.net\\\", \\\"Website\\\": \\\"http://www.england.nhs.uk/north/north/cntw-at/\\\", \\\"Color\\\": \\\"red\\\"}}, {\\\"type\\\": \\\"Feature\\\", \\\"id\\\": \\\"463126\\\", \\\"geometry\\\": {\\\"type\\\": \\\"Point\\\", \\\"coordinates\\\": [-1.0497655868530273, 53.989986419677734]}, \\\"properties\\\": {\\\"OrganisationCode\\\": \\\"Q50\\\", \\\"OrganisationType\\\": \\\"Area Team\\\", \\\"SubType\\\": \\\"UNKNOWN\\\", \\\"OrganisationStatus\\\": \\\"Visible\\\", \\\"IsPimsManaged\\\": \\\"True\\\", \\\"OrganisationName\\\": \\\"North Yorkshire And Humber Area Team\\\", \\\"Address1\\\": \\\"Unit 3\\\", \\\"Address2\\\": \\\"Alpha Court\\\", \\\"Address3\\\": \\\"Monks Cross\\\", \\\"City\\\": \\\"York\\\", \\\"County\\\": \\\"North Yorkshire\\\", \\\"Postcode\\\": \\\"YO32 9WN\\\", \\\"Phone\\\": \\\"0113 825 1845\\\", \\\"Email\\\": \\\"england.contactus@nhs.net\\\", \\\"Website\\\": \\\"http://www.england.nhs.uk/north/north/nyh-at/\\\", \\\"Color\\\": \\\"blue\\\"}}, {\\\"type\\\": \\\"Feature\\\", \\\"id\\\": \\\"463127\\\", \\\"geometry\\\": {\\\"type\\\": \\\"Point\\\", \\\"coordinates\\\": [-1.2550956010818481, 53.42157745361328]}, \\\"properties\\\": {\\\"OrganisationCode\\\": \\\"Q51\\\", \\\"OrganisationType\\\": \\\"Area Team\\\", \\\"SubType\\\": \\\"UNKNOWN\\\", \\\"OrganisationStatus\\\": \\\"Visible\\\", \\\"IsPimsManaged\\\": \\\"True\\\", \\\"OrganisationName\\\": \\\"South Yorkshire And Bassetlaw Area Team\\\", \\\"Address1\\\": \\\"Oak House\\\", \\\"Address2\\\": \\\"Moorhead Way\\\", \\\"Address3\\\": \\\"Bramley\\\", \\\"City\\\": \\\"Rotherham\\\", \\\"County\\\": \\\"South Yorkshire\\\", \\\"Postcode\\\": \\\"S66 1YY\\\", \\\"Phone\\\": \\\"01709 302000\\\", \\\"Email\\\": \\\"england.syb-businessoffice@nhs.net\\\", \\\"Website\\\": \\\"http://www.england.nhs.uk/north/north/syb-at/\\\", \\\"Color\\\": \\\"red\\\"}}, {\\\"type\\\": \\\"Feature\\\", \\\"id\\\": \\\"463128\\\", \\\"geometry\\\": {\\\"type\\\": \\\"Point\\\", \\\"coordinates\\\": [-1.544582486152649, 53.78975296020508]}, \\\"properties\\\": {\\\"OrganisationCode\\\": \\\"Q52\\\", \\\"OrganisationType\\\": \\\"Area Team\\\", \\\"SubType\\\": \\\"UNKNOWN\\\", \\\"OrganisationStatus\\\": \\\"Visible\\\", \\\"IsPimsManaged\\\": \\\"True\\\", \\\"OrganisationName\\\": \\\"West Yorkshire Area Team\\\", \\\"Address1\\\": \\\"3 Leeds City Office Park\\\", \\\"Address2\\\": \\\"Meadow Lane\\\", \\\"City\\\": \\\"Leeds\\\", \\\"County\\\": \\\"West Yorkshire\\\", \\\"Postcode\\\": \\\"LS11 5BD\\\", \\\"Phone\\\": \\\"0113 8252700\\\", \\\"Email\\\": \\\"reception.westyorkshireareateam@nhs.net\\\", \\\"Website\\\": \\\"http://www.england.nhs.uk/north/north/wy-at/\\\", \\\"Color\\\": \\\"blue\\\"}}, {\\\"type\\\": \\\"Feature\\\", \\\"id\\\": \\\"463129\\\", \\\"geometry\\\": {\\\"type\\\": \\\"Point\\\", \\\"coordinates\\\": [-2.1813161373138428, 52.18680953979492]}, \\\"properties\\\": {\\\"OrganisationCode\\\": \\\"Q53\\\", \\\"OrganisationType\\\": \\\"Area Team\\\", \\\"SubType\\\": \\\"UNKNOWN\\\", \\\"OrganisationStatus\\\": \\\"Visible\\\", \\\"IsPimsManaged\\\": \\\"True\\\", \\\"OrganisationName\\\": \\\"Arden, Herefordshire And Worcestershire Area Team\\\", \\\"Address2\\\": \\\"Wildwood\\\", \\\"Address3\\\": \\\"Wildwood Drive\\\", \\\"City\\\": \\\"Worcester\\\", \\\"County\\\": \\\"Worcestershire\\\", \\\"Postcode\\\": \\\"WR5 2LG\\\", \\\"Phone\\\": \\\"0113 825 3099\\\", \\\"Email\\\": \\\"england.contactus@nhs.net\\\", \\\"Website\\\": \\\"http://www.england.nhs.uk/mids-east/mids-east-3/ahw-at/\\\", \\\"Color\\\": \\\"red\\\"}}, {\\\"type\\\": \\\"Feature\\\", \\\"id\\\": \\\"463130\\\", \\\"geometry\\\": {\\\"type\\\": \\\"Point\\\", \\\"coordinates\\\": [-1.9351675510406494, 52.471920013427734]}, \\\"properties\\\": {\\\"OrganisationCode\\\": \\\"Q54\\\", \\\"OrganisationType\\\": \\\"Area Team\\\", \\\"SubType\\\": \\\"UNKNOWN\\\", \\\"OrganisationStatus\\\": \\\"Visible\\\", \\\"IsPimsManaged\\\": \\\"True\\\", \\\"OrganisationName\\\": \\\"Birmingham And The Black Country Area Team\\\", \\\"Address1\\\": \\\"St Chads Court\\\", \\\"Address2\\\": \\\"213 Hagley Road\\\", \\\"Address3\\\": \\\"Edgbaston\\\", \\\"City\\\": \\\"Birmingham\\\", \\\"County\\\": \\\"West Midlands\\\", \\\"Postcode\\\": \\\"B16 9RG\\\", \\\"Phone\\\": \\\"0121 695 2222\\\", \\\"Email\\\": \\\"england.contactus@nhs.net\\\", \\\"Website\\\": \\\"http://www.england.nhs.uk/mids-east/mids-east-3/bsbc-at/\\\", \\\"Color\\\": \\\"blue\\\"}}, {\\\"type\\\": \\\"Feature\\\", \\\"id\\\": \\\"463131\\\", \\\"geometry\\\": {\\\"type\\\": \\\"Point\\\", \\\"coordinates\\\": [-1.1435775756835938, 53.12958526611328]}, \\\"properties\\\": {\\\"OrganisationCode\\\": \\\"Q55\\\", \\\"OrganisationType\\\": \\\"Area Team\\\", \\\"SubType\\\": \\\"UNKNOWN\\\", \\\"OrganisationStatus\\\": \\\"Visible\\\", \\\"IsPimsManaged\\\": \\\"True\\\", \\\"OrganisationName\\\": \\\"Derbyshire And Nottinghamshire Area Team\\\", \\\"Address1\\\": \\\"Birch House\\\", \\\"Address2\\\": \\\"Ransom Wood Business Park\\\", \\\"Address3\\\": \\\"Southwell Road West, Rainworth\\\", \\\"City\\\": \\\"Nottingham\\\", \\\"County\\\": \\\"Nottinghamshire\\\", \\\"Postcode\\\": \\\"NG21 0HJ\\\", \\\"Phone\\\": \\\"0300 300 1234\\\", \\\"Email\\\": \\\"england.contactus@nhs.net\\\", \\\"Website\\\": \\\"http://www.england.nhs.uk/mids-east/mids-east-3/dn-at/\\\", \\\"Color\\\": \\\"red\\\"}}, {\\\"type\\\": \\\"Feature\\\", \\\"id\\\": \\\"463132\\\", \\\"geometry\\\": {\\\"type\\\": \\\"Point\\\", \\\"coordinates\\\": [0.19126050174236298, 52.18547821044922]}, \\\"properties\\\": {\\\"OrganisationCode\\\": \\\"Q56\\\", \\\"OrganisationType\\\": \\\"Area Team\\\", \\\"SubType\\\": \\\"UNKNOWN\\\", \\\"OrganisationStatus\\\": \\\"Visible\\\", \\\"IsPimsManaged\\\": \\\"True\\\", \\\"OrganisationName\\\": \\\"East Anglia Area Team\\\", \\\"Address1\\\": \\\"CPC1\\\", \\\"Address2\\\": \\\"Capital Business Park\\\", \\\"Address3\\\": \\\"Fulbourn\\\", \\\"City\\\": \\\"Cambridge\\\", \\\"County\\\": \\\"Cambridgeshire\\\", \\\"Postcode\\\": \\\"CB21 5XE\\\", \\\"Phone\\\": \\\"01223 708700\\\", \\\"Email\\\": \\\"england.contactus@nhs.net\\\", \\\"Website\\\": \\\"http://www.england.nhs.uk/mids-east/mids-east-3/ea-at/\\\", \\\"Color\\\": \\\"blue\\\"}}, {\\\"type\\\": \\\"Feature\\\", \\\"id\\\": \\\"463133\\\", \\\"geometry\\\": {\\\"type\\\": \\\"Point\\\", \\\"coordinates\\\": [0.5076583027839661, 51.74932098388672]}, \\\"properties\\\": {\\\"OrganisationCode\\\": \\\"Q57\\\", \\\"OrganisationType\\\": \\\"Area Team\\\", \\\"SubType\\\": \\\"UNKNOWN\\\", \\\"OrganisationStatus\\\": \\\"Visible\\\", \\\"IsPimsManaged\\\": \\\"True\\\", \\\"OrganisationName\\\": \\\"Essex Area Team\\\", \\\"Address1\\\": \\\"Swift House\\\", \\\"Address2\\\": \\\"Hedgerows Business Park\\\", \\\"Address3\\\": \\\"Colchester Road, Springfield\\\", \\\"City\\\": \\\"Chelmsford\\\", \\\"County\\\": \\\"Essex\\\", \\\"Postcode\\\": \\\"CM2 5PF\\\", \\\"Phone\\\": \\\"01245 398770\\\", \\\"Email\\\": \\\"england.contactus@nhs.net\\\", \\\"Website\\\": \\\"http://www.england.nhs.uk/mids-east/mids-east-3/essex-at/\\\", \\\"Color\\\": \\\"red\\\"}}, {\\\"type\\\": \\\"Feature\\\", \\\"id\\\": \\\"463134\\\", \\\"geometry\\\": {\\\"type\\\": \\\"Point\\\", \\\"coordinates\\\": [-0.20884820818901062, 51.8019905090332]}, \\\"properties\\\": {\\\"OrganisationCode\\\": \\\"Q58\\\", \\\"OrganisationType\\\": \\\"Area Team\\\", \\\"SubType\\\": \\\"UNKNOWN\\\", \\\"OrganisationStatus\\\": \\\"Visible\\\", \\\"IsPimsManaged\\\": \\\"True\\\", \\\"OrganisationName\\\": \\\"Hertfordshire And The South Midlands Area Team\\\", \\\"Address1\\\": \\\"Charter House\\\", \\\"Address2\\\": \\\"Parkway\\\", \\\"City\\\": \\\"Welwyn Garden City\\\", \\\"County\\\": \\\"Hertfordshire\\\", \\\"Postcode\\\": \\\"AL8 6JL\\\", \\\"Phone\\\": \\\"01707 390855\\\", \\\"Email\\\": \\\"england.contactus@nhs.net\\\", \\\"Website\\\": \\\"http://www.england.nhs.uk/mids-east/mids-east-3/hsm-at/\\\", \\\"Color\\\": \\\"blue\\\"}}, {\\\"type\\\": \\\"Feature\\\", \\\"id\\\": \\\"463135\\\", \\\"geometry\\\": {\\\"type\\\": \\\"Point\\\", \\\"coordinates\\\": [-1.189500093460083, 52.593223571777344]}, \\\"properties\\\": {\\\"OrganisationCode\\\": \\\"Q59\\\", \\\"OrganisationType\\\": \\\"Area Team\\\", \\\"SubType\\\": \\\"UNKNOWN\\\", \\\"OrganisationStatus\\\": \\\"Visible\\\", \\\"IsPimsManaged\\\": \\\"True\\\", \\\"OrganisationName\\\": \\\"Leicestershire And Lincolnshire Area Team\\\", \\\"Address1\\\": \\\"Fosse House\\\", \\\"Address2\\\": \\\"6 Smith Way\\\", \\\"Address3\\\": \\\"Grove Park, Enderby\\\", \\\"City\\\": \\\"Leicester\\\", \\\"County\\\": \\\"Leicestershire\\\", \\\"Postcode\\\": \\\"LE19 1SX\\\", \\\"Phone\\\": \\\"0116 295 7500\\\", \\\"Email\\\": \\\"england.leicsandlincsareateam@nhs.net\\\", \\\"Website\\\": \\\"http://www.england.nhs.uk/mids-east/mids-east-3/ll-at/\\\", \\\"Color\\\": \\\"red\\\"}}, {\\\"type\\\": \\\"Feature\\\", \\\"id\\\": \\\"463136\\\", \\\"geometry\\\": {\\\"type\\\": \\\"Point\\\", \\\"coordinates\\\": [-1.9140186309814453, 52.7487907409668]}, \\\"properties\\\": {\\\"OrganisationCode\\\": \\\"Q60\\\", \\\"OrganisationType\\\": \\\"Area Team\\\", \\\"SubType\\\": \\\"UNKNOWN\\\", \\\"OrganisationStatus\\\": \\\"Visible\\\", \\\"IsPimsManaged\\\": \\\"True\\\", \\\"OrganisationName\\\": \\\"Shropshire And Staffordshire Area Team\\\", \\\"Address1\\\": \\\"Anglesey House,\\\", \\\"Address2\\\": \\\"Wheelhouse Road,\\\", \\\"Address3\\\": \\\"Towers Plaza,\\\", \\\"City\\\": \\\"Rugeley,\\\", \\\"County\\\": \\\"Staffordshire\\\", \\\"Postcode\\\": \\\"WS15 1UL\\\", \\\"Phone\\\": \\\"0300 7900233\\\", \\\"Email\\\": \\\"england.contactus@nhs.net\\\", \\\"Website\\\": \\\"http://www.england.nhs.uk/mids-east/mids-east-3/ss-at/\\\", \\\"Color\\\": \\\"blue\\\"}}]}\",\"selected\":{\"id\":\"3074\"},\"selection_policy\":{\"id\":\"3073\"}},\"id\":\"3001\",\"type\":\"GeoJSONDataSource\"},{\"attributes\":{\"source\":{\"id\":\"3001\"}},\"id\":\"3039\",\"type\":\"CDSView\"},{\"attributes\":{},\"id\":\"3072\",\"type\":\"BasicTickFormatter\"},{\"attributes\":{\"fill_alpha\":{\"value\":0.7},\"fill_color\":{\"field\":\"Color\"},\"line_alpha\":{\"value\":0.7},\"line_color\":{\"field\":\"Color\"},\"size\":{\"units\":\"screen\",\"value\":15},\"x\":{\"field\":\"x\"},\"y\":{\"field\":\"y\"}},\"id\":\"3036\",\"type\":\"Circle\"},{\"attributes\":{},\"id\":\"3023\",\"type\":\"ResetTool\"},{\"attributes\":{},\"id\":\"3073\",\"type\":\"UnionRenderers\"},{\"attributes\":{\"data_source\":{\"id\":\"3001\"},\"glyph\":{\"id\":\"3036\"},\"hover_glyph\":null,\"muted_glyph\":null,\"nonselection_glyph\":{\"id\":\"3037\"},\"selection_glyph\":null,\"view\":{\"id\":\"3039\"}},\"id\":\"3038\",\"type\":\"GlyphRenderer\"},{\"attributes\":{\"callback\":null,\"tooltips\":[[\"Organisation\",\"@OrganisationName\"]]},\"id\":\"3026\",\"type\":\"HoverTool\"},{\"attributes\":{\"axis\":{\"id\":\"3011\"},\"grid_line_alpha\":0.25,\"grid_line_color\":\"#E0E0E0\",\"ticker\":null},\"id\":\"3014\",\"type\":\"Grid\"},{\"attributes\":{\"bottom_units\":\"screen\",\"fill_alpha\":0.5,\"fill_color\":\"lightgrey\",\"left_units\":\"screen\",\"level\":\"overlay\",\"line_alpha\":1.0,\"line_color\":\"black\",\"line_dash\":[4,4],\"line_width\":2,\"right_units\":\"screen\",\"top_units\":\"screen\"},\"id\":\"3025\",\"type\":\"BoxAnnotation\"},{\"attributes\":{},\"id\":\"3012\",\"type\":\"BasicTicker\"},{\"attributes\":{},\"id\":\"3020\",\"type\":\"WheelZoomTool\"},{\"attributes\":{},\"id\":\"3007\",\"type\":\"LinearScale\"},{\"attributes\":{\"overlay\":{\"id\":\"3025\"}},\"id\":\"3021\",\"type\":\"BoxZoomTool\"},{\"attributes\":{},\"id\":\"3005\",\"type\":\"DataRange1d\"},{\"attributes\":{},\"id\":\"3019\",\"type\":\"PanTool\"},{\"attributes\":{},\"id\":\"3003\",\"type\":\"DataRange1d\"},{\"attributes\":{\"axis\":{\"id\":\"3015\"},\"dimension\":1,\"grid_line_alpha\":0.25,\"grid_line_color\":\"#E0E0E0\",\"ticker\":null},\"id\":\"3018\",\"type\":\"Grid\"},{\"attributes\":{\"text\":\"\",\"text_color\":{\"value\":\"#E0E0E0\"},\"text_font\":\"Helvetica\",\"text_font_size\":{\"value\":\"1.15em\"}},\"id\":\"3067\",\"type\":\"Title\"},{\"attributes\":{},\"id\":\"3022\",\"type\":\"SaveTool\"},{\"attributes\":{},\"id\":\"3009\",\"type\":\"LinearScale\"},{\"attributes\":{\"active_drag\":\"auto\",\"active_inspect\":\"auto\",\"active_multi\":null,\"active_scroll\":\"auto\",\"active_tap\":\"auto\",\"tools\":[{\"id\":\"3019\"},{\"id\":\"3020\"},{\"id\":\"3021\"},{\"id\":\"3022\"},{\"id\":\"3023\"},{\"id\":\"3024\"},{\"id\":\"3026\"}]},\"id\":\"3027\",\"type\":\"Toolbar\"},{\"attributes\":{\"axis_label_standoff\":10,\"axis_label_text_color\":\"#E0E0E0\",\"axis_label_text_font\":\"Helvetica\",\"axis_label_text_font_size\":\"1.25em\",\"axis_label_text_font_style\":\"normal\",\"axis_line_alpha\":0,\"axis_line_color\":\"#E0E0E0\",\"formatter\":{\"id\":\"3072\"},\"major_label_text_color\":\"#E0E0E0\",\"major_label_text_font\":\"Helvetica\",\"major_label_text_font_size\":\"1.025em\",\"major_tick_line_alpha\":0,\"major_tick_line_color\":\"#E0E0E0\",\"minor_tick_line_alpha\":0,\"minor_tick_line_color\":\"#E0E0E0\",\"ticker\":{\"id\":\"3012\"}},\"id\":\"3011\",\"type\":\"LinearAxis\"},{\"attributes\":{},\"id\":\"3024\",\"type\":\"HelpTool\"},{\"attributes\":{},\"id\":\"3070\",\"type\":\"BasicTickFormatter\"},{\"attributes\":{\"axis_label_standoff\":10,\"axis_label_text_color\":\"#E0E0E0\",\"axis_label_text_font\":\"Helvetica\",\"axis_label_text_font_size\":\"1.25em\",\"axis_label_text_font_style\":\"normal\",\"axis_line_alpha\":0,\"axis_line_color\":\"#E0E0E0\",\"formatter\":{\"id\":\"3070\"},\"major_label_text_color\":\"#E0E0E0\",\"major_label_text_font\":\"Helvetica\",\"major_label_text_font_size\":\"1.025em\",\"major_tick_line_alpha\":0,\"major_tick_line_color\":\"#E0E0E0\",\"minor_tick_line_alpha\":0,\"minor_tick_line_color\":\"#E0E0E0\",\"ticker\":{\"id\":\"3016\"}},\"id\":\"3015\",\"type\":\"LinearAxis\"},{\"attributes\":{},\"id\":\"3074\",\"type\":\"Selection\"},{\"attributes\":{},\"id\":\"3016\",\"type\":\"BasicTicker\"}],\"root_ids\":[\"3002\"]},\"title\":\"Bokeh Application\",\"version\":\"2.1.1\"}};\n",
       "  var render_items = [{\"docid\":\"84be4379-4447-45e3-935c-6f7653bec861\",\"root_ids\":[\"3002\"],\"roots\":{\"3002\":\"296b146c-2cb4-4bd0-ad07-4a43767e4543\"}}];\n",
       "  root.Bokeh.embed.embed_items_notebook(docs_json, render_items);\n",
       "\n",
       "  }\n",
       "  if (root.Bokeh !== undefined) {\n",
       "    embed_document(root);\n",
       "  } else {\n",
       "    var attempts = 0;\n",
       "    var timer = setInterval(function(root) {\n",
       "      if (root.Bokeh !== undefined) {\n",
       "        clearInterval(timer);\n",
       "        embed_document(root);\n",
       "      } else {\n",
       "        attempts++;\n",
       "        if (attempts > 100) {\n",
       "          clearInterval(timer);\n",
       "          console.log(\"Bokeh: ERROR: Unable to run BokehJS code because BokehJS library is missing\");\n",
       "        }\n",
       "      }\n",
       "    }, 10, root)\n",
       "  }\n",
       "})(window);"
      ],
      "application/vnd.bokehjs_exec.v0+json": ""
     },
     "metadata": {
      "application/vnd.bokehjs_exec.v0+json": {
       "id": "3002"
      }
     },
     "output_type": "display_data"
    }
   ],
   "source": [
    "import json\n",
    "\n",
    "from bokeh.io import output_file, show\n",
    "from bokeh.models import GeoJSONDataSource\n",
    "from bokeh.plotting import figure\n",
    "from bokeh.sampledata.sample_geojson import geojson\n",
    "from bokeh.tile_providers import get_provider, Vendors\n",
    "output_file(\"geojson.html\")\n",
    "\n",
    "data = json.loads(geojson)\n",
    "for i in range(len(data['features'])):\n",
    "    data['features'][i]['properties']['Color'] = ['blue', 'red'][i%2]\n",
    "\n",
    "geo_source = GeoJSONDataSource(geojson=json.dumps(data))\n",
    "\n",
    "TOOLTIPS = [\n",
    "    ('Organisation', '@OrganisationName')\n",
    "]\n",
    "\n",
    "p = figure(background_fill_color=\"lightgrey\", tooltips=TOOLTIPS)\n",
    "p.circle(x='x', y='y', size=15, color='Color', alpha=0.7, source=geo_source)\n",
    "\n",
    "show(p)"
   ]
  },
  {
   "cell_type": "code",
   "execution_count": 81,
   "metadata": {},
   "outputs": [
    {
     "name": "stderr",
     "output_type": "stream",
     "text": [
      "<ipython-input-81-735e444642aa>:42: SettingWithCopyWarning: \n",
      "A value is trying to be set on a copy of a slice from a DataFrame.\n",
      "Try using .loc[row_indexer,col_indexer] = value instead\n",
      "\n",
      "See the caveats in the documentation: https://pandas.pydata.org/pandas-docs/stable/user_guide/indexing.html#returning-a-view-versus-a-copy\n",
      "  df_quakes_2016['coords_x'] = lst_lat\n",
      "<ipython-input-81-735e444642aa>:43: SettingWithCopyWarning: \n",
      "A value is trying to be set on a copy of a slice from a DataFrame.\n",
      "Try using .loc[row_indexer,col_indexer] = value instead\n",
      "\n",
      "See the caveats in the documentation: https://pandas.pydata.org/pandas-docs/stable/user_guide/indexing.html#returning-a-view-versus-a-copy\n",
      "  df_quakes_2016['coords_y'] = lst_lon\n",
      "<ipython-input-81-735e444642aa>:48: SettingWithCopyWarning: \n",
      "A value is trying to be set on a copy of a slice from a DataFrame.\n",
      "Try using .loc[row_indexer,col_indexer] = value instead\n",
      "\n",
      "See the caveats in the documentation: https://pandas.pydata.org/pandas-docs/stable/user_guide/indexing.html#returning-a-view-versus-a-copy\n",
      "  df_quakes_2016['Mag_Size'] = df_quakes_2016['Magnitude'] * 4\n",
      "BokehDeprecationWarning: 'legend' keyword is deprecated, use explicit 'legend_label', 'legend_field', or 'legend_group' keywords instead\n",
      "BokehDeprecationWarning: 'legend' keyword is deprecated, use explicit 'legend_label', 'legend_field', or 'legend_group' keywords instead\n"
     ]
    },
    {
     "data": {
      "text/html": [
       "<div style=\"display: table;\"><div style=\"display: table-row;\"><div style=\"display: table-cell;\"><b title=\"bokeh.plotting.figure.Figure\">Figure</b>(</div><div style=\"display: table-cell;\">id&nbsp;=&nbsp;'10761', <span id=\"10831\" style=\"cursor: pointer;\">&hellip;)</span></div></div><div class=\"10830\" style=\"display: none;\"><div style=\"display: table-cell;\"></div><div style=\"display: table-cell;\">above&nbsp;=&nbsp;[],</div></div><div class=\"10830\" style=\"display: none;\"><div style=\"display: table-cell;\"></div><div style=\"display: table-cell;\">align&nbsp;=&nbsp;'start',</div></div><div class=\"10830\" style=\"display: none;\"><div style=\"display: table-cell;\"></div><div style=\"display: table-cell;\">aspect_ratio&nbsp;=&nbsp;None,</div></div><div class=\"10830\" style=\"display: none;\"><div style=\"display: table-cell;\"></div><div style=\"display: table-cell;\">aspect_scale&nbsp;=&nbsp;1,</div></div><div class=\"10830\" style=\"display: none;\"><div style=\"display: table-cell;\"></div><div style=\"display: table-cell;\">background&nbsp;=&nbsp;None,</div></div><div class=\"10830\" style=\"display: none;\"><div style=\"display: table-cell;\"></div><div style=\"display: table-cell;\">background_fill_alpha&nbsp;=&nbsp;1.0,</div></div><div class=\"10830\" style=\"display: none;\"><div style=\"display: table-cell;\"></div><div style=\"display: table-cell;\">background_fill_color&nbsp;=&nbsp;'#ffffff',</div></div><div class=\"10830\" style=\"display: none;\"><div style=\"display: table-cell;\"></div><div style=\"display: table-cell;\">below&nbsp;=&nbsp;[LinearAxis(id='10772', ...)],</div></div><div class=\"10830\" style=\"display: none;\"><div style=\"display: table-cell;\"></div><div style=\"display: table-cell;\">border_fill_alpha&nbsp;=&nbsp;1.0,</div></div><div class=\"10830\" style=\"display: none;\"><div style=\"display: table-cell;\"></div><div style=\"display: table-cell;\">border_fill_color&nbsp;=&nbsp;'#ffffff',</div></div><div class=\"10830\" style=\"display: none;\"><div style=\"display: table-cell;\"></div><div style=\"display: table-cell;\">center&nbsp;=&nbsp;[Grid(id='10775', ...), Grid(id='10779', ...), Legend(id='10812', ...)],</div></div><div class=\"10830\" style=\"display: none;\"><div style=\"display: table-cell;\"></div><div style=\"display: table-cell;\">css_classes&nbsp;=&nbsp;[],</div></div><div class=\"10830\" style=\"display: none;\"><div style=\"display: table-cell;\"></div><div style=\"display: table-cell;\">disabled&nbsp;=&nbsp;False,</div></div><div class=\"10830\" style=\"display: none;\"><div style=\"display: table-cell;\"></div><div style=\"display: table-cell;\">extra_x_ranges&nbsp;=&nbsp;{},</div></div><div class=\"10830\" style=\"display: none;\"><div style=\"display: table-cell;\"></div><div style=\"display: table-cell;\">extra_y_ranges&nbsp;=&nbsp;{},</div></div><div class=\"10830\" style=\"display: none;\"><div style=\"display: table-cell;\"></div><div style=\"display: table-cell;\">frame_height&nbsp;=&nbsp;None,</div></div><div class=\"10830\" style=\"display: none;\"><div style=\"display: table-cell;\"></div><div style=\"display: table-cell;\">frame_width&nbsp;=&nbsp;None,</div></div><div class=\"10830\" style=\"display: none;\"><div style=\"display: table-cell;\"></div><div style=\"display: table-cell;\">height&nbsp;=&nbsp;None,</div></div><div class=\"10830\" style=\"display: none;\"><div style=\"display: table-cell;\"></div><div style=\"display: table-cell;\">height_policy&nbsp;=&nbsp;'auto',</div></div><div class=\"10830\" style=\"display: none;\"><div style=\"display: table-cell;\"></div><div style=\"display: table-cell;\">hidpi&nbsp;=&nbsp;True,</div></div><div class=\"10830\" style=\"display: none;\"><div style=\"display: table-cell;\"></div><div style=\"display: table-cell;\">js_event_callbacks&nbsp;=&nbsp;{},</div></div><div class=\"10830\" style=\"display: none;\"><div style=\"display: table-cell;\"></div><div style=\"display: table-cell;\">js_property_callbacks&nbsp;=&nbsp;{},</div></div><div class=\"10830\" style=\"display: none;\"><div style=\"display: table-cell;\"></div><div style=\"display: table-cell;\">left&nbsp;=&nbsp;[LinearAxis(id='10776', ...)],</div></div><div class=\"10830\" style=\"display: none;\"><div style=\"display: table-cell;\"></div><div style=\"display: table-cell;\">lod_factor&nbsp;=&nbsp;10,</div></div><div class=\"10830\" style=\"display: none;\"><div style=\"display: table-cell;\"></div><div style=\"display: table-cell;\">lod_interval&nbsp;=&nbsp;300,</div></div><div class=\"10830\" style=\"display: none;\"><div style=\"display: table-cell;\"></div><div style=\"display: table-cell;\">lod_threshold&nbsp;=&nbsp;2000,</div></div><div class=\"10830\" style=\"display: none;\"><div style=\"display: table-cell;\"></div><div style=\"display: table-cell;\">lod_timeout&nbsp;=&nbsp;500,</div></div><div class=\"10830\" style=\"display: none;\"><div style=\"display: table-cell;\"></div><div style=\"display: table-cell;\">margin&nbsp;=&nbsp;(0, 0, 0, 0),</div></div><div class=\"10830\" style=\"display: none;\"><div style=\"display: table-cell;\"></div><div style=\"display: table-cell;\">match_aspect&nbsp;=&nbsp;False,</div></div><div class=\"10830\" style=\"display: none;\"><div style=\"display: table-cell;\"></div><div style=\"display: table-cell;\">max_height&nbsp;=&nbsp;None,</div></div><div class=\"10830\" style=\"display: none;\"><div style=\"display: table-cell;\"></div><div style=\"display: table-cell;\">max_width&nbsp;=&nbsp;None,</div></div><div class=\"10830\" style=\"display: none;\"><div style=\"display: table-cell;\"></div><div style=\"display: table-cell;\">min_border&nbsp;=&nbsp;5,</div></div><div class=\"10830\" style=\"display: none;\"><div style=\"display: table-cell;\"></div><div style=\"display: table-cell;\">min_border_bottom&nbsp;=&nbsp;None,</div></div><div class=\"10830\" style=\"display: none;\"><div style=\"display: table-cell;\"></div><div style=\"display: table-cell;\">min_border_left&nbsp;=&nbsp;None,</div></div><div class=\"10830\" style=\"display: none;\"><div style=\"display: table-cell;\"></div><div style=\"display: table-cell;\">min_border_right&nbsp;=&nbsp;None,</div></div><div class=\"10830\" style=\"display: none;\"><div style=\"display: table-cell;\"></div><div style=\"display: table-cell;\">min_border_top&nbsp;=&nbsp;None,</div></div><div class=\"10830\" style=\"display: none;\"><div style=\"display: table-cell;\"></div><div style=\"display: table-cell;\">min_height&nbsp;=&nbsp;None,</div></div><div class=\"10830\" style=\"display: none;\"><div style=\"display: table-cell;\"></div><div style=\"display: table-cell;\">min_width&nbsp;=&nbsp;None,</div></div><div class=\"10830\" style=\"display: none;\"><div style=\"display: table-cell;\"></div><div style=\"display: table-cell;\">name&nbsp;=&nbsp;None,</div></div><div class=\"10830\" style=\"display: none;\"><div style=\"display: table-cell;\"></div><div style=\"display: table-cell;\">outline_line_alpha&nbsp;=&nbsp;1.0,</div></div><div class=\"10830\" style=\"display: none;\"><div style=\"display: table-cell;\"></div><div style=\"display: table-cell;\">outline_line_cap&nbsp;=&nbsp;'butt',</div></div><div class=\"10830\" style=\"display: none;\"><div style=\"display: table-cell;\"></div><div style=\"display: table-cell;\">outline_line_color&nbsp;=&nbsp;'#e5e5e5',</div></div><div class=\"10830\" style=\"display: none;\"><div style=\"display: table-cell;\"></div><div style=\"display: table-cell;\">outline_line_dash&nbsp;=&nbsp;[],</div></div><div class=\"10830\" style=\"display: none;\"><div style=\"display: table-cell;\"></div><div style=\"display: table-cell;\">outline_line_dash_offset&nbsp;=&nbsp;0,</div></div><div class=\"10830\" style=\"display: none;\"><div style=\"display: table-cell;\"></div><div style=\"display: table-cell;\">outline_line_join&nbsp;=&nbsp;'bevel',</div></div><div class=\"10830\" style=\"display: none;\"><div style=\"display: table-cell;\"></div><div style=\"display: table-cell;\">outline_line_width&nbsp;=&nbsp;1,</div></div><div class=\"10830\" style=\"display: none;\"><div style=\"display: table-cell;\"></div><div style=\"display: table-cell;\">output_backend&nbsp;=&nbsp;'canvas',</div></div><div class=\"10830\" style=\"display: none;\"><div style=\"display: table-cell;\"></div><div style=\"display: table-cell;\">plot_height&nbsp;=&nbsp;450,</div></div><div class=\"10830\" style=\"display: none;\"><div style=\"display: table-cell;\"></div><div style=\"display: table-cell;\">plot_width&nbsp;=&nbsp;2300,</div></div><div class=\"10830\" style=\"display: none;\"><div style=\"display: table-cell;\"></div><div style=\"display: table-cell;\">renderers&nbsp;=&nbsp;[TileRenderer(id='10797', ...), GlyphRenderer(id='10802', ...), GlyphRenderer(id='10817', ...)],</div></div><div class=\"10830\" style=\"display: none;\"><div style=\"display: table-cell;\"></div><div style=\"display: table-cell;\">reset_policy&nbsp;=&nbsp;'standard',</div></div><div class=\"10830\" style=\"display: none;\"><div style=\"display: table-cell;\"></div><div style=\"display: table-cell;\">right&nbsp;=&nbsp;[],</div></div><div class=\"10830\" style=\"display: none;\"><div style=\"display: table-cell;\"></div><div style=\"display: table-cell;\">sizing_mode&nbsp;=&nbsp;None,</div></div><div class=\"10830\" style=\"display: none;\"><div style=\"display: table-cell;\"></div><div style=\"display: table-cell;\">subscribed_events&nbsp;=&nbsp;[],</div></div><div class=\"10830\" style=\"display: none;\"><div style=\"display: table-cell;\"></div><div style=\"display: table-cell;\">tags&nbsp;=&nbsp;[],</div></div><div class=\"10830\" style=\"display: none;\"><div style=\"display: table-cell;\"></div><div style=\"display: table-cell;\">title&nbsp;=&nbsp;Title(id='10762', ...),</div></div><div class=\"10830\" style=\"display: none;\"><div style=\"display: table-cell;\"></div><div style=\"display: table-cell;\">title_location&nbsp;=&nbsp;'above',</div></div><div class=\"10830\" style=\"display: none;\"><div style=\"display: table-cell;\"></div><div style=\"display: table-cell;\">toolbar&nbsp;=&nbsp;Toolbar(id='10788', ...),</div></div><div class=\"10830\" style=\"display: none;\"><div style=\"display: table-cell;\"></div><div style=\"display: table-cell;\">toolbar_location&nbsp;=&nbsp;'right',</div></div><div class=\"10830\" style=\"display: none;\"><div style=\"display: table-cell;\"></div><div style=\"display: table-cell;\">toolbar_sticky&nbsp;=&nbsp;True,</div></div><div class=\"10830\" style=\"display: none;\"><div style=\"display: table-cell;\"></div><div style=\"display: table-cell;\">visible&nbsp;=&nbsp;True,</div></div><div class=\"10830\" style=\"display: none;\"><div style=\"display: table-cell;\"></div><div style=\"display: table-cell;\">width&nbsp;=&nbsp;None,</div></div><div class=\"10830\" style=\"display: none;\"><div style=\"display: table-cell;\"></div><div style=\"display: table-cell;\">width_policy&nbsp;=&nbsp;'auto',</div></div><div class=\"10830\" style=\"display: none;\"><div style=\"display: table-cell;\"></div><div style=\"display: table-cell;\">x_range&nbsp;=&nbsp;Range1d(id='10764', ...),</div></div><div class=\"10830\" style=\"display: none;\"><div style=\"display: table-cell;\"></div><div style=\"display: table-cell;\">x_scale&nbsp;=&nbsp;LinearScale(id='10768', ...),</div></div><div class=\"10830\" style=\"display: none;\"><div style=\"display: table-cell;\"></div><div style=\"display: table-cell;\">y_range&nbsp;=&nbsp;Range1d(id='10766', ...),</div></div><div class=\"10830\" style=\"display: none;\"><div style=\"display: table-cell;\"></div><div style=\"display: table-cell;\">y_scale&nbsp;=&nbsp;LinearScale(id='10770', ...))</div></div></div>\n",
       "<script>\n",
       "(function() {\n",
       "  var expanded = false;\n",
       "  var ellipsis = document.getElementById(\"10831\");\n",
       "  ellipsis.addEventListener(\"click\", function() {\n",
       "    var rows = document.getElementsByClassName(\"10830\");\n",
       "    for (var i = 0; i < rows.length; i++) {\n",
       "      var el = rows[i];\n",
       "      el.style.display = expanded ? \"none\" : \"table-row\";\n",
       "    }\n",
       "    ellipsis.innerHTML = expanded ? \"&hellip;)\" : \"&lsaquo;&lsaquo;&lsaquo;\";\n",
       "    expanded = !expanded;\n",
       "  });\n",
       "})();\n",
       "</script>\n"
      ],
      "text/plain": [
       "Figure(id='10761', ...)"
      ]
     },
     "execution_count": 81,
     "metadata": {},
     "output_type": "execute_result"
    }
   ],
   "source": [
    "# Create the Geo Map plot\n",
    "def plotMap():\n",
    "    lat = df_quakes_2016['Latitude'].values.tolist()\n",
    "    lon = df_quakes_2016['Longitude'].values.tolist()\n",
    "    \n",
    "    pred_lat = df_quake_pred['Latitude'].values.tolist()\n",
    "    pred_lon = df_quake_pred['Longitude'].values.tolist()\n",
    "    \n",
    "    lst_lat = []\n",
    "    lst_lon = []\n",
    "    lst_pred_lat = []\n",
    "    lst_pred_lon = []\n",
    "    \n",
    "    i=0\n",
    "    j=0\n",
    "    \n",
    "    # Convert Lat and Long values into merc_projection format\n",
    "    for i in range(len(lon)):\n",
    "        r_major = 6378137.000\n",
    "        x = r_major * math.radians(lon[i])\n",
    "        scale = x/lon[i]\n",
    "        y = 180.0/math.pi * math.log(math.tan(math.pi/4.0 +\n",
    "            lat[i] * (math.pi/180.0)/2.0)) * scale\n",
    "        \n",
    "        lst_lon.append(x)\n",
    "        lst_lat.append(y)\n",
    "        i += 1\n",
    "        \n",
    "    # Convert predicted lat and long values into merc_projection format\n",
    "    for j in range(len(pred_lon)):\n",
    "        r_major = 6378137.000\n",
    "        x = r_major * math.radians(pred_lon[j])\n",
    "        scale = x/pred_lon[j]\n",
    "        y = 180.0/math.pi * math.log(math.tan(math.pi/4.0 +\n",
    "            pred_lat[j] * (math.pi/180.0)/2.0)) * scale\n",
    "        \n",
    "        lst_pred_lon.append(x)\n",
    "        lst_pred_lat.append(y)\n",
    "        j += 1\n",
    "    \n",
    "    \n",
    "    df_quakes_2016['coords_x'] = lst_lat\n",
    "    df_quakes_2016['coords_y'] = lst_lon\n",
    "    df_quake_pred['coords_x'] = lst_pred_lat\n",
    "    df_quake_pred['coords_y'] = lst_pred_lon\n",
    "    \n",
    "    # Scale the circles\n",
    "    df_quakes_2016['Mag_Size'] = df_quakes_2016['Magnitude'] * 4\n",
    "    df_quake_pred['Mag_Size'] = df_quake_pred['Pred_Magnitude'] * 4\n",
    "    \n",
    "    # create datasources for our ColumnDataSource object\n",
    "    lats = df_quakes_2016['coords_x'].tolist()\n",
    "    longs = df_quakes_2016['coords_y'].tolist()\n",
    "    mags = df_quakes_2016['Magnitude'].tolist()\n",
    "    years = df_quakes_2016['Year'].tolist()\n",
    "    mag_size = df_quakes_2016['Mag_Size'].tolist()\n",
    "    \n",
    "    pred_lats = df_quake_pred['coords_x'].tolist()\n",
    "    pred_longs = df_quake_pred['coords_y'].tolist()\n",
    "    pred_mags = df_quake_pred['Pred_Magnitude'].tolist()\n",
    "    pred_year = df_quake_pred['Year'].tolist()\n",
    "    pred_mag_size = df_quake_pred['Mag_Size'].tolist()\n",
    "    \n",
    "    # Create column datasource\n",
    "    cds = ColumnDataSource(\n",
    "        data=dict(\n",
    "            lat=lats,\n",
    "            lon=longs,\n",
    "            mag=mags,\n",
    "            year=years,\n",
    "            mag_s=mag_size\n",
    "        )\n",
    "    )\n",
    "    \n",
    "    pred_cds = ColumnDataSource(\n",
    "        data=dict(\n",
    "            pred_lat=pred_lats,\n",
    "            pred_long=pred_longs,\n",
    "            pred_mag=pred_mags,\n",
    "            year=pred_year,\n",
    "            pred_mag_s=pred_mag_size\n",
    "        )\n",
    "    )\n",
    "    \n",
    "    # Tooltips\n",
    "    TOOLTIPS = [\n",
    "        (\"Year\", \" @year\"),\n",
    "        (\"Magnitude\", \" @mag\"),\n",
    "        (\"Predicted Magnitude\", \" @pred_mag\")\n",
    "    ]\n",
    "    \n",
    "    # Create figure\n",
    "    p = figure(title='Earthquake Map',\n",
    "              plot_width=2300, plot_height=450,\n",
    "              x_range=(-2000000, 6000000),\n",
    "              y_range=(-1000000, 7000000),\n",
    "              tooltips=TOOLTIPS)\n",
    "    p.add_tile(get_provider(Vendors.CARTODBPOSITRON))\n",
    "    \n",
    "    p.circle(x='lon', y='lat', size='mag_s', color='#cc0000', alpha=0.7,\n",
    "            source=cds, legend='Quakes 2016')\n",
    "    \n",
    "    # Add circles for our predicted earthquakes\n",
    "    p.circle(x='pred_long', y='pred_lat', size='pred_mag_s', color='#ccff33', alpha=7.0,\n",
    "            source=pred_cds, legend='Predicted Quakes 2017')\n",
    "        \n",
    "    # Style the map plot\n",
    "    # Title\n",
    "    p.title.align='center'\n",
    "    p.title.text_font_size='20pt'\n",
    "    p.title.text_font='serif'\n",
    "    \n",
    "    # Legend\n",
    "    p.legend.location='bottom_right'\n",
    "    p.legend.background_fill_color='black'\n",
    "    p.legend.background_fill_alpha=0.8\n",
    "    p.legend.click_policy='hide'\n",
    "    p.legend.label_text_color='white'\n",
    "    p.xaxis.visible=False\n",
    "    p.yaxis.visible=False\n",
    "    p.axis.axis_label=None\n",
    "    p.axis.visible=False\n",
    "    p.grid.grid_line_color=None\n",
    "    mp = style(p)\n",
    "    \n",
    "    #how(p)\n",
    "    \n",
    "    return mp\n",
    "    \n",
    "plotMap()  "
   ]
  },
  {
   "cell_type": "code",
   "execution_count": 82,
   "metadata": {},
   "outputs": [
    {
     "name": "stderr",
     "output_type": "stream",
     "text": [
      "BokehDeprecationWarning: 'legend' keyword is deprecated, use explicit 'legend_label', 'legend_field', or 'legend_group' keywords instead\n"
     ]
    },
    {
     "data": {
      "text/html": [
       "<div style=\"display: table;\"><div style=\"display: table-row;\"><div style=\"display: table-cell;\"><b title=\"bokeh.plotting.figure.Figure\">Figure</b>(</div><div style=\"display: table-cell;\">id&nbsp;=&nbsp;'10834', <span id=\"10885\" style=\"cursor: pointer;\">&hellip;)</span></div></div><div class=\"10884\" style=\"display: none;\"><div style=\"display: table-cell;\"></div><div style=\"display: table-cell;\">above&nbsp;=&nbsp;[],</div></div><div class=\"10884\" style=\"display: none;\"><div style=\"display: table-cell;\"></div><div style=\"display: table-cell;\">align&nbsp;=&nbsp;'start',</div></div><div class=\"10884\" style=\"display: none;\"><div style=\"display: table-cell;\"></div><div style=\"display: table-cell;\">aspect_ratio&nbsp;=&nbsp;None,</div></div><div class=\"10884\" style=\"display: none;\"><div style=\"display: table-cell;\"></div><div style=\"display: table-cell;\">aspect_scale&nbsp;=&nbsp;1,</div></div><div class=\"10884\" style=\"display: none;\"><div style=\"display: table-cell;\"></div><div style=\"display: table-cell;\">background&nbsp;=&nbsp;None,</div></div><div class=\"10884\" style=\"display: none;\"><div style=\"display: table-cell;\"></div><div style=\"display: table-cell;\">background_fill_alpha&nbsp;=&nbsp;1.0,</div></div><div class=\"10884\" style=\"display: none;\"><div style=\"display: table-cell;\"></div><div style=\"display: table-cell;\">background_fill_color&nbsp;=&nbsp;'#ffffff',</div></div><div class=\"10884\" style=\"display: none;\"><div style=\"display: table-cell;\"></div><div style=\"display: table-cell;\">below&nbsp;=&nbsp;[LinearAxis(id='10845', ...)],</div></div><div class=\"10884\" style=\"display: none;\"><div style=\"display: table-cell;\"></div><div style=\"display: table-cell;\">border_fill_alpha&nbsp;=&nbsp;1.0,</div></div><div class=\"10884\" style=\"display: none;\"><div style=\"display: table-cell;\"></div><div style=\"display: table-cell;\">border_fill_color&nbsp;=&nbsp;'#ffffff',</div></div><div class=\"10884\" style=\"display: none;\"><div style=\"display: table-cell;\"></div><div style=\"display: table-cell;\">center&nbsp;=&nbsp;[Grid(id='10848', ...), Grid(id='10852', ...), Legend(id='10882', ...)],</div></div><div class=\"10884\" style=\"display: none;\"><div style=\"display: table-cell;\"></div><div style=\"display: table-cell;\">css_classes&nbsp;=&nbsp;[],</div></div><div class=\"10884\" style=\"display: none;\"><div style=\"display: table-cell;\"></div><div style=\"display: table-cell;\">disabled&nbsp;=&nbsp;False,</div></div><div class=\"10884\" style=\"display: none;\"><div style=\"display: table-cell;\"></div><div style=\"display: table-cell;\">extra_x_ranges&nbsp;=&nbsp;{},</div></div><div class=\"10884\" style=\"display: none;\"><div style=\"display: table-cell;\"></div><div style=\"display: table-cell;\">extra_y_ranges&nbsp;=&nbsp;{},</div></div><div class=\"10884\" style=\"display: none;\"><div style=\"display: table-cell;\"></div><div style=\"display: table-cell;\">frame_height&nbsp;=&nbsp;None,</div></div><div class=\"10884\" style=\"display: none;\"><div style=\"display: table-cell;\"></div><div style=\"display: table-cell;\">frame_width&nbsp;=&nbsp;None,</div></div><div class=\"10884\" style=\"display: none;\"><div style=\"display: table-cell;\"></div><div style=\"display: table-cell;\">height&nbsp;=&nbsp;None,</div></div><div class=\"10884\" style=\"display: none;\"><div style=\"display: table-cell;\"></div><div style=\"display: table-cell;\">height_policy&nbsp;=&nbsp;'auto',</div></div><div class=\"10884\" style=\"display: none;\"><div style=\"display: table-cell;\"></div><div style=\"display: table-cell;\">hidpi&nbsp;=&nbsp;True,</div></div><div class=\"10884\" style=\"display: none;\"><div style=\"display: table-cell;\"></div><div style=\"display: table-cell;\">js_event_callbacks&nbsp;=&nbsp;{},</div></div><div class=\"10884\" style=\"display: none;\"><div style=\"display: table-cell;\"></div><div style=\"display: table-cell;\">js_property_callbacks&nbsp;=&nbsp;{},</div></div><div class=\"10884\" style=\"display: none;\"><div style=\"display: table-cell;\"></div><div style=\"display: table-cell;\">left&nbsp;=&nbsp;[LinearAxis(id='10849', ...)],</div></div><div class=\"10884\" style=\"display: none;\"><div style=\"display: table-cell;\"></div><div style=\"display: table-cell;\">lod_factor&nbsp;=&nbsp;10,</div></div><div class=\"10884\" style=\"display: none;\"><div style=\"display: table-cell;\"></div><div style=\"display: table-cell;\">lod_interval&nbsp;=&nbsp;300,</div></div><div class=\"10884\" style=\"display: none;\"><div style=\"display: table-cell;\"></div><div style=\"display: table-cell;\">lod_threshold&nbsp;=&nbsp;2000,</div></div><div class=\"10884\" style=\"display: none;\"><div style=\"display: table-cell;\"></div><div style=\"display: table-cell;\">lod_timeout&nbsp;=&nbsp;500,</div></div><div class=\"10884\" style=\"display: none;\"><div style=\"display: table-cell;\"></div><div style=\"display: table-cell;\">margin&nbsp;=&nbsp;(0, 0, 0, 0),</div></div><div class=\"10884\" style=\"display: none;\"><div style=\"display: table-cell;\"></div><div style=\"display: table-cell;\">match_aspect&nbsp;=&nbsp;False,</div></div><div class=\"10884\" style=\"display: none;\"><div style=\"display: table-cell;\"></div><div style=\"display: table-cell;\">max_height&nbsp;=&nbsp;None,</div></div><div class=\"10884\" style=\"display: none;\"><div style=\"display: table-cell;\"></div><div style=\"display: table-cell;\">max_width&nbsp;=&nbsp;None,</div></div><div class=\"10884\" style=\"display: none;\"><div style=\"display: table-cell;\"></div><div style=\"display: table-cell;\">min_border&nbsp;=&nbsp;5,</div></div><div class=\"10884\" style=\"display: none;\"><div style=\"display: table-cell;\"></div><div style=\"display: table-cell;\">min_border_bottom&nbsp;=&nbsp;None,</div></div><div class=\"10884\" style=\"display: none;\"><div style=\"display: table-cell;\"></div><div style=\"display: table-cell;\">min_border_left&nbsp;=&nbsp;None,</div></div><div class=\"10884\" style=\"display: none;\"><div style=\"display: table-cell;\"></div><div style=\"display: table-cell;\">min_border_right&nbsp;=&nbsp;None,</div></div><div class=\"10884\" style=\"display: none;\"><div style=\"display: table-cell;\"></div><div style=\"display: table-cell;\">min_border_top&nbsp;=&nbsp;None,</div></div><div class=\"10884\" style=\"display: none;\"><div style=\"display: table-cell;\"></div><div style=\"display: table-cell;\">min_height&nbsp;=&nbsp;None,</div></div><div class=\"10884\" style=\"display: none;\"><div style=\"display: table-cell;\"></div><div style=\"display: table-cell;\">min_width&nbsp;=&nbsp;None,</div></div><div class=\"10884\" style=\"display: none;\"><div style=\"display: table-cell;\"></div><div style=\"display: table-cell;\">name&nbsp;=&nbsp;None,</div></div><div class=\"10884\" style=\"display: none;\"><div style=\"display: table-cell;\"></div><div style=\"display: table-cell;\">outline_line_alpha&nbsp;=&nbsp;1.0,</div></div><div class=\"10884\" style=\"display: none;\"><div style=\"display: table-cell;\"></div><div style=\"display: table-cell;\">outline_line_cap&nbsp;=&nbsp;'butt',</div></div><div class=\"10884\" style=\"display: none;\"><div style=\"display: table-cell;\"></div><div style=\"display: table-cell;\">outline_line_color&nbsp;=&nbsp;'#e5e5e5',</div></div><div class=\"10884\" style=\"display: none;\"><div style=\"display: table-cell;\"></div><div style=\"display: table-cell;\">outline_line_dash&nbsp;=&nbsp;[],</div></div><div class=\"10884\" style=\"display: none;\"><div style=\"display: table-cell;\"></div><div style=\"display: table-cell;\">outline_line_dash_offset&nbsp;=&nbsp;0,</div></div><div class=\"10884\" style=\"display: none;\"><div style=\"display: table-cell;\"></div><div style=\"display: table-cell;\">outline_line_join&nbsp;=&nbsp;'bevel',</div></div><div class=\"10884\" style=\"display: none;\"><div style=\"display: table-cell;\"></div><div style=\"display: table-cell;\">outline_line_width&nbsp;=&nbsp;1,</div></div><div class=\"10884\" style=\"display: none;\"><div style=\"display: table-cell;\"></div><div style=\"display: table-cell;\">output_backend&nbsp;=&nbsp;'canvas',</div></div><div class=\"10884\" style=\"display: none;\"><div style=\"display: table-cell;\"></div><div style=\"display: table-cell;\">plot_height&nbsp;=&nbsp;400,</div></div><div class=\"10884\" style=\"display: none;\"><div style=\"display: table-cell;\"></div><div style=\"display: table-cell;\">plot_width&nbsp;=&nbsp;1150,</div></div><div class=\"10884\" style=\"display: none;\"><div style=\"display: table-cell;\"></div><div style=\"display: table-cell;\">renderers&nbsp;=&nbsp;[GlyphRenderer(id='10872', ...)],</div></div><div class=\"10884\" style=\"display: none;\"><div style=\"display: table-cell;\"></div><div style=\"display: table-cell;\">reset_policy&nbsp;=&nbsp;'standard',</div></div><div class=\"10884\" style=\"display: none;\"><div style=\"display: table-cell;\"></div><div style=\"display: table-cell;\">right&nbsp;=&nbsp;[],</div></div><div class=\"10884\" style=\"display: none;\"><div style=\"display: table-cell;\"></div><div style=\"display: table-cell;\">sizing_mode&nbsp;=&nbsp;None,</div></div><div class=\"10884\" style=\"display: none;\"><div style=\"display: table-cell;\"></div><div style=\"display: table-cell;\">subscribed_events&nbsp;=&nbsp;[],</div></div><div class=\"10884\" style=\"display: none;\"><div style=\"display: table-cell;\"></div><div style=\"display: table-cell;\">tags&nbsp;=&nbsp;[],</div></div><div class=\"10884\" style=\"display: none;\"><div style=\"display: table-cell;\"></div><div style=\"display: table-cell;\">title&nbsp;=&nbsp;Title(id='10835', ...),</div></div><div class=\"10884\" style=\"display: none;\"><div style=\"display: table-cell;\"></div><div style=\"display: table-cell;\">title_location&nbsp;=&nbsp;'above',</div></div><div class=\"10884\" style=\"display: none;\"><div style=\"display: table-cell;\"></div><div style=\"display: table-cell;\">toolbar&nbsp;=&nbsp;Toolbar(id='10861', ...),</div></div><div class=\"10884\" style=\"display: none;\"><div style=\"display: table-cell;\"></div><div style=\"display: table-cell;\">toolbar_location&nbsp;=&nbsp;None,</div></div><div class=\"10884\" style=\"display: none;\"><div style=\"display: table-cell;\"></div><div style=\"display: table-cell;\">toolbar_sticky&nbsp;=&nbsp;True,</div></div><div class=\"10884\" style=\"display: none;\"><div style=\"display: table-cell;\"></div><div style=\"display: table-cell;\">visible&nbsp;=&nbsp;True,</div></div><div class=\"10884\" style=\"display: none;\"><div style=\"display: table-cell;\"></div><div style=\"display: table-cell;\">width&nbsp;=&nbsp;None,</div></div><div class=\"10884\" style=\"display: none;\"><div style=\"display: table-cell;\"></div><div style=\"display: table-cell;\">width_policy&nbsp;=&nbsp;'auto',</div></div><div class=\"10884\" style=\"display: none;\"><div style=\"display: table-cell;\"></div><div style=\"display: table-cell;\">x_range&nbsp;=&nbsp;DataRange1d(id='10837', ...),</div></div><div class=\"10884\" style=\"display: none;\"><div style=\"display: table-cell;\"></div><div style=\"display: table-cell;\">x_scale&nbsp;=&nbsp;LinearScale(id='10841', ...),</div></div><div class=\"10884\" style=\"display: none;\"><div style=\"display: table-cell;\"></div><div style=\"display: table-cell;\">y_range&nbsp;=&nbsp;Range1d(id='10839', ...),</div></div><div class=\"10884\" style=\"display: none;\"><div style=\"display: table-cell;\"></div><div style=\"display: table-cell;\">y_scale&nbsp;=&nbsp;LinearScale(id='10843', ...))</div></div></div>\n",
       "<script>\n",
       "(function() {\n",
       "  var expanded = false;\n",
       "  var ellipsis = document.getElementById(\"10885\");\n",
       "  ellipsis.addEventListener(\"click\", function() {\n",
       "    var rows = document.getElementsByClassName(\"10884\");\n",
       "    for (var i = 0; i < rows.length; i++) {\n",
       "      var el = rows[i];\n",
       "      el.style.display = expanded ? \"none\" : \"table-row\";\n",
       "    }\n",
       "    ellipsis.innerHTML = expanded ? \"&hellip;)\" : \"&lsaquo;&lsaquo;&lsaquo;\";\n",
       "    expanded = !expanded;\n",
       "  });\n",
       "})();\n",
       "</script>\n"
      ],
      "text/plain": [
       "Figure(id='10834', ...)"
      ]
     },
     "execution_count": 82,
     "metadata": {},
     "output_type": "execute_result"
    }
   ],
   "source": [
    "# Create the Bar Chart\n",
    "def plotBar():\n",
    "    # Load the datasource \n",
    "    cds = ColumnDataSource(data=dict(\n",
    "        yrs = df_quake_freq['Year'].values.tolist(),\n",
    "        numQuakes = df_quake_freq['Counts'].values.tolist()\n",
    "    ))\n",
    "    \n",
    "    # Tooltip\n",
    "    TOOLTIPS = [\n",
    "        ('Year', ' @yrs'),\n",
    "        ('Number of earthquakes', ' @numQuakes')\n",
    "    ]\n",
    "    \n",
    "    # Create a figure\n",
    "    barChart = figure(title='Frequency of Earthquakes by Year',\n",
    "                     plot_height=400,\n",
    "                     plot_width=1150,\n",
    "                     x_axis_label='Years',\n",
    "                     y_axis_label='Number of Occurances',\n",
    "                     x_minor_ticks=2,\n",
    "                     y_range=(0, df_quake_freq['Counts'].max() + 100),\n",
    "                     toolbar_location=None,\n",
    "                     tooltips=TOOLTIPS)\n",
    "    \n",
    "    # Create a vertical bar \n",
    "    barChart.vbar(x='yrs', bottom=0, top='numQuakes',\n",
    "                 color='#cc0000', width=0.75,\n",
    "                 legend='Year', source=cds)\n",
    "    \n",
    "    # Style the bar chart\n",
    "    barChart = style(barChart)\n",
    "    \n",
    "    #show(barChart)\n",
    "    \n",
    "    return barChart\n",
    "    \n",
    "    \n",
    "plotBar()\n",
    " \n"
   ]
  },
  {
   "cell_type": "code",
   "execution_count": 83,
   "metadata": {},
   "outputs": [
    {
     "name": "stderr",
     "output_type": "stream",
     "text": [
      "BokehDeprecationWarning: 'legend' keyword is deprecated, use explicit 'legend_label', 'legend_field', or 'legend_group' keywords instead\n",
      "BokehDeprecationWarning: 'legend' keyword is deprecated, use explicit 'legend_label', 'legend_field', or 'legend_group' keywords instead\n"
     ]
    },
    {
     "data": {
      "text/html": [
       "<div style=\"display: table;\"><div style=\"display: table-row;\"><div style=\"display: table-cell;\"><b title=\"bokeh.plotting.figure.Figure\">Figure</b>(</div><div style=\"display: table-cell;\">id&nbsp;=&nbsp;'10888', <span id=\"10963\" style=\"cursor: pointer;\">&hellip;)</span></div></div><div class=\"10962\" style=\"display: none;\"><div style=\"display: table-cell;\"></div><div style=\"display: table-cell;\">above&nbsp;=&nbsp;[],</div></div><div class=\"10962\" style=\"display: none;\"><div style=\"display: table-cell;\"></div><div style=\"display: table-cell;\">align&nbsp;=&nbsp;'start',</div></div><div class=\"10962\" style=\"display: none;\"><div style=\"display: table-cell;\"></div><div style=\"display: table-cell;\">aspect_ratio&nbsp;=&nbsp;None,</div></div><div class=\"10962\" style=\"display: none;\"><div style=\"display: table-cell;\"></div><div style=\"display: table-cell;\">aspect_scale&nbsp;=&nbsp;1,</div></div><div class=\"10962\" style=\"display: none;\"><div style=\"display: table-cell;\"></div><div style=\"display: table-cell;\">background&nbsp;=&nbsp;None,</div></div><div class=\"10962\" style=\"display: none;\"><div style=\"display: table-cell;\"></div><div style=\"display: table-cell;\">background_fill_alpha&nbsp;=&nbsp;1.0,</div></div><div class=\"10962\" style=\"display: none;\"><div style=\"display: table-cell;\"></div><div style=\"display: table-cell;\">background_fill_color&nbsp;=&nbsp;'#ffffff',</div></div><div class=\"10962\" style=\"display: none;\"><div style=\"display: table-cell;\"></div><div style=\"display: table-cell;\">below&nbsp;=&nbsp;[LinearAxis(id='10899', ...)],</div></div><div class=\"10962\" style=\"display: none;\"><div style=\"display: table-cell;\"></div><div style=\"display: table-cell;\">border_fill_alpha&nbsp;=&nbsp;1.0,</div></div><div class=\"10962\" style=\"display: none;\"><div style=\"display: table-cell;\"></div><div style=\"display: table-cell;\">border_fill_color&nbsp;=&nbsp;'#ffffff',</div></div><div class=\"10962\" style=\"display: none;\"><div style=\"display: table-cell;\"></div><div style=\"display: table-cell;\">center&nbsp;=&nbsp;[Grid(id='10902', ...), Grid(id='10906', ...), Legend(id='10936', ...)],</div></div><div class=\"10962\" style=\"display: none;\"><div style=\"display: table-cell;\"></div><div style=\"display: table-cell;\">css_classes&nbsp;=&nbsp;[],</div></div><div class=\"10962\" style=\"display: none;\"><div style=\"display: table-cell;\"></div><div style=\"display: table-cell;\">disabled&nbsp;=&nbsp;False,</div></div><div class=\"10962\" style=\"display: none;\"><div style=\"display: table-cell;\"></div><div style=\"display: table-cell;\">extra_x_ranges&nbsp;=&nbsp;{},</div></div><div class=\"10962\" style=\"display: none;\"><div style=\"display: table-cell;\"></div><div style=\"display: table-cell;\">extra_y_ranges&nbsp;=&nbsp;{},</div></div><div class=\"10962\" style=\"display: none;\"><div style=\"display: table-cell;\"></div><div style=\"display: table-cell;\">frame_height&nbsp;=&nbsp;None,</div></div><div class=\"10962\" style=\"display: none;\"><div style=\"display: table-cell;\"></div><div style=\"display: table-cell;\">frame_width&nbsp;=&nbsp;None,</div></div><div class=\"10962\" style=\"display: none;\"><div style=\"display: table-cell;\"></div><div style=\"display: table-cell;\">height&nbsp;=&nbsp;None,</div></div><div class=\"10962\" style=\"display: none;\"><div style=\"display: table-cell;\"></div><div style=\"display: table-cell;\">height_policy&nbsp;=&nbsp;'auto',</div></div><div class=\"10962\" style=\"display: none;\"><div style=\"display: table-cell;\"></div><div style=\"display: table-cell;\">hidpi&nbsp;=&nbsp;True,</div></div><div class=\"10962\" style=\"display: none;\"><div style=\"display: table-cell;\"></div><div style=\"display: table-cell;\">js_event_callbacks&nbsp;=&nbsp;{},</div></div><div class=\"10962\" style=\"display: none;\"><div style=\"display: table-cell;\"></div><div style=\"display: table-cell;\">js_property_callbacks&nbsp;=&nbsp;{},</div></div><div class=\"10962\" style=\"display: none;\"><div style=\"display: table-cell;\"></div><div style=\"display: table-cell;\">left&nbsp;=&nbsp;[LinearAxis(id='10903', ...)],</div></div><div class=\"10962\" style=\"display: none;\"><div style=\"display: table-cell;\"></div><div style=\"display: table-cell;\">lod_factor&nbsp;=&nbsp;10,</div></div><div class=\"10962\" style=\"display: none;\"><div style=\"display: table-cell;\"></div><div style=\"display: table-cell;\">lod_interval&nbsp;=&nbsp;300,</div></div><div class=\"10962\" style=\"display: none;\"><div style=\"display: table-cell;\"></div><div style=\"display: table-cell;\">lod_threshold&nbsp;=&nbsp;2000,</div></div><div class=\"10962\" style=\"display: none;\"><div style=\"display: table-cell;\"></div><div style=\"display: table-cell;\">lod_timeout&nbsp;=&nbsp;500,</div></div><div class=\"10962\" style=\"display: none;\"><div style=\"display: table-cell;\"></div><div style=\"display: table-cell;\">margin&nbsp;=&nbsp;(0, 0, 0, 0),</div></div><div class=\"10962\" style=\"display: none;\"><div style=\"display: table-cell;\"></div><div style=\"display: table-cell;\">match_aspect&nbsp;=&nbsp;False,</div></div><div class=\"10962\" style=\"display: none;\"><div style=\"display: table-cell;\"></div><div style=\"display: table-cell;\">max_height&nbsp;=&nbsp;None,</div></div><div class=\"10962\" style=\"display: none;\"><div style=\"display: table-cell;\"></div><div style=\"display: table-cell;\">max_width&nbsp;=&nbsp;None,</div></div><div class=\"10962\" style=\"display: none;\"><div style=\"display: table-cell;\"></div><div style=\"display: table-cell;\">min_border&nbsp;=&nbsp;5,</div></div><div class=\"10962\" style=\"display: none;\"><div style=\"display: table-cell;\"></div><div style=\"display: table-cell;\">min_border_bottom&nbsp;=&nbsp;None,</div></div><div class=\"10962\" style=\"display: none;\"><div style=\"display: table-cell;\"></div><div style=\"display: table-cell;\">min_border_left&nbsp;=&nbsp;None,</div></div><div class=\"10962\" style=\"display: none;\"><div style=\"display: table-cell;\"></div><div style=\"display: table-cell;\">min_border_right&nbsp;=&nbsp;None,</div></div><div class=\"10962\" style=\"display: none;\"><div style=\"display: table-cell;\"></div><div style=\"display: table-cell;\">min_border_top&nbsp;=&nbsp;None,</div></div><div class=\"10962\" style=\"display: none;\"><div style=\"display: table-cell;\"></div><div style=\"display: table-cell;\">min_height&nbsp;=&nbsp;None,</div></div><div class=\"10962\" style=\"display: none;\"><div style=\"display: table-cell;\"></div><div style=\"display: table-cell;\">min_width&nbsp;=&nbsp;None,</div></div><div class=\"10962\" style=\"display: none;\"><div style=\"display: table-cell;\"></div><div style=\"display: table-cell;\">name&nbsp;=&nbsp;None,</div></div><div class=\"10962\" style=\"display: none;\"><div style=\"display: table-cell;\"></div><div style=\"display: table-cell;\">outline_line_alpha&nbsp;=&nbsp;1.0,</div></div><div class=\"10962\" style=\"display: none;\"><div style=\"display: table-cell;\"></div><div style=\"display: table-cell;\">outline_line_cap&nbsp;=&nbsp;'butt',</div></div><div class=\"10962\" style=\"display: none;\"><div style=\"display: table-cell;\"></div><div style=\"display: table-cell;\">outline_line_color&nbsp;=&nbsp;'#e5e5e5',</div></div><div class=\"10962\" style=\"display: none;\"><div style=\"display: table-cell;\"></div><div style=\"display: table-cell;\">outline_line_dash&nbsp;=&nbsp;[],</div></div><div class=\"10962\" style=\"display: none;\"><div style=\"display: table-cell;\"></div><div style=\"display: table-cell;\">outline_line_dash_offset&nbsp;=&nbsp;0,</div></div><div class=\"10962\" style=\"display: none;\"><div style=\"display: table-cell;\"></div><div style=\"display: table-cell;\">outline_line_join&nbsp;=&nbsp;'bevel',</div></div><div class=\"10962\" style=\"display: none;\"><div style=\"display: table-cell;\"></div><div style=\"display: table-cell;\">outline_line_width&nbsp;=&nbsp;1,</div></div><div class=\"10962\" style=\"display: none;\"><div style=\"display: table-cell;\"></div><div style=\"display: table-cell;\">output_backend&nbsp;=&nbsp;'canvas',</div></div><div class=\"10962\" style=\"display: none;\"><div style=\"display: table-cell;\"></div><div style=\"display: table-cell;\">plot_height&nbsp;=&nbsp;400,</div></div><div class=\"10962\" style=\"display: none;\"><div style=\"display: table-cell;\"></div><div style=\"display: table-cell;\">plot_width&nbsp;=&nbsp;1150,</div></div><div class=\"10962\" style=\"display: none;\"><div style=\"display: table-cell;\"></div><div style=\"display: table-cell;\">renderers&nbsp;=&nbsp;[GlyphRenderer(id='10926', ...), GlyphRenderer(id='10941', ...), GlyphRenderer(id='10946', ...), GlyphRenderer(id='10960', ...)],</div></div><div class=\"10962\" style=\"display: none;\"><div style=\"display: table-cell;\"></div><div style=\"display: table-cell;\">reset_policy&nbsp;=&nbsp;'standard',</div></div><div class=\"10962\" style=\"display: none;\"><div style=\"display: table-cell;\"></div><div style=\"display: table-cell;\">right&nbsp;=&nbsp;[],</div></div><div class=\"10962\" style=\"display: none;\"><div style=\"display: table-cell;\"></div><div style=\"display: table-cell;\">sizing_mode&nbsp;=&nbsp;None,</div></div><div class=\"10962\" style=\"display: none;\"><div style=\"display: table-cell;\"></div><div style=\"display: table-cell;\">subscribed_events&nbsp;=&nbsp;[],</div></div><div class=\"10962\" style=\"display: none;\"><div style=\"display: table-cell;\"></div><div style=\"display: table-cell;\">tags&nbsp;=&nbsp;[],</div></div><div class=\"10962\" style=\"display: none;\"><div style=\"display: table-cell;\"></div><div style=\"display: table-cell;\">title&nbsp;=&nbsp;Title(id='10889', ...),</div></div><div class=\"10962\" style=\"display: none;\"><div style=\"display: table-cell;\"></div><div style=\"display: table-cell;\">title_location&nbsp;=&nbsp;'above',</div></div><div class=\"10962\" style=\"display: none;\"><div style=\"display: table-cell;\"></div><div style=\"display: table-cell;\">toolbar&nbsp;=&nbsp;Toolbar(id='10915', ...),</div></div><div class=\"10962\" style=\"display: none;\"><div style=\"display: table-cell;\"></div><div style=\"display: table-cell;\">toolbar_location&nbsp;=&nbsp;None,</div></div><div class=\"10962\" style=\"display: none;\"><div style=\"display: table-cell;\"></div><div style=\"display: table-cell;\">toolbar_sticky&nbsp;=&nbsp;True,</div></div><div class=\"10962\" style=\"display: none;\"><div style=\"display: table-cell;\"></div><div style=\"display: table-cell;\">visible&nbsp;=&nbsp;True,</div></div><div class=\"10962\" style=\"display: none;\"><div style=\"display: table-cell;\"></div><div style=\"display: table-cell;\">width&nbsp;=&nbsp;None,</div></div><div class=\"10962\" style=\"display: none;\"><div style=\"display: table-cell;\"></div><div style=\"display: table-cell;\">width_policy&nbsp;=&nbsp;'auto',</div></div><div class=\"10962\" style=\"display: none;\"><div style=\"display: table-cell;\"></div><div style=\"display: table-cell;\">x_range&nbsp;=&nbsp;DataRange1d(id='10891', ...),</div></div><div class=\"10962\" style=\"display: none;\"><div style=\"display: table-cell;\"></div><div style=\"display: table-cell;\">x_scale&nbsp;=&nbsp;LinearScale(id='10895', ...),</div></div><div class=\"10962\" style=\"display: none;\"><div style=\"display: table-cell;\"></div><div style=\"display: table-cell;\">y_range&nbsp;=&nbsp;Range1d(id='10893', ...),</div></div><div class=\"10962\" style=\"display: none;\"><div style=\"display: table-cell;\"></div><div style=\"display: table-cell;\">y_scale&nbsp;=&nbsp;LinearScale(id='10897', ...))</div></div></div>\n",
       "<script>\n",
       "(function() {\n",
       "  var expanded = false;\n",
       "  var ellipsis = document.getElementById(\"10963\");\n",
       "  ellipsis.addEventListener(\"click\", function() {\n",
       "    var rows = document.getElementsByClassName(\"10962\");\n",
       "    for (var i = 0; i < rows.length; i++) {\n",
       "      var el = rows[i];\n",
       "      el.style.display = expanded ? \"none\" : \"table-row\";\n",
       "    }\n",
       "    ellipsis.innerHTML = expanded ? \"&hellip;)\" : \"&lsaquo;&lsaquo;&lsaquo;\";\n",
       "    expanded = !expanded;\n",
       "  });\n",
       "})();\n",
       "</script>\n"
      ],
      "text/plain": [
       "Figure(id='10888', ...)"
      ]
     },
     "execution_count": 83,
     "metadata": {},
     "output_type": "execute_result"
    }
   ],
   "source": [
    "# Create a magnitude plot\n",
    "def plotMagnitude():\n",
    "    # Load the datasource\n",
    "    cds = ColumnDataSource(data=dict(\n",
    "        yrs = df_quake_freq['Year'].values.tolist(),\n",
    "        avg_mag = df_quake_freq['Avg_Magnitude'].round(1).values.tolist(),\n",
    "        max_mag = df_quake_freq['Max_Magnitude'].values.tolist()\n",
    "    ))\n",
    "    \n",
    "    # Tooltip\n",
    "    TOOLTIPS = [\n",
    "        ('Year', ' @yrs'),\n",
    "        ('Average Magnitude', ' @avg_mag'),\n",
    "        ('Maximum Magnitude', ' @max_mag')\n",
    "    ]\n",
    "    \n",
    "    # Create the figure\n",
    "    mp = figure(title='Maximum and Average Magnitude by Year',\n",
    "               plot_width=1150, plot_height=400,\n",
    "               x_axis_label='Years',\n",
    "               y_axis_label='Magnitude',\n",
    "               x_minor_ticks=2,\n",
    "               y_range=(5, df_quake_freq['Max_Magnitude'].max() + 1),\n",
    "               toolbar_location=None,\n",
    "               tooltips=TOOLTIPS)\n",
    "    \n",
    "    # Max Magnitude\n",
    "    mp.line(x='yrs', y='max_mag', color='#cc0000', line_width=2, legend='Max Magnitude', source=cds)\n",
    "    mp.circle(x='yrs', y='max_mag', color='#cc0000', size=8, fill_color='#cc0000', source=cds)\n",
    "    \n",
    "    # Average Magnitude \n",
    "    mp.line(x='yrs', y='avg_mag', color='yellow', line_width=2, legend='Avg Magnitude', source=cds)\n",
    "    mp.circle(x='yrs', y='avg_mag', color='yellow', size=8, fill_color='yellow', source=cds)\n",
    "    \n",
    "    mp = style(mp)\n",
    "    \n",
    "    #show(mp)\n",
    "    \n",
    "    return mp\n",
    "\n",
    "plotMagnitude()    "
   ]
  },
  {
   "cell_type": "code",
   "execution_count": 84,
   "metadata": {},
   "outputs": [],
   "source": [
    "# Display the visuals directly in the browser\n",
    "output_file('dashboard.html')\n",
    "# Change to a dark theme\n",
    "curdoc().theme = 'dark_minimal'"
   ]
  },
  {
   "cell_type": "code",
   "execution_count": 102,
   "metadata": {},
   "outputs": [
    {
     "name": "stderr",
     "output_type": "stream",
     "text": [
      "<ipython-input-81-735e444642aa>:42: SettingWithCopyWarning: \n",
      "A value is trying to be set on a copy of a slice from a DataFrame.\n",
      "Try using .loc[row_indexer,col_indexer] = value instead\n",
      "\n",
      "See the caveats in the documentation: https://pandas.pydata.org/pandas-docs/stable/user_guide/indexing.html#returning-a-view-versus-a-copy\n",
      "  df_quakes_2016['coords_x'] = lst_lat\n",
      "<ipython-input-81-735e444642aa>:43: SettingWithCopyWarning: \n",
      "A value is trying to be set on a copy of a slice from a DataFrame.\n",
      "Try using .loc[row_indexer,col_indexer] = value instead\n",
      "\n",
      "See the caveats in the documentation: https://pandas.pydata.org/pandas-docs/stable/user_guide/indexing.html#returning-a-view-versus-a-copy\n",
      "  df_quakes_2016['coords_y'] = lst_lon\n",
      "<ipython-input-81-735e444642aa>:48: SettingWithCopyWarning: \n",
      "A value is trying to be set on a copy of a slice from a DataFrame.\n",
      "Try using .loc[row_indexer,col_indexer] = value instead\n",
      "\n",
      "See the caveats in the documentation: https://pandas.pydata.org/pandas-docs/stable/user_guide/indexing.html#returning-a-view-versus-a-copy\n",
      "  df_quakes_2016['Mag_Size'] = df_quakes_2016['Magnitude'] * 4\n",
      "BokehDeprecationWarning: 'legend' keyword is deprecated, use explicit 'legend_label', 'legend_field', or 'legend_group' keywords instead\n",
      "BokehDeprecationWarning: 'legend' keyword is deprecated, use explicit 'legend_label', 'legend_field', or 'legend_group' keywords instead\n",
      "BokehDeprecationWarning: 'legend' keyword is deprecated, use explicit 'legend_label', 'legend_field', or 'legend_group' keywords instead\n",
      "BokehDeprecationWarning: 'legend' keyword is deprecated, use explicit 'legend_label', 'legend_field', or 'legend_group' keywords instead\n",
      "BokehDeprecationWarning: 'legend' keyword is deprecated, use explicit 'legend_label', 'legend_field', or 'legend_group' keywords instead\n"
     ]
    },
    {
     "data": {
      "text/html": [
       "\n",
       "\n",
       "\n",
       "\n",
       "\n",
       "\n",
       "  <div class=\"bk-root\" id=\"0315b2d8-9bac-4e9d-b44e-cb90c23c79ed\" data-root-id=\"25562\"></div>\n"
      ]
     },
     "metadata": {},
     "output_type": "display_data"
    },
    {
     "data": {
      "application/javascript": [
       "(function(root) {\n",
       "  function embed_document(root) {\n",
       "    \n",
       "  var docs_json = {\"7fe2c8c6-aa0e-4623-a77f-c21425120710\":{\"roots\":{\"references\":[{\"attributes\":{\"children\":[{\"id\":\"25561\"},{\"id\":\"25559\"}]},\"id\":\"25562\",\"type\":\"Column\"},{\"attributes\":{\"align\":\"center\",\"text\":\"Earthquake Map\",\"text_color\":{\"value\":\"#E0E0E0\"},\"text_font\":\"serif\",\"text_font_size\":{\"value\":\"20pt\"}},\"id\":\"25336\",\"type\":\"Title\"},{\"attributes\":{\"fill_color\":{\"value\":\"yellow\"},\"line_color\":{\"value\":\"yellow\"},\"size\":{\"units\":\"screen\",\"value\":8},\"x\":{\"field\":\"yrs\"},\"y\":{\"field\":\"avg_mag\"}},\"id\":\"25526\",\"type\":\"Circle\"},{\"attributes\":{},\"id\":\"25480\",\"type\":\"HelpTool\"},{\"attributes\":{\"line_alpha\":0.1,\"line_color\":\"#cc0000\",\"line_width\":2,\"x\":{\"field\":\"yrs\"},\"y\":{\"field\":\"max_mag\"}},\"id\":\"25493\",\"type\":\"Line\"},{\"attributes\":{},\"id\":\"25479\",\"type\":\"ResetTool\"},{\"attributes\":{\"children\":[[{\"id\":\"25335\"},0,0],[{\"id\":\"25405\"},1,0],[{\"id\":\"25456\"},1,1]]},\"id\":\"25559\",\"type\":\"GridBox\"},{\"attributes\":{\"toolbar\":{\"id\":\"25560\"},\"toolbar_location\":\"above\"},\"id\":\"25561\",\"type\":\"ToolbarBox\"},{\"attributes\":{\"fill_alpha\":{\"value\":0.1},\"fill_color\":{\"value\":\"yellow\"},\"line_alpha\":{\"value\":0.1},\"line_color\":{\"value\":\"yellow\"},\"size\":{\"units\":\"screen\",\"value\":8},\"x\":{\"field\":\"yrs\"},\"y\":{\"field\":\"avg_mag\"}},\"id\":\"25527\",\"type\":\"Circle\"},{\"attributes\":{\"toolbars\":[{\"id\":\"25362\"},{\"id\":\"25432\"},{\"id\":\"25483\"}],\"tools\":[{\"id\":\"25354\"},{\"id\":\"25355\"},{\"id\":\"25356\"},{\"id\":\"25357\"},{\"id\":\"25358\"},{\"id\":\"25359\"},{\"id\":\"25361\"},{\"id\":\"25424\"},{\"id\":\"25425\"},{\"id\":\"25426\"},{\"id\":\"25427\"},{\"id\":\"25428\"},{\"id\":\"25429\"},{\"id\":\"25431\"},{\"id\":\"25475\"},{\"id\":\"25476\"},{\"id\":\"25477\"},{\"id\":\"25478\"},{\"id\":\"25479\"},{\"id\":\"25480\"},{\"id\":\"25482\"}]},\"id\":\"25560\",\"type\":\"ProxyToolbar\"},{\"attributes\":{\"source\":{\"id\":\"25455\"}},\"id\":\"25529\",\"type\":\"CDSView\"},{\"attributes\":{\"bottom_units\":\"screen\",\"fill_alpha\":0.5,\"fill_color\":\"lightgrey\",\"left_units\":\"screen\",\"level\":\"overlay\",\"line_alpha\":1.0,\"line_color\":\"black\",\"line_dash\":[4,4],\"line_width\":2,\"right_units\":\"screen\",\"top_units\":\"screen\"},\"id\":\"25481\",\"type\":\"BoxAnnotation\"},{\"attributes\":{\"attribution\":\"&copy; <a href=\\\"https://www.openstreetmap.org/copyright\\\">OpenStreetMap</a> contributors,&copy; <a href=\\\"https://cartodb.com/attributions\\\">CartoDB</a>\",\"url\":\"https://tiles.basemaps.cartocdn.com/light_all/{z}/{x}/{y}.png\"},\"id\":\"25370\",\"type\":\"WMTSTileSource\"},{\"attributes\":{\"bottom_units\":\"screen\",\"fill_alpha\":0.5,\"fill_color\":\"lightgrey\",\"left_units\":\"screen\",\"level\":\"overlay\",\"line_alpha\":1.0,\"line_color\":\"black\",\"line_dash\":[4,4],\"line_width\":2,\"right_units\":\"screen\",\"top_units\":\"screen\"},\"id\":\"25360\",\"type\":\"BoxAnnotation\"},{\"attributes\":{\"tile_source\":{\"id\":\"25370\"}},\"id\":\"25371\",\"type\":\"TileRenderer\"},{\"attributes\":{},\"id\":\"25383\",\"type\":\"UnionRenderers\"},{\"attributes\":{\"data_source\":{\"id\":\"25455\"},\"glyph\":{\"id\":\"25526\"},\"hover_glyph\":null,\"muted_glyph\":null,\"nonselection_glyph\":{\"id\":\"25527\"},\"selection_glyph\":null,\"view\":{\"id\":\"25529\"}},\"id\":\"25528\",\"type\":\"GlyphRenderer\"},{\"attributes\":{\"source\":{\"id\":\"25455\"}},\"id\":\"25495\",\"type\":\"CDSView\"},{\"attributes\":{\"active_drag\":\"auto\",\"active_inspect\":\"auto\",\"active_multi\":null,\"active_scroll\":\"auto\",\"active_tap\":\"auto\",\"tools\":[{\"id\":\"25475\"},{\"id\":\"25476\"},{\"id\":\"25477\"},{\"id\":\"25478\"},{\"id\":\"25479\"},{\"id\":\"25480\"},{\"id\":\"25482\"}]},\"id\":\"25483\",\"type\":\"Toolbar\"},{\"attributes\":{\"data\":{\"lat\":[-6543390.724483235,-3328358.0702136243,5591172.898038173,2851640.521567946,3582617.0285600293,-7225385.693391579,2519559.275530916,-3589189.5968190334,-7895731.329585679,434091.130985274,5539417.811527147,-3676788.280848081,4383206.456763607,-3600829.447882163,2946475.676580411,2624462.067661116,-1919649.3727256414,-1714752.0518279804,-738658.6098666815,-3577327.8402285944,-1077518.9345580442,-3886984.5412093443,-551952.8806289821,-534289.4164623911,-1092279.3816380885,-370880.4719644574,-345125.13379396265,-3890327.52275017,-1701661.43481172,6701229.281034023,6721815.015535953,3945945.23053972,-374080.791003844,7761753.97926687,-1611357.202772603,468775.96792111447,-1591614.9794630967,-1582053.595071208,-1597470.6170010692,-916356.9030152027,-672409.5786799096,-1571979.4590359947,-462257.58610979456,1811174.0386040504,4365832.938958695,6643310.475927785,6773859.8233052865,-418505.0455930197,-7410479.387446073,-560233.0274267893,-677928.4070738668,5418424.997557351,-7511617.038765008,-1672495.0545528778,1548060.141959909,-999439.4980835484,2081535.6065417049,1852333.4820856596,-8997877.969353518,2838365.246911671,2836895.0133826328,-3532220.974959881,-233455.687298518,2040088.6479004992,-3419298.4832275123,-511168.83740093646,-1996283.2379809062,-3506570.907184386,-3509116.8698924873,-5645608.880689955,2080163.2375550573,2096579.1308771288,142378.32007136362,-452447.43496013916,-1260322.1273079962,1440522.2984627502,-969486.3282046621,-832620.1045632175,-1860667.204540434,-1189867.89525655,-7713171.987908112,-45318.546016584856,-4274618.876232513,-1692473.3553627734,-1698767.4525167744,-1645353.0122122725,65390.21437308419,64699.99763943559,-718310.979350528,-2749095.058186247,-8126461.540002936,-2551709.5517699746,2868953.7923551905,-2744089.0182169774,-2568831.740902209,-2897353.189255237,-4489209.573341354,-4500545.7623202745,-4470697.205647996,-4441532.400450267,-4446385.293838093,-4442926.682361412,-4471340.325008444,61594.03159729839,-4483469.07580299,-7426079.7573878495,-2213915.8015017295,4912675.02068954,4359273.23933069,2306420.320560516,938327.8076290613,-4456823.764446552,7249204.8093854645,-1219510.091862458,-7287232.027312336,-3681872.3599156886,-621364.0742181533,-115277.60839181444,-3344525.2231373596,-2714535.8476083255,3230314.5667061005,797189.2654855343,2586827.7678902964,-450405.1836943912,-4304433.5190253435,-4456418.872302223,197100.25765049175,-1732109.4437709805,-603705.6005118577,-680771.976234633,-4176730.7437068517,-905830.9111608844,-7991177.156025092,-4380392.08481909,-528290.8084284634,-6454454.065666398,-2323743.5323901074,4649917.791428913,-2871569.0678798584,681925.11549967,-4191379.7565639713,-1725206.5409805693,6846037.379623727,-2588190.6188395876,502022.99706885614,-816613.0848425829,1235690.5297297353,588980.6922978276,5438076.329098564,4932064.174315522,-1195690.063706147,-1144151.1386994515,-1217265.6283307744,-1214148.5648662215,-1203654.664251676,-1240091.3303174921,-1228920.328684846,-1227026.7319589504,-1163431.2025315375,-1156222.5862376208,-1218829.9356544984,-631017.2840090224,-1019965.3263767225,-1228024.5420570814],\"lon\":[15523380.539682128,-19734830.64732233,14464921.425372442,10425125.972535465,14775847.895107137,-15168427.211338695,15986681.128414653,-7974739.077295771,-16469562.815577714,14122224.37296535,15705699.601703351,6477859.280445858,7898151.267629998,-20031986.896045897,13742123.971651718,13425286.436955903,19474109.267935403,-19302254.23804875,17225811.77628182,-7968672.165047537,13291691.916054895,-19857794.15685258,10500756.434580415,10509684.257742038,13950113.30824987,16567067.557563543,16568659.426281884,-19839560.024260644,-19305927.781244926,-19366530.112032786,-19363168.263410825,15182876.481243663,16128747.062565029,-17580920.951912362,18574224.76826074,14098780.48820429,18557092.698627654,18548554.493683815,18550179.758249395,11954121.442479238,14519356.656370355,18545192.645061854,11378076.473471284,-10715202.301644579,7918277.831565422,19986234.58532986,19667348.77200345,-11570180.518733237,16272037.51111413,11647035.495176913,-11929341.723828655,16420326.20479985,-16019486.98235143,18583019.00803341,5762820.795233425,-12049121.495922217,-11726072.333640138,-10891677.090399155,18406009.885723025,13579185.632977603,13586888.9417405,-19809804.324371602,11206021.0685012,-11781364.724717155,-7999351.816710162,13984666.878192104,-19217272.938777164,-19796601.83276352,-7955291.562254186,18571230.273958404,-11707815.93715004,-11711155.521873841,14067577.634934934,-11638797.852858212,12942772.10411246,-9680710.273702689,17873346.12227721,-1513978.4706357587,-19727394.505337343,18364176.02108291,-15816250.988010151,-8995449.752277454,-11493859.875845369,-19244512.81817428,-19280658.256834853,18633290.890075654,-8865016.704914976,-8865261.60779472,16415327.95966323,9190147.54167489,-2844146.1980736633,-7347954.684384244,15808937.297465034,9176510.904052714,19271262.891811904,-19741765.851598755,19942452.629600868,19981191.812396925,19936541.56463974,19914021.631652266,19918296.30009873,19928181.470881168,19881972.75025288,10977715.924833277,19894440.53322173,-3441764.884397353,-19336852.3357873,-13991487.056038685,-10790098.055050293,16407992.005219955,14013721.265289148,19892637.157470874,18761953.95753452,18476820.213816624,17667805.814476512,-7327650.009263551,-8566435.566709256,3519710.791850803,-12501768.809385827,-19472684.37845325,15801156.065058582,-3821998.8690999374,13518193.683971971,-11567976.39281553,-11244292.709435929,19886113.83531039,14187557.782111922,-19460851.116581924,17088142.96201778,16548621.9179391,-7908771.147051676,11670746.546715882,16496580.055993244,-8188695.138600441,16683596.80052594,12732912.600068979,-19839693.6076496,15759032.769742409,19902288.557322655,-9193943.53631094,6013690.399685146,-7884425.574415187,19388493.4475663,-19629867.499453355,14230438.049965493,13734621.037972253,-6779412.649055758,10705350.526709374,9611892.564494286,-14047807.293370048,17958216.102058005,17931254.52138787,17948063.764497656,17957358.941978898,17937087.66270544,17973066.122129828,17956935.92791388,17962412.84686091,17959062.130188033,17961410.97144377,17953485.023699287,17195900.229105666,-12228357.008048467,17986146.162298035],\"mag\":[6.3,5.8,5.8,6.7,5.8,6.0,5.7,5.7,5.6,6.5,6.2,5.9,5.7,6.2,5.7,6.4,5.7,5.8,6.4,6.3,6.3,5.6,7.8,5.6,5.6,5.9,5.6,5.5,5.9,5.6,6.3,5.9,6.2,5.9,6.9,5.9,5.8,6.7,5.9,6.1,5.5,6.7,5.7,5.5,6.6,5.6,5.6,5.8,5.5,5.7,5.6,5.7,5.5,5.7,5.5,5.6,5.6,5.8,5.5,5.8,5.7,5.5,6.6,5.8,5.8,6.3,5.6,6.1,5.5,5.5,6.3,5.5,6.3,5.9,6.1,6.1,6.2,5.5,5.8,5.9,5.8,5.5,5.6,5.8,6.0,5.6,5.9,6.3,5.6,5.6,5.6,6.2,6.3,5.5,7.2,6.1,7.0,5.5,5.5,5.7,6.1,5.5,5.5,5.5,5.5,5.5,5.5,5.64,5.8,5.5,5.8,5.9,6.1,5.6,6.1,5.6,6.1,5.9,5.8,5.6,5.7,5.5,5.8,5.6,5.6,5.8,5.8,5.6,5.6,6.0,6.3,5.8,5.7,6.0,5.9,5.7,5.6,6.1,5.9,5.6,5.5,6.2,5.9,5.5,5.7,6.3,5.9,6.5,6.0,6.6,7.8,5.7,5.5,6.5,6.9,5.5,5.5,5.8,5.5,5.6,5.8,6.0,5.8,5.5],\"mag_s\":[25.2,23.2,23.2,26.8,23.2,24.0,22.8,22.8,22.4,26.0,24.8,23.6,22.8,24.8,22.8,25.6,22.8,23.2,25.6,25.2,25.2,22.4,31.2,22.4,22.4,23.6,22.4,22.0,23.6,22.4,25.2,23.6,24.8,23.6,27.6,23.6,23.2,26.8,23.6,24.4,22.0,26.8,22.8,22.0,26.4,22.4,22.4,23.2,22.0,22.8,22.4,22.8,22.0,22.8,22.0,22.4,22.4,23.2,22.0,23.2,22.8,22.0,26.4,23.2,23.2,25.2,22.4,24.4,22.0,22.0,25.2,22.0,25.2,23.6,24.4,24.4,24.8,22.0,23.2,23.6,23.2,22.0,22.4,23.2,24.0,22.4,23.6,25.2,22.4,22.4,22.4,24.8,25.2,22.0,28.8,24.4,28.0,22.0,22.0,22.8,24.4,22.0,22.0,22.0,22.0,22.0,22.0,22.56,23.2,22.0,23.2,23.6,24.4,22.4,24.4,22.4,24.4,23.6,23.2,22.4,22.8,22.0,23.2,22.4,22.4,23.2,23.2,22.4,22.4,24.0,25.2,23.2,22.8,24.0,23.6,22.8,22.4,24.4,23.6,22.4,22.0,24.8,23.6,22.0,22.8,25.2,23.6,26.0,24.0,26.4,31.2,22.8,22.0,26.0,27.6,22.0,22.0,23.2,22.0,22.4,23.2,24.0,23.2,22.0],\"year\":[2016.0,2016.0,2016.0,2016.0,2016.0,2016.0,2016.0,2016.0,2016.0,2016.0,2016.0,2016.0,2016.0,2016.0,2016.0,2016.0,2016.0,2016.0,2016.0,2016.0,2016.0,2016.0,2016.0,2016.0,2016.0,2016.0,2016.0,2016.0,2016.0,2016.0,2016.0,2016.0,2016.0,2016.0,2016.0,2016.0,2016.0,2016.0,2016.0,2016.0,2016.0,2016.0,2016.0,2016.0,2016.0,2016.0,2016.0,2016.0,2016.0,2016.0,2016.0,2016.0,2016.0,2016.0,2016.0,2016.0,2016.0,2016.0,2016.0,2016.0,2016.0,2016.0,2016.0,2016.0,2016.0,2016.0,2016.0,2016.0,2016.0,2016.0,2016.0,2016.0,2016.0,2016.0,2016.0,2016.0,2016.0,2016.0,2016.0,2016.0,2016.0,2016.0,2016.0,2016.0,2016.0,2016.0,2016.0,2016.0,2016.0,2016.0,2016.0,2016.0,2016.0,2016.0,2016.0,2016.0,2016.0,2016.0,2016.0,2016.0,2016.0,2016.0,2016.0,2016.0,2016.0,2016.0,2016.0,2016.0,2016.0,2016.0,2016.0,2016.0,2016.0,2016.0,2016.0,2016.0,2016.0,2016.0,2016.0,2016.0,2016.0,2016.0,2016.0,2016.0,2016.0,2016.0,2016.0,2016.0,2016.0,2016.0,2016.0,2016.0,2016.0,2016.0,2016.0,2016.0,2016.0,2016.0,2016.0,2016.0,2016.0,2016.0,2016.0,2016.0,2016.0,2016.0,2016.0,2016.0,2016.0,2016.0,2016.0,2016.0,2016.0,2016.0,2016.0,2016.0,2016.0,2016.0,2016.0,2016.0,2016.0,2016.0,2016.0,2016.0]},\"selected\":{\"id\":\"25384\"},\"selection_policy\":{\"id\":\"25383\"}},\"id\":\"25333\",\"type\":\"ColumnDataSource\"},{\"attributes\":{\"line_color\":\"#cc0000\",\"line_width\":2,\"x\":{\"field\":\"yrs\"},\"y\":{\"field\":\"max_mag\"}},\"id\":\"25492\",\"type\":\"Line\"},{\"attributes\":{},\"id\":\"25384\",\"type\":\"Selection\"},{\"attributes\":{\"background_fill_alpha\":0.25,\"background_fill_color\":\"#20262B\",\"border_line_alpha\":0,\"glyph_width\":15,\"items\":[{\"id\":\"25505\"},{\"id\":\"25524\"}],\"label_standoff\":8,\"label_text_color\":\"#E0E0E0\",\"label_text_font\":\"Helvetica\",\"label_text_font_size\":\"1.025em\",\"location\":\"top_left\",\"spacing\":8},\"id\":\"25504\",\"type\":\"Legend\"},{\"attributes\":{\"data\":{\"pred_lat\":[-4305644.878725946,-545572.9963252045,-2662437.544199332,2755248.2180776433,-5365811.401172721,-2198935.625488779,-2201815.0661135376,-2169151.5511257183,-2151981.0195756736,-2022267.6894265262,-2130721.2189970976,-2549699.865701338,-694543.9332678925,-7232331.040247741,12673256.347779717,499019.27758739004,1653476.4320984199,-1131687.975289045,-2610385.9209709303,-2291994.7871158165,-587136.108265621,3372.9807282539505,-2110306.486492368,-1702145.7202415739,-2114300.813983417,-1533175.837365457,369430.8808398337,-1523097.2091694549,2255613.0303128827,5251466.08195597,5249092.034354799,-1158542.31074942,314783.38479557785,-696727.5869158688,-751615.0630744314,1355850.2420601905,-3515612.666032388,-1663110.5734038532,78148.23778704347,1358742.0221909464,1697280.2399914016,384206.4656621794,2899247.571116649,1108390.3548526065,-2736515.9955926742,-1686526.567689685,-2188094.3838645946,-2423170.738547443,-942997.9000432289,-2663406.851823696,-2033417.1551428244,-2109578.1952632125,4518380.554022869,-5588992.228074327,-7820139.622008823,8306487.562006566,4525320.617361076,-817948.6770221523,1099802.996351175,-7397288.521822361,-668525.4304657303,-698418.5745860392,5088588.534926192,-1691850.949840845,-8433232.08722776,-3570322.1306225546,1618757.243540949,685451.8444193258,-2393392.991688738,-1766434.1742676578,6635262.103856747,-1293287.889404825,-908799.531326025,-948748.992832175,-339539.99201582524,6938469.688544394,7747885.474860747,2963540.901167296,34353.36095726692,6922941.295510339,-2593172.612202951,-7482427.682112884,6654349.953489209,4269774.326043047,-2157361.3814672176,1540382.0671977927,1547853.8366059961,-6832047.59130031,1464599.6400086817,632818.3313257225,636331.0777585702,857123.4469409941,862313.1988759936,638680.4740663961,-2064241.1614338486,-2664133.870717765,-822977.1091850322,-1504450.120204938,1973247.8774015973,-2047816.2328304106,-301988.964456025,-4340474.349688632,-2337314.3544318345,-3900003.6645173146,-3897255.305117063,-3900282.5196553133,-7337411.688928481,6658187.08326438,-1866135.711318369,-3924408.7585403426,-3912532.1501572262,613680.5528100671,-1081459.7614575624,3608746.606161006,8359970.740134858,8361875.379767513,8350300.101798156,8348464.775425542,-1312938.1458496496,4792667.472756803,4790503.900218573,-8586207.569116628,6625734.82365355,6629257.565175177,6752243.306047916,2808339.2316463753,6627150.819317838,-1641809.9026616956,6756972.061558731,-7641276.689954517,-7637796.156257059,-7675664.015505834,-3208248.7246229313,1450445.4558200147,4546886.706747683,-2371464.574741725,3151660.834632129,-448095.15175157593,1049075.6774900397,1977857.6139925562,1926809.1237635869,5453657.620247199,-310681.9021402735,-1121049.0407249308,6858557.903920932,-2549170.407604103,7104842.120234905,-143870.3768323784,-4487249.0510882195,-8100499.685198235,2164321.5495230677,7176067.416283686,-527676.4522642265,-8997805.451620065,-453675.0399595397,-1902394.1145143113,-7227922.704199101,1610771.2655774371,-929517.8827989912,-3697894.4979751343,4711592.387620336,-2075577.6191125002,1591959.3923035779,1678726.461923936,1726499.241972048,-3569999.0833416884,-7445379.231640741,-9036901.844784353,1266349.5260567088,-2764708.0832564547,-2361950.752767476,1541814.3773614864,-2207988.4374187933,-5047525.047991203,-1736970.367407114,-1066974.4236178973,-2220022.20072558,-2850083.1727469866,5434235.246962346,-3543498.699102924,-3649032.4471866395,-509717.04716724803,3994117.608229387,-31715.05362072639,-3169524.199447896,-3178313.99124862,-4232681.143815502,5922688.114774268,1246500.756029531,-745752.8974622741,-2578074.42083684,-7572383.258442905,1230893.4115588793,-4321997.7203316195,-6357337.283314072,-4217157.9086806,4990992.382834879,-532580.2680479435,45619.11627917563,-2318066.2695521843,-2317341.8919830853,7280814.093520289,7254582.226507023,-1852960.1451625917,-7754111.940643026,-1969234.135804802,4497391.699737973,4429256.6953345,-2043834.9933757263,34464.6820680013,4871567.652741578,3110671.5547305597,-396363.01566563087,1505010.8360824403,7227731.923012484,5800306.8672759915,-3317861.212150935,681981.0936987314,-1145282.3105185104,-5989276.000660639,-605897.2791313896,-376534.060890135,-372999.13958976517,3920896.384432669,5512343.6078667715,6873195.893977935,6885703.918075629,-2876874.679370591,1574962.2867086106,-1839328.3396986248,-3534591.685046523,-419776.828952932,-1200527.5166430892,-7355095.6786795445,-1665850.707391596,3334180.5471230596,-123795.04571138693,-698004.222095634,-2032972.4655502085,-5985748.279869394,-161708.8821725821,-129028.0895611599,8062469.851229396,7771982.62055044,1576029.3031772126,5061494.911955777,-7912625.714267074,-1832961.9011957513,3221629.9168965104,1691758.7429544402,1709872.5242152752,1698536.8710225923,1735030.4984869217,5128275.333156288,7787187.344932034,2747669.8187303906,1678530.6267919831,2118248.9355914146,-7448440.212338019,1815089.6939157208,-703995.8215343215,-2101533.5161832874,-3739915.568881677,1718917.1520093011,1701303.9921897424,2102014.9316169065,-6569926.986643504,4576798.589796728,-2129686.461762279,-566748.2981842752,-681600.4429768842,2698450.1605495107,4925775.566875482,1745701.721099107,1877309.0836236042,844230.1342541707,1725356.5830811285,-695092.6385978509,-2702494.3522324045,4914743.655082395,3349465.589130904,438911.39930979925,1512186.7203117532,-2557126.0721197636,106415.23801256483,4509494.443295251,4452482.453741789,-4206130.0392036885,-2153793.9305472,-8799329.294446291,6871116.152136846,-2104551.359970117,-7220161.650973685,-7219284.962370067,-3631956.9676027764,1831095.2137202783,-2735164.9224374145,-2720870.103624745,-2343223.557681383,-26527.511136183297,-620133.7559040736,3289163.7310350216,-6862547.445647727,-805503.2306815294,-541126.3941315995,22972492.920816742,23017578.89083119,23070653.714063987,-961120.3823463289,-2475197.087909238,-2442723.714941221,-1746464.1334434785,-426236.4080493929,-419832.6093060022,-417177.49998489686,-425488.90432073775,-2478875.5770178144,-2469363.43797136,-2488321.0310053118,-2480205.777766392,-2490671.2143681957,2114911.7816435676,-1726072.1813098392,-2420053.3593098465,-1707473.4933615183,-2113725.1115881517,1308391.019937781,-2472753.183612261,-2000220.3285168556,-472794.3915697286,-2496656.043696366,3831869.5528690172,-5081425.444171707,-1316405.7714694205,4151779.3925998546,4570289.9003546275,1064073.4976731602,-2054574.3973476999,-2111410.720620922,1471113.6276090266,-8187111.827621816,4310739.577394618,-2456660.7928720564,3792263.2916084253,3482140.0594611526,-330287.73264516547,274464.949188219,-2468081.975861971,-2451922.1309501613,-2416088.7546149204,-2430626.024760267,-2449780.5835856874,-1657447.0457099956,-6795732.894736508,-4380114.846842926,3140736.1393209775,-2347731.0651551904,-509784.05228970083,11972630.390174912,-2954956.4261257593,-1621239.7221826895,5653346.910651668,-751603.8537432492,-488869.975569843,-120254.43798601658,3599857.966320954,-684209.0685570816,-6237394.496044554,-52320.74745320832,-3861757.1576477517,-1566014.8139201803,-70121.559796827,1132049.8215287533,-3575065.421551152,1120201.224843236,-1818009.4917290597,1129381.2901968637,-2371952.904337748,-1612529.1171196578,-2238506.885499229,3598666.3855736377,3610366.9396063318,-7211722.819822231,-2418106.7702445276,-836403.7278979729,-1959937.7578399314,-8316409.16625335,-2494688.8551334864,3582901.5958674364,3412595.806500549,7143535.427905174,-1731128.1413604221,-3234457.4535690867,454601.3348356274,-7670127.402271534,-6999959.447355698,-605248.7137534139],\"pred_long\":[5780687.573505744,-8501191.21315532,19952716.286652006,10243363.50796821,-8293491.307233229,19597996.729239237,19587020.627447024,19613102.784139886,19624201.33737198,18604102.919589657,19620806.092902783,-7546904.878329982,16417053.411770526,-15123699.039937956,-10287657.533354852,13649673.134547904,16067855.301101107,17925454.77591754,-7770467.811690112,5192709.155084753,11435127.712502839,13923507.949950278,19618557.43918876,-19288127.794667084,19602182.34209307,18537177.64172474,10961585.730617331,18525444.56739513,-8526405.077819996,1472400.640824471,1468348.6113595958,17959785.70687819,14272093.803420337,17273645.761475686,17098918.688726567,16281210.237155495,-19753988.731687855,18607910.046174783,-8869591.935986578,15699053.828102991,-6737656.708059201,-8312393.356769928,7042560.793341977,13965208.231201438,-7420468.200686982,-19634654.237557467,-7113838.66329691,19411291.67928076,3342979.968267402,-19904325.70400417,-19863671.825966466,18857978.150292795,15733306.835420081,-9005435.110601611,-15876597.283969184,-16993432.33925086,4278063.6909309,17337788.05207077,13970161.94854174,-14379951.258049939,16626890.651915848,11375438.201539483,15796480.646445265,18719775.002472945,16731252.674534539,-19761447.137571003,16164992.688767318,10275278.80597864,18931883.16023045,-19717030.66074449,19934649.133296255,12754285.942301288,17895008.895185582,12837731.032599926,15235864.558861258,19176073.595234573,18121265.76022291,-12247782.259191895,13422926.463751087,-3597701.22710057,2800330.846497431,-3339729.4391362383,-19634220.09154337,6727738.14142952,18877414.533385303,13461921.68137597,13462467.146880858,15547347.626049919,13955200.608979123,14159983.944242429,14148139.550422024,13893997.152940981,13899607.655276963,14170982.309932806,-19833604.431503203,-7538834.215247469,9258653.55630907,18545404.152094364,-6806329.70192957,-19855946.253305417,-8382747.274951275,-10956943.707851252,-19325252.84484664,-8018298.394043178,-8027849.60635324,-8021871.749697642,-14504840.594770912,19885512.71006011,-19330217.69413602,-8011596.960697423,-7992717.175058885,13922261.171653392,12451029.385482254,14629017.486750808,-15218643.43363554,-15217841.933301827,-15209492.971492331,-15215348.37670806,-1551548.7987784883,7953087.436336478,7950694.067284424,-4231921.761997088,-19704841.176502623,-19702080.45313095,-19880269.562043745,14061588.646330256,-19708436.796055246,18632289.01465851,-19868358.376528863,-2865719.9153894004,-2870606.8410352245,-2876918.6561632035,-19658409.81689275,-10025555.79228209,6368120.52642185,-7648873.53189662,14476454.124618625,16973784.44912585,13798462.765942194,-11724480.464921793,-10473828.249757523,16444048.388287898,13594113.576692982,18028581.15218843,-18553163.120602652,-19628954.67962885,-17921024.26018397,13406350.991571967,-7980449.767173465,-2921234.945448006,16234411.523226002,19026682.83859,16156499.011619791,17347361.528278995,-8945445.037013115,-19783221.22997017,-16323778.810434842,-10354349.040289104,11828697.772202456,-7988286.659325312,2934938.3747646576,18782715.042567465,-10382156.649089262,-10242417.292296467,-10817538.309530836,-19821136.648534358,-13887941.372641826,-17932690.542819105,-9646423.870538358,19993436.956384186,-19652576.675575186,-10126934.452547526,3839208.862376577,8976614.494435232,-8169236.491609777,7366010.705790913,-19617444.244280823,-19727572.61652261,16461325.17325901,-19777221.10941641,20029237.304623302,17035678.086006906,-4290754.112881334,-8960406.37657573,-19638350.044651803,-19616453.500812765,-8163681.649019193,-12531825.07190001,13873592.290278576,16446909.299201284,19269426.120213814,-3066028.2071228167,13890891.33914785,-11201334.517938806,18258144.206102323,-8155822.492969188,14656736.039958334,17055359.37197916,13579241.292722998,-19309590.192492027,-19299949.924589332,18773854.01110032,18797075.256879795,-8197088.628206255,-15741678.061127735,7400920.498103682,15761270.291507354,3051701.3886577226,18832207.68817415,13381003.543518338,15972988.831047077,14491972.06163521,14035684.600822661,-5490934.070919933,18846512.24274109,16817848.10642263,-7669278.394559028,13961133.937838405,17976171.935922958,11117154.71900093,16873975.3936806,16348847.95976149,16340409.942359356,11561107.980233584,9220782.665541198,-18818515.390806578,-18828678.860316005,-1513956.2067375998,13440615.130838137,-8179132.7943413,-8032792.191744462,11312598.348986682,-8300671.414389395,-14446186.355071936,-19271218.364015583,14237840.796103245,-1520679.9039815138,14254382.872435123,-19908444.52516352,17814458.11164757,16484190.196667952,11097228.530148936,-17104406.739622675,-3792777.5027667037,16318858.48894178,14363520.501208851,-2851237.2496371954,18699236.556421585,15562921.222811898,-10452822.261844832,-10497105.155282399,-10470811.491557026,-10523287.499516975,15906798.261821399,-3746156.9000224797,15844915.75688942,-10465579.475489743,16224448.428800004,-3157232.2659297455,-10590758.24288678,16572221.649987271,-1413334.5190095599,-8029040.724904728,-10527105.758051185,-10479995.349547472,-10963711.932891482,18104078.030844428,16103488.670104034,18823524.76789228,16456026.365497254,12581774.127418952,-12115011.502522757,-14118940.44798695,-10511754.800270792,-10584012.281744706,13886304.976127166,-10482978.71190073,17000879.61318493,-19685415.925359197,15845483.486292463,15643995.20795664,14304365.323801303,-5491635.38371193,-7627299.814580885,-2839637.7586965365,16032244.19599634,15704630.934591737,-1731262.9847151493,-19543906.58866279,17209826.297403906,19677846.199985255,-7764823.913506894,958304.9684429747,927981.539150887,-7304629.138567501,-10560390.285798375,-19577959.220896453,-19556986.628831,-19347572.402750693,13686642.337440351,16384136.238342956,14606319.44257806,1868063.5069510029,13700479.350145955,14592938.839784708,6028117.405691953,5923410.2926518,6144858.15568686,13245249.424495943,18829524.888446037,18804589.322508343,-19287994.211278133,14217825.551658614,14211881.090850255,14221254.191975046,14223180.019165771,18805669.121569037,18797242.236115985,18810967.929330796,18794114.158424694,18796396.207985956,-11862683.612741644,-19276995.84558776,18808697.011718616,-19301107.647293583,-19786471.75910133,-6810348.335547209,18774644.379484948,-19875772.254615694,15972632.608676542,-19968746.293326236,15744806.138819026,-9371976.797936622,-1571185.556954422,5116154.741266219,16133622.856261773,-9404994.158905908,-19815515.014249295,-19093797.359589268,15997913.265035696,-1903663.4801066918,14391383.769754406,18758402.86577821,15645943.299045524,10573548.249610139,-8872942.652659455,14265381.238125501,18776581.338624753,18768288.036560655,18766718.431740474,18776425.491337646,18791709.65742356,-19486309.884126347,15551076.828991493,19760311.67876491,14511408.444727717,19207922.10155053,17057140.48383185,364526.8045516536,-1543366.8162051828,-8478025.62712124,16286175.086444875,14447221.626336314,16008065.60259604,-2608471.704115224,6379386.058890129,16437035.260367919,11891749.131787766,-8940079.43755688,-19900696.688604306,18968629.72414131,13766669.919371633,15609185.603185581,-19869683.078469306,15605556.58778572,-19360374.14419192,15607170.720402226,-19338555.52399644,18639658.36494903,-7910262.828228306,6376324.772893313,6378406.4473711485,240761.79468769205,18871904.218591034,12041907.992918814,-19763306.17306725,-16822913.143253725,-12725977.395792559,14702844.573044907,15879447.062933493,17878344.36741383,-19250691.049913306,8238176.652258052,14114409.744711664,-15826770.679890113,-13070077.073783645,16791877.269220557],\"pred_mag\":[5.839371539930189,5.880300148595767,5.896556405153653,5.863755336563363,5.934431053215677,5.985313992036253,5.898883043744627,5.893389779991663,5.978824028188106,5.9805020286233015,5.903843499144168,5.862024738301598,5.856139010373421,5.801389281873434,5.917594556912707,5.953230970705475,5.892869815525061,6.012337547858329,5.858369314448855,5.851360586095323,5.96286917118705,5.839598208471095,5.903843499144168,5.851778730373845,5.903843499144168,6.024599675452892,5.893713900467709,6.024599675452892,5.96117563034239,5.9004612622482835,5.875207682199775,5.87622396352789,5.845022971847568,5.866604044093278,5.900473304026791,5.889614278298144,5.933298181740744,5.905495755578437,5.8502862517316405,5.892102291560492,5.8625643823774,5.8672226126920375,5.904823577311618,5.957647204734806,5.893093985005976,5.851778730373845,5.9177877478507,5.900315730818032,5.8918817186625905,5.8527008403430285,5.824499715155892,5.914343387804654,5.851630927338386,5.821680305677357,5.86622616229931,5.853588133995709,5.875207682199775,5.992502350028439,5.957647204734806,5.801389281873434,5.868040829613326,5.8803542252008345,5.861832068746326,5.926504318137419,5.878416828395393,5.933298181740744,5.847472513416912,5.854158725532662,5.908073637861663,5.822921886992799,6.049906875440852,5.876453859563559,5.912619301843365,5.84531609523618,5.84316425894067,5.984910278629224,5.98482336792995,5.97379237688633,5.839714802082201,5.867975311171016,5.921347495955542,5.894186362151284,5.973411067941366,5.948137686575943,5.914343387804654,5.960593235083177,5.960593235083177,5.863668919456653,5.870779372204314,5.959750384136356,5.959750384136356,5.893076954983039,5.870779372204314,5.876610469639095,5.822552720349306,5.86074013599828,5.843711550336831,6.024599675452892,5.953723497552167,5.805206157997348,5.952319879863316,5.800237198296584,5.90122389921374,5.926509935745601,5.926509935745601,5.917739391406814,5.801389281873434,6.049906875440852,5.834638942826413,5.926509935745601,5.917739391406814,5.960472868671273,5.881955470755068,5.934760840285135,5.859559558254958,5.8798751910215765,5.8798751910215765,5.859559558254958,5.8435938564836665,5.948476996485718,5.875207682199775,5.923945245367428,5.984409988313493,5.984409988313493,6.0186781700489655,5.888037613514395,5.984409988313493,5.934107114128881,6.003553160163063,5.91930096395283,5.860697763711149,5.91930096395283,5.827288923725115,5.953680162269402,5.9004612622482835,5.863170245651598,5.891765531547625,5.902343405366201,5.944857545472964,5.857646883140726,5.870118982711586,5.854404093879287,5.888614118192065,5.87622396352789,5.861976798430064,5.82909228368502,5.964961514666318,5.965310748861071,5.8917629093212796,5.804228342265379,5.858794794061827,5.916425470589414,5.885067557729,5.885198079847321,5.876300521931368,5.822921886992799,5.801389281873434,5.857646883140726,5.904253053533793,5.917739391406814,5.958629855848594,5.981788842956349,5.857646883140726,5.865987143074997,5.959062795047332,5.848011346155663,5.803070096109068,5.784773701170694,5.863820969243578,5.896556405153653,5.835466862699506,5.847539546919322,5.921914763941264,5.842026785546973,5.865953028929204,5.842442254752065,5.80515549023007,5.846049635168351,5.850870237458638,5.933298181740744,5.891694667533196,5.874374023696595,5.8728098169625405,5.955143312858176,5.898124245060174,5.898124245060174,5.926509935745601,5.955505833412545,5.893076954983039,5.862027997514076,5.987469163644575,5.794343610096072,5.893076954983039,5.794447315559908,5.92614734530448,5.856125677086977,5.972582446394644,5.86795371627978,5.84384664171879,5.90122389921374,5.817385864288669,5.922086271697231,5.9021751115637135,5.865355045713265,5.784773701170694,5.840777224004881,5.9309020828891565,5.892335175580556,5.910629304949998,5.839714802082201,5.900230613119531,5.957272313951583,5.964155985520097,5.853304163443408,5.9021751115637135,5.849516522468156,5.858976577509678,5.843152605223358,5.870334976387233,5.853104791309986,5.985970208258566,5.902429212237292,5.902429212237292,5.909630406330806,5.954144571037261,5.960681933886166,5.960681933886166,5.839648473102244,5.869891998836825,5.865355045713265,5.867454536412437,5.925124421931882,5.886353570013571,5.801389281873434,5.851778730373845,5.879810879549889,5.8592642575525264,5.956016565980461,5.824499715155892,5.922320687587197,5.914964625999175,5.850983986009681,5.853588133995709,5.8635127822737925,5.974813217854098,5.909341896572512,5.9037526480411,5.932971047109504,5.928297826627757,5.869520999495647,5.876910833356407,5.963366644909574,5.963366644909574,5.864183744116213,5.8635127822737925,5.856615725605931,5.963366644909574,5.8785370908794565,5.839038037974713,5.876910833356407,5.997812583238489,5.840777224004881,5.926509935745601,5.857646883140726,5.931061654023544,5.869520999495647,5.929704403270064,5.9731000186164165,5.9189801131749284,5.902343405366201,5.948352415260652,5.85690705703263,5.966948355065982,5.869520999495647,5.857646883140726,5.893076954983039,5.869520999495647,5.899289498761019,5.808963612308421,5.864183744116213,5.886666025171317,5.876610469639095,5.853304163443408,5.862501154085444,5.8507644807526855,5.916934273808495,5.848382562929247,5.839371539930189,5.807211129814323,5.885198079847321,5.866534058824234,5.85288088412389,5.860630299879475,5.841854697615469,5.864081043677975,5.869520999495647,5.89322532371521,5.806299283329944,5.80515549023007,5.839714802082201,5.885067557729,5.965635076673481,5.841854697615469,5.953963056208623,5.857010822841348,5.8635127822737925,5.8635127822737925,5.8635127822737925,5.84531609523618,5.994254969450404,5.907101536623861,5.817340676054664,5.910911700970789,5.910911700970789,5.910911700970789,5.964155985520097,5.980673054762117,5.992245670582441,5.907101536623861,5.907101536623861,5.915138419918174,5.85690705703263,5.817340676054664,5.905668849550455,5.831975140988632,5.822552720349306,5.855364598279296,5.907101536623861,5.824499715155892,5.863744175671414,5.8271385910794375,5.95821484946049,5.821680305677357,5.8435938564836665,5.948137686575943,5.9731000186164165,5.956807708921015,5.822552720349306,5.807211129814323,5.84454879344543,5.860697763711149,5.883968664031579,5.907101536623861,5.848382562929247,5.898838623311024,5.865217093618594,5.895469442347114,5.993532484915487,5.993532484915487,5.913705732844769,5.907101536623861,5.907101536623861,5.851778730373845,5.863668919456653,5.975540832507075,5.957272313951583,5.972454561882882,5.874374023696595,5.8635127822737925,5.839648473102244,5.9517910050613,5.907786538956524,5.865916712312628,5.863744175671414,5.8507644807526855,5.892335175580556,5.865277694025421,5.853104791309986,5.955143312858176,5.80340013180852,5.892575521068101,5.957951747633668,5.962714583197473,5.918430111448195,5.892102291560492,5.841773835605686,5.873532626814997,5.817385864288669,5.934107114128881,5.92947301470205,5.952628650134578,5.892335175580556,5.909734678063016,5.990812983509036,5.841184255599591,5.854888396475306,5.784773701170694,5.817709060929594,5.894086252384308,5.889755961789595,5.853917141475767,5.834638942826413,5.8390686743184945,5.960472868671273,5.784773701170694,5.803070096109068,5.86848503655594],\"pred_mag_s\":[23.357486159720757,23.521200594383068,23.586225620614613,23.455021346253453,23.73772421286271,23.94125596814501,23.59553217497851,23.573559119966653,23.915296112752426,23.922008114493206,23.615373996576672,23.448098953206394,23.424556041493684,23.205557127493737,23.67037822765083,23.8129238828219,23.571479262100244,24.049350191433316,23.43347725779542,23.405442344381292,23.8514766847482,23.35839283388438,23.615373996576672,23.40711492149538,23.615373996576672,24.09839870181157,23.574855601870837,24.09839870181157,23.84470252136956,23.601845048993134,23.5008307287991,23.50489585411156,23.38009188739027,23.466416176373112,23.601893216107165,23.558457113192578,23.733192726962976,23.62198302231375,23.401145006926562,23.568409166241967,23.4502575295096,23.46889045076815,23.619294309246474,23.830588818939223,23.572375940023903,23.40711492149538,23.6711509914028,23.601262923272127,23.567526874650362,23.410803361372114,23.29799886062357,23.657373551218615,23.406523709353543,23.286721222709428,23.46490464919724,23.414352535982836,23.5008307287991,23.970009400113756,23.830588818939223,23.205557127493737,23.472163318453305,23.521416900803338,23.447328274985303,23.706017272549676,23.51366731358157,23.733192726962976,23.38989005366765,23.41663490213065,23.632294551446652,23.291687547971197,24.19962750176341,23.505815438254235,23.65047720737346,23.38126438094472,23.37265703576268,23.939641114516895,23.9392934717198,23.89516950754532,23.358859208328806,23.471901244684062,23.68538998382217,23.576745448605138,23.893644271765464,23.79255074630377,23.657373551218615,23.84237294033271,23.84237294033271,23.45467567782661,23.483117488817257,23.839001536545425,23.839001536545425,23.572307819932156,23.483117488817257,23.50644187855638,23.290210881397226,23.44296054399312,23.374846201347324,24.09839870181157,23.814893990208667,23.22082463198939,23.809279519453263,23.200948793186335,23.60489559685496,23.706039742982405,23.706039742982405,23.670957565627255,23.205557127493737,24.19962750176341,23.338555771305654,23.706039742982405,23.670957565627255,23.84189147468509,23.527821883020273,23.73904336114054,23.43823823301983,23.519500764086306,23.519500764086306,23.43823823301983,23.374375425934666,23.793907985942873,23.5008307287991,23.695780981469714,23.93763995325397,23.93763995325397,24.074712680195862,23.55215045405758,23.93763995325397,23.736428456515522,24.014212640652254,23.67720385581132,23.442791054844594,23.67720385581132,23.30915569490046,23.814720649077607,23.601845048993134,23.452680982606392,23.5670621261905,23.609373621464805,23.779430181891858,23.430587532562903,23.480475930846342,23.41761637551715,23.55445647276826,23.50489585411156,23.447907193720255,23.31636913474008,23.859846058665273,23.861242995444282,23.567051637285118,23.216913369061515,23.435179176247306,23.665701882357656,23.540270230916,23.540792319389283,23.505202087725472,23.291687547971197,23.205557127493737,23.430587532562903,23.617012214135173,23.670957565627255,23.834519423394376,23.927155371825396,23.430587532562903,23.463948572299987,23.83625118018933,23.39204538462265,23.212280384436273,23.139094804682777,23.455283876974313,23.586225620614613,23.341867450798023,23.390158187677287,23.687659055765057,23.368107142187892,23.463812115716816,23.36976901900826,23.22062196092028,23.384198540673403,23.403480949834552,23.733192726962976,23.566778670132784,23.49749609478638,23.491239267850162,23.820573251432705,23.592496980240696,23.592496980240696,23.706039742982405,23.82202333365018,23.572307819932156,23.448111990056304,23.9498766545783,23.177374440384288,23.572307819932156,23.17778926223963,23.70458938121792,23.42450270834791,23.890329785578576,23.47181486511912,23.37538656687516,23.60489559685496,23.269543457154676,23.688345086788924,23.608700446254854,23.46142018285306,23.139094804682777,23.363108896019526,23.723608331556626,23.569340702322226,23.64251721979999,23.358859208328806,23.600922452478123,23.82908925580633,23.85662394208039,23.41321665377363,23.608700446254854,23.398066089872625,23.43590631003871,23.372610420893434,23.481339905548932,23.412419165239942,23.943880833034264,23.60971684894917,23.60971684894917,23.638521625323225,23.816578284149045,23.842727735544663,23.842727735544663,23.358593892408976,23.4795679953473,23.46142018285306,23.469818145649747,23.700497687727527,23.545414280054285,23.205557127493737,23.40711492149538,23.519243518199556,23.437057030210106,23.824066263921843,23.29799886062357,23.689282750348788,23.6598585039967,23.403935944038725,23.414352535982836,23.45405112909517,23.89925287141639,23.637367586290047,23.6150105921644,23.731884188438016,23.71319130651103,23.478083997982587,23.507643333425627,23.853466579638297,23.853466579638297,23.45673497646485,23.45405112909517,23.426462902423722,23.853466579638297,23.514148363517826,23.35615215189885,23.507643333425627,23.991250332953957,23.363108896019526,23.706039742982405,23.430587532562903,23.724246616094177,23.478083997982587,23.718817613080255,23.892400074465666,23.675920452699714,23.609373621464805,23.79340966104261,23.42762822813052,23.86779342026393,23.478083997982587,23.430587532562903,23.572307819932156,23.478083997982587,23.597157995044075,23.235854449233685,23.45673497646485,23.54666410068527,23.50644187855638,23.41321665377363,23.450004616341776,23.403057923010742,23.66773709523398,23.39353025171699,23.357486159720757,23.228844519257294,23.540792319389283,23.466136235296936,23.41152353649556,23.4425211995179,23.367418790461876,23.4563241747119,23.478083997982587,23.57290129486084,23.225197133319774,23.22062196092028,23.358859208328806,23.540270230916,23.862540306693923,23.367418790461876,23.815852224834494,23.42804329136539,23.45405112909517,23.45405112909517,23.45405112909517,23.38126438094472,23.977019877801617,23.628406146495443,23.269362704218658,23.643646803883158,23.643646803883158,23.643646803883158,23.85662394208039,23.922692219048468,23.968982682329763,23.628406146495443,23.628406146495443,23.660553679672695,23.42762822813052,23.269362704218658,23.62267539820182,23.32790056395453,23.290210881397226,23.421458393117184,23.628406146495443,23.29799886062357,23.454976702685656,23.30855436431775,23.83285939784196,23.286721222709428,23.374375425934666,23.79255074630377,23.892400074465666,23.82723083568406,23.290210881397226,23.228844519257294,23.37819517378172,23.442791054844594,23.535874656126317,23.628406146495443,23.39353025171699,23.595354493244095,23.460868374474376,23.581877769388456,23.97412993966195,23.97412993966195,23.654822931379076,23.628406146495443,23.628406146495443,23.40711492149538,23.45467567782661,23.9021633300283,23.82908925580633,23.88981824753153,23.49749609478638,23.45405112909517,23.358593892408976,23.8071640202452,23.631146155826094,23.46366684925051,23.454976702685656,23.403057923010742,23.569340702322226,23.461110776101684,23.412419165239942,23.820573251432705,23.21360052723408,23.570302084272402,23.831806990534673,23.85085833278989,23.67372044579278,23.568409166241967,23.367095342422743,23.49413050725999,23.269543457154676,23.736428456515522,23.7178920588082,23.810514600538312,23.569340702322226,23.638938712252063,23.963251934036144,23.364737022398366,23.419553585901223,23.139094804682777,23.270836243718374,23.57634500953723,23.55902384715838,23.41566856590307,23.338555771305654,23.356274697273978,23.84189147468509,23.139094804682777,23.212280384436273,23.47394014622376],\"year\":[2017,2017,2017,2017,2017,2017,2017,2017,2017,2017,2017,2017,2017,2017,2017,2017,2017,2017,2017,2017,2017,2017,2017,2017,2017,2017,2017,2017,2017,2017,2017,2017,2017,2017,2017,2017,2017,2017,2017,2017,2017,2017,2017,2017,2017,2017,2017,2017,2017,2017,2017,2017,2017,2017,2017,2017,2017,2017,2017,2017,2017,2017,2017,2017,2017,2017,2017,2017,2017,2017,2017,2017,2017,2017,2017,2017,2017,2017,2017,2017,2017,2017,2017,2017,2017,2017,2017,2017,2017,2017,2017,2017,2017,2017,2017,2017,2017,2017,2017,2017,2017,2017,2017,2017,2017,2017,2017,2017,2017,2017,2017,2017,2017,2017,2017,2017,2017,2017,2017,2017,2017,2017,2017,2017,2017,2017,2017,2017,2017,2017,2017,2017,2017,2017,2017,2017,2017,2017,2017,2017,2017,2017,2017,2017,2017,2017,2017,2017,2017,2017,2017,2017,2017,2017,2017,2017,2017,2017,2017,2017,2017,2017,2017,2017,2017,2017,2017,2017,2017,2017,2017,2017,2017,2017,2017,2017,2017,2017,2017,2017,2017,2017,2017,2017,2017,2017,2017,2017,2017,2017,2017,2017,2017,2017,2017,2017,2017,2017,2017,2017,2017,2017,2017,2017,2017,2017,2017,2017,2017,2017,2017,2017,2017,2017,2017,2017,2017,2017,2017,2017,2017,2017,2017,2017,2017,2017,2017,2017,2017,2017,2017,2017,2017,2017,2017,2017,2017,2017,2017,2017,2017,2017,2017,2017,2017,2017,2017,2017,2017,2017,2017,2017,2017,2017,2017,2017,2017,2017,2017,2017,2017,2017,2017,2017,2017,2017,2017,2017,2017,2017,2017,2017,2017,2017,2017,2017,2017,2017,2017,2017,2017,2017,2017,2017,2017,2017,2017,2017,2017,2017,2017,2017,2017,2017,2017,2017,2017,2017,2017,2017,2017,2017,2017,2017,2017,2017,2017,2017,2017,2017,2017,2017,2017,2017,2017,2017,2017,2017,2017,2017,2017,2017,2017,2017,2017,2017,2017,2017,2017,2017,2017,2017,2017,2017,2017,2017,2017,2017,2017,2017,2017,2017,2017,2017,2017,2017,2017,2017,2017,2017,2017,2017,2017,2017,2017,2017,2017,2017,2017,2017,2017,2017,2017,2017,2017,2017,2017,2017,2017,2017,2017,2017,2017,2017,2017,2017,2017,2017,2017,2017,2017,2017,2017,2017,2017,2017,2017,2017,2017,2017,2017,2017,2017,2017,2017,2017,2017]},\"selected\":{\"id\":\"25401\"},\"selection_policy\":{\"id\":\"25400\"}},\"id\":\"25334\",\"type\":\"ColumnDataSource\"},{\"attributes\":{},\"id\":\"25498\",\"type\":\"BasicTickFormatter\"},{\"attributes\":{},\"id\":\"25500\",\"type\":\"BasicTickFormatter\"},{\"attributes\":{\"data_source\":{\"id\":\"25334\"},\"glyph\":{\"id\":\"25389\"},\"hover_glyph\":null,\"muted_glyph\":null,\"nonselection_glyph\":{\"id\":\"25390\"},\"selection_glyph\":null,\"view\":{\"id\":\"25392\"}},\"id\":\"25391\",\"type\":\"GlyphRenderer\"},{\"attributes\":{\"background_fill_alpha\":0.25,\"background_fill_color\":\"#20262B\",\"border_line_alpha\":0,\"glyph_width\":15,\"items\":[{\"id\":\"25454\"}],\"label_standoff\":8,\"label_text_color\":\"#E0E0E0\",\"label_text_font\":\"Helvetica\",\"label_text_font_size\":\"1.025em\",\"location\":\"top_left\",\"spacing\":8},\"id\":\"25453\",\"type\":\"Legend\"},{\"attributes\":{\"active_drag\":\"auto\",\"active_inspect\":\"auto\",\"active_multi\":null,\"active_scroll\":\"auto\",\"active_tap\":\"auto\",\"tools\":[{\"id\":\"25424\"},{\"id\":\"25425\"},{\"id\":\"25426\"},{\"id\":\"25427\"},{\"id\":\"25428\"},{\"id\":\"25429\"},{\"id\":\"25431\"}]},\"id\":\"25432\",\"type\":\"Toolbar\"},{\"attributes\":{},\"id\":\"25354\",\"type\":\"PanTool\"},{\"attributes\":{\"align\":\"center\",\"text\":\"Maximum and Average Magnitude by Year\",\"text_color\":{\"value\":\"#E0E0E0\"},\"text_font\":\"serif\",\"text_font_size\":{\"value\":\"20pt\"}},\"id\":\"25457\",\"type\":\"Title\"},{\"attributes\":{\"label\":{\"value\":\"Quakes 2016\"},\"renderers\":[{\"id\":\"25376\"}]},\"id\":\"25387\",\"type\":\"LegendItem\"},{\"attributes\":{\"source\":{\"id\":\"25404\"}},\"id\":\"25444\",\"type\":\"CDSView\"},{\"attributes\":{},\"id\":\"25501\",\"type\":\"UnionRenderers\"},{\"attributes\":{\"fill_alpha\":{\"value\":0.1},\"fill_color\":{\"value\":\"#cc0000\"},\"line_alpha\":{\"value\":0.1},\"line_color\":{\"value\":\"#cc0000\"},\"size\":{\"field\":\"mag_s\",\"units\":\"screen\"},\"x\":{\"field\":\"lon\"},\"y\":{\"field\":\"lat\"}},\"id\":\"25375\",\"type\":\"Circle\"},{\"attributes\":{},\"id\":\"25401\",\"type\":\"Selection\"},{\"attributes\":{},\"id\":\"25502\",\"type\":\"Selection\"},{\"attributes\":{},\"id\":\"25400\",\"type\":\"UnionRenderers\"},{\"attributes\":{\"fill_alpha\":{\"value\":7.0},\"fill_color\":{\"value\":\"#ccff33\"},\"line_alpha\":{\"value\":7.0},\"line_color\":{\"value\":\"#ccff33\"},\"size\":{\"field\":\"pred_mag_s\",\"units\":\"screen\"},\"x\":{\"field\":\"pred_long\"},\"y\":{\"field\":\"pred_lat\"}},\"id\":\"25389\",\"type\":\"Circle\"},{\"attributes\":{\"active_drag\":\"auto\",\"active_inspect\":\"auto\",\"active_multi\":null,\"active_scroll\":\"auto\",\"active_tap\":\"auto\",\"tools\":[{\"id\":\"25354\"},{\"id\":\"25355\"},{\"id\":\"25356\"},{\"id\":\"25357\"},{\"id\":\"25358\"},{\"id\":\"25359\"},{\"id\":\"25361\"}]},\"id\":\"25362\",\"type\":\"Toolbar\"},{\"attributes\":{},\"id\":\"25447\",\"type\":\"BasicTickFormatter\"},{\"attributes\":{},\"id\":\"25465\",\"type\":\"LinearScale\"},{\"attributes\":{\"source\":{\"id\":\"25333\"}},\"id\":\"25377\",\"type\":\"CDSView\"},{\"attributes\":{\"fill_color\":{\"value\":\"#cc0000\"},\"line_color\":{\"value\":\"#cc0000\"},\"top\":{\"field\":\"numQuakes\"},\"width\":{\"value\":0.75},\"x\":{\"field\":\"yrs\"}},\"id\":\"25441\",\"type\":\"VBar\"},{\"attributes\":{},\"id\":\"25449\",\"type\":\"BasicTickFormatter\"},{\"attributes\":{\"background_fill_color\":\"#20262B\",\"below\":[{\"id\":\"25416\"}],\"border_fill_color\":\"#15191C\",\"center\":[{\"id\":\"25419\"},{\"id\":\"25423\"},{\"id\":\"25453\"}],\"left\":[{\"id\":\"25420\"}],\"outline_line_alpha\":0.25,\"outline_line_color\":\"#E0E0E0\",\"plot_height\":400,\"plot_width\":1150,\"renderers\":[{\"id\":\"25443\"}],\"title\":{\"id\":\"25406\"},\"toolbar\":{\"id\":\"25432\"},\"toolbar_location\":null,\"x_range\":{\"id\":\"25408\"},\"x_scale\":{\"id\":\"25412\"},\"y_range\":{\"id\":\"25410\"},\"y_scale\":{\"id\":\"25414\"}},\"id\":\"25405\",\"subtype\":\"Figure\",\"type\":\"Plot\"},{\"attributes\":{\"data\":{\"numQuakes\":[150,148,187,211,147,196,175,176,158,196,183,202,215,106,198,144,118,148,98,227,103,168,114,135,154,177,242,156,210,142,182,228,213,164,205,120,178,157,190,177,230,161,213,117,211,175,173,360,214,170,182,197],\"yrs\":[1975,1977,2003,2007,1974,1990,2015,2006,1978,1988,1997,2013,1994,1968,2014,1973,1979,1971,1966,2004,1967,1991,1969,1982,1998,1989,1996,1965,1985,1970,2012,2009,1987,2016,1995,1980,1972,2001,1992,1983,2005,1984,2000,1981,2010,1986,1976,2011,2008,1999,2002,1993]},\"selected\":{\"id\":\"25451\"},\"selection_policy\":{\"id\":\"25450\"}},\"id\":\"25404\",\"type\":\"ColumnDataSource\"},{\"attributes\":{\"align\":\"center\",\"text\":\"Frequency of Earthquakes by Year\",\"text_color\":{\"value\":\"#E0E0E0\"},\"text_font\":\"serif\",\"text_font_size\":{\"value\":\"20pt\"}},\"id\":\"25406\",\"type\":\"Title\"},{\"attributes\":{\"data_source\":{\"id\":\"25333\"},\"glyph\":{\"id\":\"25374\"},\"hover_glyph\":null,\"muted_glyph\":null,\"nonselection_glyph\":{\"id\":\"25375\"},\"selection_glyph\":null,\"view\":{\"id\":\"25377\"}},\"id\":\"25376\",\"type\":\"GlyphRenderer\"},{\"attributes\":{\"fill_alpha\":{\"value\":0.1},\"fill_color\":{\"value\":\"#cc0000\"},\"line_alpha\":{\"value\":0.1},\"line_color\":{\"value\":\"#cc0000\"},\"size\":{\"units\":\"screen\",\"value\":8},\"x\":{\"field\":\"yrs\"},\"y\":{\"field\":\"max_mag\"}},\"id\":\"25508\",\"type\":\"Circle\"},{\"attributes\":{\"background_fill_alpha\":0.8,\"background_fill_color\":\"black\",\"border_line_alpha\":0,\"click_policy\":\"hide\",\"glyph_width\":15,\"items\":[{\"id\":\"25387\"},{\"id\":\"25403\"}],\"label_standoff\":8,\"label_text_color\":\"white\",\"label_text_font\":\"Helvetica\",\"label_text_font_size\":\"1.025em\",\"location\":\"top_left\",\"spacing\":8},\"id\":\"25386\",\"type\":\"Legend\"},{\"attributes\":{},\"id\":\"25408\",\"type\":\"DataRange1d\"},{\"attributes\":{\"line_color\":\"yellow\",\"line_width\":2,\"x\":{\"field\":\"yrs\"},\"y\":{\"field\":\"avg_mag\"}},\"id\":\"25512\",\"type\":\"Line\"},{\"attributes\":{\"end\":460},\"id\":\"25410\",\"type\":\"Range1d\"},{\"attributes\":{\"fill_alpha\":{\"value\":0.7},\"fill_color\":{\"value\":\"#cc0000\"},\"line_alpha\":{\"value\":0.7},\"line_color\":{\"value\":\"#cc0000\"},\"size\":{\"field\":\"mag_s\",\"units\":\"screen\"},\"x\":{\"field\":\"lon\"},\"y\":{\"field\":\"lat\"}},\"id\":\"25374\",\"type\":\"Circle\"},{\"attributes\":{\"label\":{\"value\":\"Max Magnitude\"},\"renderers\":[{\"id\":\"25494\"}]},\"id\":\"25505\",\"type\":\"LegendItem\"},{\"attributes\":{\"axis_label\":\"Years\",\"axis_label_standoff\":10,\"axis_label_text_color\":\"#E0E0E0\",\"axis_label_text_font\":\"Helvetica\",\"axis_label_text_font_size\":\"14pt\",\"axis_label_text_font_style\":\"bold\",\"axis_line_alpha\":0,\"axis_line_color\":\"#E0E0E0\",\"formatter\":{\"id\":\"25449\"},\"major_label_text_color\":\"#E0E0E0\",\"major_label_text_font\":\"Helvetica\",\"major_label_text_font_size\":\"12pt\",\"major_tick_line_alpha\":0,\"major_tick_line_color\":\"#E0E0E0\",\"minor_tick_line_alpha\":0,\"minor_tick_line_color\":\"#E0E0E0\",\"ticker\":{\"id\":\"25417\"}},\"id\":\"25416\",\"type\":\"LinearAxis\"},{\"attributes\":{},\"id\":\"25412\",\"type\":\"LinearScale\"},{\"attributes\":{\"fill_color\":{\"value\":\"#cc0000\"},\"line_color\":{\"value\":\"#cc0000\"},\"size\":{\"units\":\"screen\",\"value\":8},\"x\":{\"field\":\"yrs\"},\"y\":{\"field\":\"max_mag\"}},\"id\":\"25507\",\"type\":\"Circle\"},{\"attributes\":{\"axis\":{\"id\":\"25346\"},\"grid_line_alpha\":0.25,\"grid_line_color\":null,\"ticker\":null},\"id\":\"25349\",\"type\":\"Grid\"},{\"attributes\":{\"num_minor_ticks\":2},\"id\":\"25417\",\"type\":\"BasicTicker\"},{\"attributes\":{},\"id\":\"25414\",\"type\":\"LinearScale\"},{\"attributes\":{\"axis\":{\"id\":\"25416\"},\"grid_line_alpha\":0.25,\"grid_line_color\":\"#E0E0E0\",\"ticker\":null},\"id\":\"25419\",\"type\":\"Grid\"},{\"attributes\":{\"source\":{\"id\":\"25455\"}},\"id\":\"25510\",\"type\":\"CDSView\"},{\"attributes\":{},\"id\":\"25380\",\"type\":\"BasicTickFormatter\"},{\"attributes\":{\"axis_label\":\"Number of Occurances\",\"axis_label_standoff\":10,\"axis_label_text_color\":\"#E0E0E0\",\"axis_label_text_font\":\"Helvetica\",\"axis_label_text_font_size\":\"14pt\",\"axis_label_text_font_style\":\"bold\",\"axis_line_alpha\":0,\"axis_line_color\":\"#E0E0E0\",\"formatter\":{\"id\":\"25447\"},\"major_label_text_color\":\"#E0E0E0\",\"major_label_text_font\":\"Helvetica\",\"major_label_text_font_size\":\"12pt\",\"major_tick_line_alpha\":0,\"major_tick_line_color\":\"#E0E0E0\",\"minor_tick_line_alpha\":0,\"minor_tick_line_color\":\"#E0E0E0\",\"ticker\":{\"id\":\"25421\"}},\"id\":\"25420\",\"type\":\"LinearAxis\"},{\"attributes\":{},\"id\":\"25421\",\"type\":\"BasicTicker\"},{\"attributes\":{\"axis\":{\"id\":\"25420\"},\"dimension\":1,\"grid_line_alpha\":0.25,\"grid_line_color\":\"#E0E0E0\",\"ticker\":null},\"id\":\"25423\",\"type\":\"Grid\"},{\"attributes\":{},\"id\":\"25382\",\"type\":\"BasicTickFormatter\"},{\"attributes\":{},\"id\":\"25355\",\"type\":\"WheelZoomTool\"},{\"attributes\":{},\"id\":\"25425\",\"type\":\"WheelZoomTool\"},{\"attributes\":{\"data_source\":{\"id\":\"25455\"},\"glyph\":{\"id\":\"25507\"},\"hover_glyph\":null,\"muted_glyph\":null,\"nonselection_glyph\":{\"id\":\"25508\"},\"selection_glyph\":null,\"view\":{\"id\":\"25510\"}},\"id\":\"25509\",\"type\":\"GlyphRenderer\"},{\"attributes\":{\"callback\":null,\"tooltips\":[[\"Year\",\" @yrs\"],[\"Number of earthquakes\",\" @numQuakes\"]]},\"id\":\"25431\",\"type\":\"HoverTool\"},{\"attributes\":{\"axis_label\":null,\"axis_label_standoff\":10,\"axis_label_text_color\":\"#E0E0E0\",\"axis_label_text_font\":\"Helvetica\",\"axis_label_text_font_size\":\"14pt\",\"axis_label_text_font_style\":\"bold\",\"axis_line_alpha\":0,\"axis_line_color\":\"#E0E0E0\",\"formatter\":{\"id\":\"25380\"},\"major_label_text_color\":\"#E0E0E0\",\"major_label_text_font\":\"Helvetica\",\"major_label_text_font_size\":\"12pt\",\"major_tick_line_alpha\":0,\"major_tick_line_color\":\"#E0E0E0\",\"minor_tick_line_alpha\":0,\"minor_tick_line_color\":\"#E0E0E0\",\"ticker\":{\"id\":\"25351\"},\"visible\":false},\"id\":\"25350\",\"type\":\"LinearAxis\"},{\"attributes\":{\"data_source\":{\"id\":\"25455\"},\"glyph\":{\"id\":\"25512\"},\"hover_glyph\":null,\"muted_glyph\":null,\"nonselection_glyph\":{\"id\":\"25513\"},\"selection_glyph\":null,\"view\":{\"id\":\"25515\"}},\"id\":\"25514\",\"type\":\"GlyphRenderer\"},{\"attributes\":{},\"id\":\"25424\",\"type\":\"PanTool\"},{\"attributes\":{\"line_alpha\":0.1,\"line_color\":\"yellow\",\"line_width\":2,\"x\":{\"field\":\"yrs\"},\"y\":{\"field\":\"avg_mag\"}},\"id\":\"25513\",\"type\":\"Line\"},{\"attributes\":{\"end\":10.1,\"start\":5},\"id\":\"25461\",\"type\":\"Range1d\"},{\"attributes\":{},\"id\":\"25429\",\"type\":\"HelpTool\"},{\"attributes\":{\"axis\":{\"id\":\"25350\"},\"dimension\":1,\"grid_line_alpha\":0.25,\"grid_line_color\":null,\"ticker\":null},\"id\":\"25353\",\"type\":\"Grid\"},{\"attributes\":{\"source\":{\"id\":\"25455\"}},\"id\":\"25515\",\"type\":\"CDSView\"},{\"attributes\":{\"overlay\":{\"id\":\"25430\"}},\"id\":\"25426\",\"type\":\"BoxZoomTool\"},{\"attributes\":{\"label\":{\"value\":\"Avg Magnitude\"},\"renderers\":[{\"id\":\"25514\"}]},\"id\":\"25524\",\"type\":\"LegendItem\"},{\"attributes\":{},\"id\":\"25427\",\"type\":\"SaveTool\"},{\"attributes\":{},\"id\":\"25351\",\"type\":\"BasicTicker\"},{\"attributes\":{},\"id\":\"25428\",\"type\":\"ResetTool\"},{\"attributes\":{\"callback\":null,\"tooltips\":[[\"Year\",\" @yrs\"],[\"Average Magnitude\",\" @avg_mag\"],[\"Maximum Magnitude\",\" @max_mag\"]]},\"id\":\"25482\",\"type\":\"HoverTool\"},{\"attributes\":{},\"id\":\"25347\",\"type\":\"BasicTicker\"},{\"attributes\":{},\"id\":\"25359\",\"type\":\"HelpTool\"},{\"attributes\":{\"axis\":{\"id\":\"25471\"},\"dimension\":1,\"grid_line_alpha\":0.25,\"grid_line_color\":\"#E0E0E0\",\"ticker\":null},\"id\":\"25474\",\"type\":\"Grid\"},{\"attributes\":{\"axis\":{\"id\":\"25467\"},\"grid_line_alpha\":0.25,\"grid_line_color\":\"#E0E0E0\",\"ticker\":null},\"id\":\"25470\",\"type\":\"Grid\"},{\"attributes\":{\"axis_label\":\"Magnitude\",\"axis_label_standoff\":10,\"axis_label_text_color\":\"#E0E0E0\",\"axis_label_text_font\":\"Helvetica\",\"axis_label_text_font_size\":\"14pt\",\"axis_label_text_font_style\":\"bold\",\"axis_line_alpha\":0,\"axis_line_color\":\"#E0E0E0\",\"formatter\":{\"id\":\"25498\"},\"major_label_text_color\":\"#E0E0E0\",\"major_label_text_font\":\"Helvetica\",\"major_label_text_font_size\":\"12pt\",\"major_tick_line_alpha\":0,\"major_tick_line_color\":\"#E0E0E0\",\"minor_tick_line_alpha\":0,\"minor_tick_line_color\":\"#E0E0E0\",\"ticker\":{\"id\":\"25472\"}},\"id\":\"25471\",\"type\":\"LinearAxis\"},{\"attributes\":{},\"id\":\"25476\",\"type\":\"WheelZoomTool\"},{\"attributes\":{},\"id\":\"25344\",\"type\":\"LinearScale\"},{\"attributes\":{},\"id\":\"25475\",\"type\":\"PanTool\"},{\"attributes\":{},\"id\":\"25342\",\"type\":\"LinearScale\"},{\"attributes\":{},\"id\":\"25472\",\"type\":\"BasicTicker\"},{\"attributes\":{},\"id\":\"25478\",\"type\":\"SaveTool\"},{\"attributes\":{\"num_minor_ticks\":2},\"id\":\"25468\",\"type\":\"BasicTicker\"},{\"attributes\":{\"axis_label\":null,\"axis_label_standoff\":10,\"axis_label_text_color\":\"#E0E0E0\",\"axis_label_text_font\":\"Helvetica\",\"axis_label_text_font_size\":\"14pt\",\"axis_label_text_font_style\":\"bold\",\"axis_line_alpha\":0,\"axis_line_color\":\"#E0E0E0\",\"formatter\":{\"id\":\"25382\"},\"major_label_text_color\":\"#E0E0E0\",\"major_label_text_font\":\"Helvetica\",\"major_label_text_font_size\":\"12pt\",\"major_tick_line_alpha\":0,\"major_tick_line_color\":\"#E0E0E0\",\"minor_tick_line_alpha\":0,\"minor_tick_line_color\":\"#E0E0E0\",\"ticker\":{\"id\":\"25347\"},\"visible\":false},\"id\":\"25346\",\"type\":\"LinearAxis\"},{\"attributes\":{},\"id\":\"25450\",\"type\":\"UnionRenderers\"},{\"attributes\":{},\"id\":\"25463\",\"type\":\"LinearScale\"},{\"attributes\":{\"axis_label\":\"Years\",\"axis_label_standoff\":10,\"axis_label_text_color\":\"#E0E0E0\",\"axis_label_text_font\":\"Helvetica\",\"axis_label_text_font_size\":\"14pt\",\"axis_label_text_font_style\":\"bold\",\"axis_line_alpha\":0,\"axis_line_color\":\"#E0E0E0\",\"formatter\":{\"id\":\"25500\"},\"major_label_text_color\":\"#E0E0E0\",\"major_label_text_font\":\"Helvetica\",\"major_label_text_font_size\":\"12pt\",\"major_tick_line_alpha\":0,\"major_tick_line_color\":\"#E0E0E0\",\"minor_tick_line_alpha\":0,\"minor_tick_line_color\":\"#E0E0E0\",\"ticker\":{\"id\":\"25468\"}},\"id\":\"25467\",\"type\":\"LinearAxis\"},{\"attributes\":{\"fill_alpha\":{\"value\":0.1},\"fill_color\":{\"value\":\"#cc0000\"},\"line_alpha\":{\"value\":0.1},\"line_color\":{\"value\":\"#cc0000\"},\"top\":{\"field\":\"numQuakes\"},\"width\":{\"value\":0.75},\"x\":{\"field\":\"yrs\"}},\"id\":\"25442\",\"type\":\"VBar\"},{\"attributes\":{},\"id\":\"25451\",\"type\":\"Selection\"},{\"attributes\":{\"overlay\":{\"id\":\"25360\"}},\"id\":\"25356\",\"type\":\"BoxZoomTool\"},{\"attributes\":{},\"id\":\"25459\",\"type\":\"DataRange1d\"},{\"attributes\":{\"background_fill_color\":\"#20262B\",\"below\":[{\"id\":\"25346\"}],\"border_fill_color\":\"#15191C\",\"center\":[{\"id\":\"25349\"},{\"id\":\"25353\"},{\"id\":\"25386\"}],\"left\":[{\"id\":\"25350\"}],\"outline_line_alpha\":0.25,\"outline_line_color\":\"#E0E0E0\",\"plot_height\":450,\"plot_width\":2300,\"renderers\":[{\"id\":\"25371\"},{\"id\":\"25376\"},{\"id\":\"25391\"}],\"title\":{\"id\":\"25336\"},\"toolbar\":{\"id\":\"25362\"},\"toolbar_location\":null,\"x_range\":{\"id\":\"25338\"},\"x_scale\":{\"id\":\"25342\"},\"y_range\":{\"id\":\"25340\"},\"y_scale\":{\"id\":\"25344\"}},\"id\":\"25335\",\"subtype\":\"Figure\",\"type\":\"Plot\"},{\"attributes\":{\"overlay\":{\"id\":\"25481\"}},\"id\":\"25477\",\"type\":\"BoxZoomTool\"},{\"attributes\":{\"fill_alpha\":{\"value\":0.1},\"fill_color\":{\"value\":\"#ccff33\"},\"line_alpha\":{\"value\":0.1},\"line_color\":{\"value\":\"#ccff33\"},\"size\":{\"field\":\"pred_mag_s\",\"units\":\"screen\"},\"x\":{\"field\":\"pred_long\"},\"y\":{\"field\":\"pred_lat\"}},\"id\":\"25390\",\"type\":\"Circle\"},{\"attributes\":{},\"id\":\"25358\",\"type\":\"ResetTool\"},{\"attributes\":{\"callback\":null,\"tooltips\":[[\"Year\",\" @year\"],[\"Magnitude\",\" @mag\"],[\"Predicted Magnitude\",\" @pred_mag\"]]},\"id\":\"25361\",\"type\":\"HoverTool\"},{\"attributes\":{},\"id\":\"25357\",\"type\":\"SaveTool\"},{\"attributes\":{\"bottom_units\":\"screen\",\"fill_alpha\":0.5,\"fill_color\":\"lightgrey\",\"left_units\":\"screen\",\"level\":\"overlay\",\"line_alpha\":1.0,\"line_color\":\"black\",\"line_dash\":[4,4],\"line_width\":2,\"right_units\":\"screen\",\"top_units\":\"screen\"},\"id\":\"25430\",\"type\":\"BoxAnnotation\"},{\"attributes\":{\"end\":6000000,\"start\":-2000000},\"id\":\"25338\",\"type\":\"Range1d\"},{\"attributes\":{\"label\":{\"value\":\"Predicted Quakes 2017\"},\"renderers\":[{\"id\":\"25391\"}]},\"id\":\"25403\",\"type\":\"LegendItem\"},{\"attributes\":{\"data_source\":{\"id\":\"25404\"},\"glyph\":{\"id\":\"25441\"},\"hover_glyph\":null,\"muted_glyph\":null,\"nonselection_glyph\":{\"id\":\"25442\"},\"selection_glyph\":null,\"view\":{\"id\":\"25444\"}},\"id\":\"25443\",\"type\":\"GlyphRenderer\"},{\"attributes\":{\"source\":{\"id\":\"25334\"}},\"id\":\"25392\",\"type\":\"CDSView\"},{\"attributes\":{\"end\":7000000,\"start\":-1000000},\"id\":\"25340\",\"type\":\"Range1d\"},{\"attributes\":{\"data\":{\"avg_mag\":[5.8,5.8,5.9,5.9,5.9,5.9,5.8,5.8,5.8,5.9,5.8,5.9,5.9,6.1,5.9,5.8,5.8,6.0,6.1,5.9,6.0,5.9,6.0,5.8,5.9,5.8,5.9,6.0,5.9,6.0,5.9,5.9,5.9,5.9,5.9,5.8,5.9,5.9,5.9,5.9,5.9,5.8,5.9,5.8,5.9,5.8,5.8,5.9,5.9,5.9,5.9,5.9],\"max_mag\":[7.8,7.6,7.6,8.4,7.6,7.6,7.5,8.0,7.7,7.8,7.8,8.0,8.3,7.6,8.2,7.4,7.9,7.8,7.7,7.5,7.2,7.1,7.5,7.1,7.5,7.4,7.9,8.7,8.0,7.4,8.6,7.8,7.6,7.8,8.0,7.5,8.0,7.6,7.8,7.4,7.6,7.6,7.9,7.7,7.8,8.0,7.5,9.1,7.9,7.4,7.9,7.8],\"yrs\":[1975,1977,2003,2007,1974,1990,2015,2006,1978,1988,1997,2013,1994,1968,2014,1973,1979,1971,1966,2004,1967,1991,1969,1982,1998,1989,1996,1965,1985,1970,2012,2009,1987,2016,1995,1980,1972,2001,1992,1983,2005,1984,2000,1981,2010,1986,1976,2011,2008,1999,2002,1993]},\"selected\":{\"id\":\"25502\"},\"selection_policy\":{\"id\":\"25501\"}},\"id\":\"25455\",\"type\":\"ColumnDataSource\"},{\"attributes\":{\"label\":{\"value\":\"Year\"},\"renderers\":[{\"id\":\"25443\"}]},\"id\":\"25454\",\"type\":\"LegendItem\"},{\"attributes\":{\"background_fill_color\":\"#20262B\",\"below\":[{\"id\":\"25467\"}],\"border_fill_color\":\"#15191C\",\"center\":[{\"id\":\"25470\"},{\"id\":\"25474\"},{\"id\":\"25504\"}],\"left\":[{\"id\":\"25471\"}],\"outline_line_alpha\":0.25,\"outline_line_color\":\"#E0E0E0\",\"plot_height\":400,\"plot_width\":1150,\"renderers\":[{\"id\":\"25494\"},{\"id\":\"25509\"},{\"id\":\"25514\"},{\"id\":\"25528\"}],\"title\":{\"id\":\"25457\"},\"toolbar\":{\"id\":\"25483\"},\"toolbar_location\":null,\"x_range\":{\"id\":\"25459\"},\"x_scale\":{\"id\":\"25463\"},\"y_range\":{\"id\":\"25461\"},\"y_scale\":{\"id\":\"25465\"}},\"id\":\"25456\",\"subtype\":\"Figure\",\"type\":\"Plot\"},{\"attributes\":{\"data_source\":{\"id\":\"25455\"},\"glyph\":{\"id\":\"25492\"},\"hover_glyph\":null,\"muted_glyph\":null,\"nonselection_glyph\":{\"id\":\"25493\"},\"selection_glyph\":null,\"view\":{\"id\":\"25495\"}},\"id\":\"25494\",\"type\":\"GlyphRenderer\"}],\"root_ids\":[\"25562\"]},\"title\":\"Bokeh Application\",\"version\":\"2.1.1\"}};\n",
       "  var render_items = [{\"docid\":\"7fe2c8c6-aa0e-4623-a77f-c21425120710\",\"root_ids\":[\"25562\"],\"roots\":{\"25562\":\"0315b2d8-9bac-4e9d-b44e-cb90c23c79ed\"}}];\n",
       "  root.Bokeh.embed.embed_items_notebook(docs_json, render_items);\n",
       "\n",
       "  }\n",
       "  if (root.Bokeh !== undefined) {\n",
       "    embed_document(root);\n",
       "  } else {\n",
       "    var attempts = 0;\n",
       "    var timer = setInterval(function(root) {\n",
       "      if (root.Bokeh !== undefined) {\n",
       "        clearInterval(timer);\n",
       "        embed_document(root);\n",
       "      } else {\n",
       "        attempts++;\n",
       "        if (attempts > 100) {\n",
       "          clearInterval(timer);\n",
       "          console.log(\"Bokeh: ERROR: Unable to run BokehJS code because BokehJS library is missing\");\n",
       "        }\n",
       "      }\n",
       "    }, 10, root)\n",
       "  }\n",
       "})(window);"
      ],
      "application/vnd.bokehjs_exec.v0+json": ""
     },
     "metadata": {
      "application/vnd.bokehjs_exec.v0+json": {
       "id": "25562"
      }
     },
     "output_type": "display_data"
    }
   ],
   "source": [
    "# Build the grid plot\n",
    "from bokeh.layouts import gridplot\n",
    "\n",
    "# Make the grid\n",
    "#grid = gridplot([[plotBar(), plotMagnitude()],[plotMap()]], plot_width=1000, plot_height=500)\n",
    "grid = gridplot([[plotMap()], [plotBar(), plotMagnitude()]])\n",
    "\n",
    "#grid = gridplot([[plotMap()], [plotBar()], [plotMagnitude()]])\n",
    "\n",
    "# Shor the grid\n",
    "show(grid)"
   ]
  },
  {
   "cell_type": "code",
   "execution_count": 134,
   "metadata": {
    "scrolled": true
   },
   "outputs": [
    {
     "data": {
      "text/html": [
       "<div style=\"display: table;\"><div style=\"display: table-row;\"><div style=\"display: table-cell;\"><b title=\"bokeh.models.renderers.GlyphRenderer\">GlyphRenderer</b>(</div><div style=\"display: table-cell;\">id&nbsp;=&nbsp;'26747', <span id=\"26750\" style=\"cursor: pointer;\">&hellip;)</span></div></div><div class=\"26749\" style=\"display: none;\"><div style=\"display: table-cell;\"></div><div style=\"display: table-cell;\">data_source&nbsp;=&nbsp;ColumnDataSource(id='26744', ...),</div></div><div class=\"26749\" style=\"display: none;\"><div style=\"display: table-cell;\"></div><div style=\"display: table-cell;\">glyph&nbsp;=&nbsp;Square(id='26745', ...),</div></div><div class=\"26749\" style=\"display: none;\"><div style=\"display: table-cell;\"></div><div style=\"display: table-cell;\">hover_glyph&nbsp;=&nbsp;None,</div></div><div class=\"26749\" style=\"display: none;\"><div style=\"display: table-cell;\"></div><div style=\"display: table-cell;\">js_event_callbacks&nbsp;=&nbsp;{},</div></div><div class=\"26749\" style=\"display: none;\"><div style=\"display: table-cell;\"></div><div style=\"display: table-cell;\">js_property_callbacks&nbsp;=&nbsp;{},</div></div><div class=\"26749\" style=\"display: none;\"><div style=\"display: table-cell;\"></div><div style=\"display: table-cell;\">level&nbsp;=&nbsp;'glyph',</div></div><div class=\"26749\" style=\"display: none;\"><div style=\"display: table-cell;\"></div><div style=\"display: table-cell;\">muted&nbsp;=&nbsp;False,</div></div><div class=\"26749\" style=\"display: none;\"><div style=\"display: table-cell;\"></div><div style=\"display: table-cell;\">muted_glyph&nbsp;=&nbsp;None,</div></div><div class=\"26749\" style=\"display: none;\"><div style=\"display: table-cell;\"></div><div style=\"display: table-cell;\">name&nbsp;=&nbsp;None,</div></div><div class=\"26749\" style=\"display: none;\"><div style=\"display: table-cell;\"></div><div style=\"display: table-cell;\">nonselection_glyph&nbsp;=&nbsp;Square(id='26746', ...),</div></div><div class=\"26749\" style=\"display: none;\"><div style=\"display: table-cell;\"></div><div style=\"display: table-cell;\">selection_glyph&nbsp;=&nbsp;None,</div></div><div class=\"26749\" style=\"display: none;\"><div style=\"display: table-cell;\"></div><div style=\"display: table-cell;\">subscribed_events&nbsp;=&nbsp;[],</div></div><div class=\"26749\" style=\"display: none;\"><div style=\"display: table-cell;\"></div><div style=\"display: table-cell;\">tags&nbsp;=&nbsp;[],</div></div><div class=\"26749\" style=\"display: none;\"><div style=\"display: table-cell;\"></div><div style=\"display: table-cell;\">view&nbsp;=&nbsp;CDSView(id='26748', ...),</div></div><div class=\"26749\" style=\"display: none;\"><div style=\"display: table-cell;\"></div><div style=\"display: table-cell;\">visible&nbsp;=&nbsp;True,</div></div><div class=\"26749\" style=\"display: none;\"><div style=\"display: table-cell;\"></div><div style=\"display: table-cell;\">x_range_name&nbsp;=&nbsp;'default',</div></div><div class=\"26749\" style=\"display: none;\"><div style=\"display: table-cell;\"></div><div style=\"display: table-cell;\">y_range_name&nbsp;=&nbsp;'default')</div></div></div>\n",
       "<script>\n",
       "(function() {\n",
       "  var expanded = false;\n",
       "  var ellipsis = document.getElementById(\"26750\");\n",
       "  ellipsis.addEventListener(\"click\", function() {\n",
       "    var rows = document.getElementsByClassName(\"26749\");\n",
       "    for (var i = 0; i < rows.length; i++) {\n",
       "      var el = rows[i];\n",
       "      el.style.display = expanded ? \"none\" : \"table-row\";\n",
       "    }\n",
       "    ellipsis.innerHTML = expanded ? \"&hellip;)\" : \"&lsaquo;&lsaquo;&lsaquo;\";\n",
       "    expanded = !expanded;\n",
       "  });\n",
       "})();\n",
       "</script>\n"
      ],
      "text/plain": [
       "GlyphRenderer(id='26747', ...)"
      ]
     },
     "execution_count": 134,
     "metadata": {},
     "output_type": "execute_result"
    }
   ],
   "source": [
    "from bokeh.io import output_file, show\n",
    "from bokeh.layouts import row\n",
    "from bokeh.plotting import figure\n",
    "\n",
    "output_file(\"layout.html\")\n",
    "\n",
    "x = list(range(11))\n",
    "y0 = x\n",
    "y1 = [10 - i for i in x]\n",
    "y2 = [i - 5 for i in x]\n",
    "\n",
    "# create three plots\n",
    "s1 = figure(plot_width=250, plot_height=250, background_fill_color=\"#fafafa\")\n",
    "s1.circle(x, y0, size=12, color=\"#53777a\", alpha=0.8)\n",
    "\n",
    "s2 = figure(plot_width=250, plot_height=250, background_fill_color=\"#fafafa\")\n",
    "s2.triangle(x, y1, size=12, color=\"#c02942\", alpha=0.8)\n",
    "\n",
    "s3 = figure(plot_width=250, plot_height=250, background_fill_color=\"#fafafa\")\n",
    "s3.square(x, y2, size=12, color=\"#d95b43\", alpha=0.8)\n",
    "\n",
    "# put the results in a row and show\n",
    "#show(column(s1, s2, s3))\n"
   ]
  },
  {
   "cell_type": "code",
   "execution_count": 139,
   "metadata": {},
   "outputs": [
    {
     "ename": "TypeError",
     "evalue": "'Column' object is not callable",
     "output_type": "error",
     "traceback": [
      "\u001b[0;31m---------------------------------------------------------------------------\u001b[0m",
      "\u001b[0;31mTypeError\u001b[0m                                 Traceback (most recent call last)",
      "\u001b[0;32m<ipython-input-139-5f2e865decc3>\u001b[0m in \u001b[0;36m<module>\u001b[0;34m\u001b[0m\n\u001b[0;32m----> 1\u001b[0;31m \u001b[0mgrid\u001b[0m\u001b[0;34m(\u001b[0m\u001b[0;34m[\u001b[0m\u001b[0ms1\u001b[0m\u001b[0;34m,\u001b[0m \u001b[0ms2\u001b[0m\u001b[0;34m,\u001b[0m \u001b[0ms3\u001b[0m\u001b[0;34m]\u001b[0m\u001b[0;34m,\u001b[0m \u001b[0mncols\u001b[0m\u001b[0;34m=\u001b[0m\u001b[0;36m2\u001b[0m\u001b[0;34m)\u001b[0m\u001b[0;34m\u001b[0m\u001b[0;34m\u001b[0m\u001b[0m\n\u001b[0m",
      "\u001b[0;31mTypeError\u001b[0m: 'Column' object is not callable"
     ]
    }
   ],
   "source": [
    "grid([s1, s2, s3], ncols=2)\n"
   ]
  },
  {
   "cell_type": "code",
   "execution_count": null,
   "metadata": {},
   "outputs": [],
   "source": []
  },
  {
   "cell_type": "code",
   "execution_count": null,
   "metadata": {},
   "outputs": [],
   "source": []
  },
  {
   "cell_type": "code",
   "execution_count": 104,
   "metadata": {},
   "outputs": [
    {
     "data": {
      "text/plain": [
       "['hi', '123']"
      ]
     },
     "execution_count": 104,
     "metadata": {},
     "output_type": "execute_result"
    }
   ],
   "source": [
    "l = 'hi=123'\n",
    "l.split('=')"
   ]
  },
  {
   "cell_type": "code",
   "execution_count": 141,
   "metadata": {},
   "outputs": [
    {
     "data": {
      "text/plain": [
       "[2, 3]"
      ]
     },
     "execution_count": 141,
     "metadata": {},
     "output_type": "execute_result"
    }
   ],
   "source": [
    "l"
   ]
  },
  {
   "cell_type": "code",
   "execution_count": null,
   "metadata": {},
   "outputs": [],
   "source": []
  }
 ],
 "metadata": {
  "kernelspec": {
   "display_name": "Python 3",
   "language": "python",
   "name": "python3"
  },
  "language_info": {
   "codemirror_mode": {
    "name": "ipython",
    "version": 3
   },
   "file_extension": ".py",
   "mimetype": "text/x-python",
   "name": "python",
   "nbconvert_exporter": "python",
   "pygments_lexer": "ipython3",
   "version": "3.8.3"
  }
 },
 "nbformat": 4,
 "nbformat_minor": 4
}
